{
 "cells": [
  {
   "cell_type": "markdown",
   "id": "9abe60e5",
   "metadata": {},
   "source": [
    "# 0.0. IMPORTS"
   ]
  },
  {
   "cell_type": "code",
   "execution_count": 272,
   "id": "c48b7a03",
   "metadata": {
    "ExecuteTime": {
     "end_time": "2021-08-18T11:38:05.877041Z",
     "start_time": "2021-08-18T11:38:02.552129Z"
    }
   },
   "outputs": [],
   "source": [
    "import inflection\n",
    "import math\n",
    "import datetime \n",
    "import numpy             as np\n",
    "import matplotlib.pyplot as plt\n",
    "import matplotlib as mpl\n",
    "from matplotlib.ticker import MultipleLocator, FormatStrFormatter, MaxNLocator\n",
    "import pandas            as pd\n",
    "import seaborn           as sns\n",
    "from scipy import stats as ss\n",
    "import pickle\n",
    "from boruta import BorutaPy\n",
    "import xgboost as xgb\n",
    "from IPython.core.display import HTML\n",
    "from IPython.display import Image\n",
    "import json\n",
    "import requests\n",
    "\n",
    "from sklearn.metrics import mean_absolute_error, mean_squared_error\n",
    "from sklearn.ensemble import RandomForestRegressor\n",
    "from sklearn.linear_model import LinearRegression, Lasso\n",
    "from sklearn.preprocessing import RobustScaler, MinMaxScaler, LabelEncoder"
   ]
  },
  {
   "cell_type": "markdown",
   "id": "daad7eb0",
   "metadata": {
    "heading_collapsed": true
   },
   "source": [
    "## 0.1. Helper Functions"
   ]
  },
  {
   "cell_type": "code",
   "execution_count": 273,
   "id": "bfbdc87c",
   "metadata": {
    "ExecuteTime": {
     "end_time": "2021-08-18T11:38:08.110183Z",
     "start_time": "2021-08-18T11:38:08.081167Z"
    },
    "code_folding": [
     0,
     4,
     19,
     26,
     31,
     36,
     53
    ],
    "hidden": true
   },
   "outputs": [],
   "source": [
    "def load_csv(path):\n",
    "    df = pd.read_csv(path, low_memory=False)\n",
    "    return df\n",
    "\n",
    "def rename_columns(df, old_columns):\n",
    "    snakecase = lambda x: inflection.underscore(x)\n",
    "\n",
    "    cols_new = list(map(snakecase, old_columns))\n",
    "\n",
    "    print(f\"Old columns: {df.columns.to_list()}\")\n",
    "    \n",
    "    # Rename\n",
    "    df.columns = cols_new\n",
    "    \n",
    "    print(f\"\\nNew columns: {df.columns.to_list()}\")\n",
    "\n",
    "    print('\\n', df.columns)\n",
    "    return df\n",
    "\n",
    "def show_dimensions(df):\n",
    "    print(f\"Number of Rows:    {df1.shape[0]}\")\n",
    "    print(f\"Number of Columns: {df1.shape[1]}\")\n",
    "    print(f\"Shape:             {df1.shape}\")\n",
    "    #print(df1.to_latex(index=True, multirow=True))\n",
    "    return None\n",
    "\n",
    "def show_data_types(df):\n",
    "    print(df.dtypes.to_latex())\n",
    "    \n",
    "    return None\n",
    "\n",
    "def check_na(df):\n",
    "    print(df.isna().sum().to_latex())\n",
    "    \n",
    "    return None\n",
    "\n",
    "def show_descriptive_statistical(df):\n",
    "    # Central Tendency - mean, median\n",
    "    ct1 = pd.DataFrame(df.apply(np.mean)).T\n",
    "    ct2 = pd.DataFrame(df.apply(np.median)).T\n",
    "\n",
    "    # Dispersion - std, min, max, range, skew, kurtosis\n",
    "    d1 = pd.DataFrame(df.apply(np.std)).T\n",
    "    d2 = pd.DataFrame(df.apply(min)).T\n",
    "    d3 = pd.DataFrame(df.apply(max)).T\n",
    "    d4 = pd.DataFrame(df.apply(lambda x: x.max() - x.min())).T\n",
    "    d5 = pd.DataFrame(df.apply(lambda x: x.skew())).T\n",
    "    d6 = pd.DataFrame(df.apply(lambda x: x.kurtosis())).T\n",
    "\n",
    "    m = pd.concat([d2, d3, d4, ct1, ct2, d1, d5, d6]).T.reset_index()\n",
    "    m.columns = ['attributes', 'min', 'max', 'range', 'mean', 'median', 'std', 'skew', 'kurtosis']\n",
    "    print(m)\n",
    "    \n",
    "def jupyter_settings():\n",
    "    %matplotlib inline\n",
    "    #%pylab inline\n",
    "    \n",
    "    #plt.style.use( 'ggplot')\n",
    "    plt.rcParams['figure.figsize'] = [12, 8]\n",
    "    plt.rcParams['font.size'] = 24\n",
    "    ## Em algumas situações é necessário usar o adobe illustrator para finalizar\n",
    "    ## uma figura com boa qualidade para artigo. Algumas fontes não são compatíveis. \n",
    "    ## Essas 3 configurações abaixo resolvem esse problema\n",
    "    mpl.rcParams['pdf.fonttype'] = 42\n",
    "    mpl.rcParams['ps.fonttype'] = 42\n",
    "    mpl.rcParams['font.family'] = 'Arial'\n",
    "    \n",
    "    display( HTML( '<style>.container { width:100% !important; }</style>') )\n",
    "    pd.options.display.max_columns = None\n",
    "    pd.options.display.max_rows = None\n",
    "    pd.set_option( 'display.expand_frame_repr', False )\n",
    "    \n",
    "    sns.set()\n",
    "    \n",
    "def cramer_v( x, y ):\n",
    "    cm = pd.crosstab( x, y ).values\n",
    "    n = cm.sum()\n",
    "    r, k = cm.shape\n",
    "    chi2 = ss.chi2_contingency( cm )[0]\n",
    "    chi2corr = max( 0, chi2 - (k-1)*(r-1)/(n-1) )\n",
    "    kcorr = k - (k-1)**2/(n-1)\n",
    "    rcorr = r - (r-1)**2/(n-1)\n",
    "    return np.sqrt( (chi2corr/n) / ( min( kcorr-1, rcorr-1 ) ) )\n",
    "\n",
    "def mean_percentage_error( y, yhat ):\n",
    "    return np.mean( ( y - yhat ) / y )\n",
    "\n",
    "def mean_absolute_percentage_error( y, yhat ):\n",
    "    return np.mean( np.abs( ( y - yhat ) / y ) )\n",
    "\n",
    "def ml_error( model_name, y, yhat ):\n",
    "    mae = mean_absolute_error(y, yhat)\n",
    "    mape = mean_absolute_percentage_error(y, yhat)\n",
    "    rmse = np.sqrt( mean_squared_error(y, yhat ))\n",
    "    \n",
    "    return pd.DataFrame({'Model Name': model_name,\n",
    "                         'MAE': mae,\n",
    "                         'MAPE': mape,\n",
    "                         'RMSE': rmse }, index=[0])\n",
    "\n",
    "\n",
    "def cross_validation( x_training, kfold, model_name, model, verbose=False ):\n",
    "    mae_list = []\n",
    "    mape_list = []\n",
    "    rmse_list = []\n",
    "    for k in reversed( range( 1, kfold+1 ) ):\n",
    "        if verbose:\n",
    "            print( '\\nKFold Number: {}'.format( k ) )\n",
    "        # start and end date for validation\n",
    "        validation_start_date = x_training['date'].max() - datetime.timedelta(days=k*6*7)\n",
    "        validation_end_date = x_training['date'].max() - datetime.timedelta(days=(k-1)*6*7)\n",
    "        \n",
    "        # filtering dataset\n",
    "        training = x_training[x_training['date'] < validation_start_date]\n",
    "        validation = x_training[(x_training['date'] >= validation_start_date) & (x_training['date'] <= validation_end_date)]\n",
    "        \n",
    "        # training and validation dataset\n",
    "        # training\n",
    "        xtraining = training.drop( ['date', 'sales'], axis=1 )\n",
    "        ytraining = training['sales']\n",
    "        # validation\n",
    "        xvalidation = validation.drop( ['date', 'sales'], axis=1 )\n",
    "        yvalidation = validation['sales']\n",
    "        # model\n",
    "        m = model.fit( xtraining, ytraining )\n",
    "        # prediction\n",
    "        yhat = m.predict( xvalidation )\n",
    "        # performance\n",
    "        m_result = ml_error( model_name, np.expm1( yvalidation ), np.expm1(yhat ) )\n",
    "        # store performance of each kfold iteration\n",
    "        mae_list.append( m_result['MAE'] )\n",
    "        mape_list.append( m_result['MAPE'] )\n",
    "        rmse_list.append( m_result['RMSE'] )\n",
    "    return pd.DataFrame( {'Model Name': model_name,\n",
    "                          'MAE CV': np.round( np.mean( mae_list ), 2 ).astype(str) + ' +/- ' + np.round( np.std( mae_list ), 2 ).astype( str ),\n",
    "                          'MAPE CV': np.round( np.mean( mape_list ), 2 ).astype( str ) + ' +/- ' + np.round( np.std( mape_list ), 2 ).astype( str ),\n",
    "                          'RMSE CV': np.round( np.mean( rmse_list ), 2 ).astype( str ) + ' +/- ' + np.round( np.std( rmse_list ), 2 ).astype( str )}, index=[0] )"
   ]
  },
  {
   "cell_type": "code",
   "execution_count": 274,
   "id": "3f2097f5",
   "metadata": {
    "ExecuteTime": {
     "end_time": "2021-08-18T11:38:10.952046Z",
     "start_time": "2021-08-18T11:38:10.921718Z"
    },
    "hidden": true
   },
   "outputs": [
    {
     "data": {
      "text/html": [
       "<style>.container { width:100% !important; }</style>"
      ],
      "text/plain": [
       "<IPython.core.display.HTML object>"
      ]
     },
     "metadata": {},
     "output_type": "display_data"
    }
   ],
   "source": [
    "jupyter_settings()"
   ]
  },
  {
   "cell_type": "markdown",
   "id": "0ad92577",
   "metadata": {
    "ExecuteTime": {
     "end_time": "2021-07-10T20:39:45.038829Z",
     "start_time": "2021-07-10T20:39:45.035829Z"
    },
    "heading_collapsed": true
   },
   "source": [
    "## 0.2. Path Definition"
   ]
  },
  {
   "cell_type": "code",
   "execution_count": 275,
   "id": "377995fa",
   "metadata": {
    "ExecuteTime": {
     "end_time": "2021-08-18T11:38:13.278184Z",
     "start_time": "2021-08-18T11:38:13.265659Z"
    },
    "hidden": true
   },
   "outputs": [],
   "source": [
    "# path\n",
    "home_path = '/home/sildolfoneto/Documents/repos/tcc/rossmann-stores-sales/'\n",
    "raw_data_path = 'data/raw/'\n",
    "interim_data_path = 'data/interim/'\n",
    "figures = 'reports/figures/'"
   ]
  },
  {
   "cell_type": "markdown",
   "id": "989cbd5e",
   "metadata": {
    "heading_collapsed": true
   },
   "source": [
    "## 0.3. Loading Data"
   ]
  },
  {
   "cell_type": "code",
   "execution_count": 276,
   "id": "9965d33a",
   "metadata": {
    "ExecuteTime": {
     "end_time": "2021-08-18T11:38:16.936422Z",
     "start_time": "2021-08-18T11:38:16.057606Z"
    },
    "hidden": true
   },
   "outputs": [],
   "source": [
    "## Historical data including Sales\n",
    "df_sales_raw = load_csv(home_path+raw_data_path+'train.csv')\n",
    "\n",
    "## Supplemental information about the stores\n",
    "df_store_raw = load_csv(home_path+raw_data_path+'store.csv')\n",
    "\n",
    "# Merge\n",
    "df_raw = pd.merge(df_sales_raw, df_store_raw, how='left', on='Store')"
   ]
  },
  {
   "cell_type": "markdown",
   "id": "d5f016c4",
   "metadata": {
    "heading_collapsed": true
   },
   "source": [
    "# 1.0. DATA DESCRIPTION"
   ]
  },
  {
   "cell_type": "code",
   "execution_count": null,
   "id": "496538a7",
   "metadata": {
    "ExecuteTime": {
     "end_time": "2021-08-18T11:38:23.849457Z",
     "start_time": "2021-08-18T11:38:18.921916Z"
    },
    "hidden": true
   },
   "outputs": [],
   "source": [
    "df1 = df_raw.copy()\n",
    "df1.to_csv(home_path+interim_data_path+'df1.csv')"
   ]
  },
  {
   "cell_type": "markdown",
   "id": "920acf86",
   "metadata": {
    "hidden": true
   },
   "source": [
    "### Data fields\n"
   ]
  },
  {
   "cell_type": "markdown",
   "id": "3fab7dec",
   "metadata": {
    "hidden": true
   },
   "source": [
    "\n",
    "Most of the fields are self-explanatory. The following are descriptions for those that aren't.\n",
    "\n",
    "- **Id** - an Id that represents a (Store, Date) duple within the test set\n",
    "- **Store** - a unique Id for each store\n",
    "- **Sales** - the turnover for any given day (this is what you are predicting)\n",
    "- **Customers** - the number of customers on a given day\n",
    "- **Open** - an indicator for whether the store was open: 0 = closed, 1 = open\n",
    "- **StateHoliday** - indicates a state holiday. Normally\n",
    "all stores, with few exceptions, are closed on state holidays. Note that all schools are closed on public holidays and weekends. a = public\n",
    "holiday, b = Easter holiday, c = Christmas, 0 = None\n",
    "- **SchoolHoliday** - indicates if the (Store, Date) was affected by the closure of public schools\n",
    "- **StoreType** - differentiates between 4 different store models: a, b, c, d\n",
    "- **Assortment** - describes an assortment level: a = basic, b = extra, c = extended\n",
    "- **CompetitionDistance** - distance in meters to the nearest competitor store\n",
    "- **CompetitionOpenSince[Month/Year]** - gives the approximate year and month of the time the nearest competitor was opened\n",
    "- **Promo** - indicates whether a store is running a promo on that day\n",
    "- **Promo2** - Promo2 is a continuing and consecutive promotion for some stores: 0 = store is not participating, 1 = store is participating\n",
    "- **Promo2Since[Year/Week]** - describes the year and calendar week when the store started participating in Promo2\n",
    "- **PromoInterval** - describes the consecutive intervals Promo2 is started, naming the months the promotion is started anew.\n",
    "E.g. \"Feb,May,Aug,Nov\" means each round starts in February, May, August, November of any given year for that store"
   ]
  },
  {
   "cell_type": "markdown",
   "id": "bd5a651a",
   "metadata": {
    "heading_collapsed": true,
    "hidden": true
   },
   "source": [
    "## 1.1. Rename Columns"
   ]
  },
  {
   "cell_type": "code",
   "execution_count": null,
   "id": "a4cb8cb2",
   "metadata": {
    "ExecuteTime": {
     "end_time": "2021-07-14T02:26:05.607582Z",
     "start_time": "2021-07-14T02:26:05.588989Z"
    },
    "hidden": true
   },
   "outputs": [],
   "source": [
    "cols_old = [\n",
    "    'Store', 'DayOfWeek', 'Date', 'Sales', 'Customers', 'Open', 'Promo',\n",
    "    'StateHoliday', 'SchoolHoliday', 'StoreType', 'Assortment',\n",
    "    'CompetitionDistance', 'CompetitionOpenSinceMonth',\n",
    "    'CompetitionOpenSinceYear', 'Promo2', 'Promo2SinceWeek',\n",
    "    'Promo2SinceYear', 'PromoInterval'\n",
    "]\n",
    "\n",
    "df1 = rename_columns(df1, cols_old)"
   ]
  },
  {
   "cell_type": "markdown",
   "id": "5607485f",
   "metadata": {
    "heading_collapsed": true,
    "hidden": true
   },
   "source": [
    "## 1.2. Data Dimensions"
   ]
  },
  {
   "cell_type": "code",
   "execution_count": null,
   "id": "fba7deb3",
   "metadata": {
    "ExecuteTime": {
     "end_time": "2021-07-14T02:26:10.527114Z",
     "start_time": "2021-07-14T02:26:10.509607Z"
    },
    "hidden": true
   },
   "outputs": [],
   "source": [
    "show_dimensions(df1)"
   ]
  },
  {
   "cell_type": "markdown",
   "id": "c7446a00",
   "metadata": {
    "heading_collapsed": true,
    "hidden": true
   },
   "source": [
    "## 1.3. Data Types"
   ]
  },
  {
   "cell_type": "code",
   "execution_count": null,
   "id": "d966cab9",
   "metadata": {
    "ExecuteTime": {
     "end_time": "2021-07-14T02:26:15.139074Z",
     "start_time": "2021-07-14T02:26:15.031032Z"
    },
    "hidden": true
   },
   "outputs": [],
   "source": [
    "show_data_types(df1)\n",
    "\n",
    "## Date is a object type. This is wrong. In the section \"Types Changes\" others chages is made. \n",
    "df1['date'] = pd.to_datetime(df1['date'])"
   ]
  },
  {
   "cell_type": "code",
   "execution_count": null,
   "id": "4a62aa77",
   "metadata": {},
   "outputs": [],
   "source": [
    "show_data_types(df1)"
   ]
  },
  {
   "cell_type": "markdown",
   "id": "11b6c5e0",
   "metadata": {
    "heading_collapsed": true,
    "hidden": true
   },
   "source": [
    "## 1.4. Check NA"
   ]
  },
  {
   "cell_type": "code",
   "execution_count": null,
   "id": "e968c1ea",
   "metadata": {
    "ExecuteTime": {
     "end_time": "2021-07-14T02:26:21.232926Z",
     "start_time": "2021-07-14T02:26:21.086938Z"
    },
    "hidden": true
   },
   "outputs": [],
   "source": [
    "check_na(df1)\n",
    "\n",
    "## Columns with NA vales\n",
    "## competition_distance              2642\n",
    "## competition_open_since_month    323348\n",
    "## competition_open_since_year     323348\n",
    "## promo2_since_week               508031\n",
    "## promo2_since_year               508031\n",
    "## promo_interval                  508031"
   ]
  },
  {
   "cell_type": "markdown",
   "id": "b29eae3a",
   "metadata": {
    "ExecuteTime": {
     "end_time": "2021-07-10T19:39:24.939321Z",
     "start_time": "2021-07-10T19:39:24.933816Z"
    },
    "heading_collapsed": true,
    "hidden": true
   },
   "source": [
    "## 1.5. Fillout NA"
   ]
  },
  {
   "cell_type": "code",
   "execution_count": null,
   "id": "a494e050",
   "metadata": {
    "ExecuteTime": {
     "end_time": "2021-07-14T02:27:26.671447Z",
     "start_time": "2021-07-14T02:26:28.983930Z"
    },
    "hidden": true
   },
   "outputs": [],
   "source": [
    "# competition_distance: distance in meters to the nearest competitor store\n",
    "# \n",
    "# Assumption: if there is a row that is NA in this column, \n",
    "# it is because there is no close competitor. \n",
    "# The way I used to represent this is to put \n",
    "# a number much larger than the maximum value \n",
    "# of the competition_distance variable.\n",
    "# \n",
    "# The number is 250000.\n",
    "df1['competition_distance'] = df1['competition_distance'].apply(lambda x : 250000 if math.isnan(x) else x)\n",
    "\n",
    "\n",
    "# competition_open_since_month: \n",
    "# gives the approximate year and month of the \n",
    "# time the nearest competitor was opened\n",
    "#\n",
    "# Assumption: I'm going to keep this variable because \n",
    "# it's important to have something that expresses \n",
    "# the feeling of \"since it happened\" or \"until when\".\n",
    "# \n",
    "# If it's NA I'll copy the month of sale of that line.\n",
    "df1['competition_open_since_month'] = df1.apply(lambda x: x['date'].month if math.isnan(x['competition_open_since_month']) else x['competition_open_since_month'], axis=1)\n",
    "\n",
    "#competition_open_since_year \n",
    "# The same assumption from competition_open_since_month\n",
    "df1['competition_open_since_year'] = df1.apply(lambda x: x['date'].year if math.isnan(x['competition_open_since_year']) else x['competition_open_since_year'], axis=1)\n",
    "\n",
    "\n",
    "# promo2_since_week: \n",
    "# describes the year and calendar week when the store started participating in Promo2\n",
    "# \n",
    "# The same assumption from competition_open_since_month\n",
    "df1['promo2_since_week'] = df1.apply(lambda x: x['date'].week if math.isnan(x['promo2_since_week']) else x['promo2_since_week'], axis=1)\n",
    "\n",
    "              \n",
    "# promo2_since_year:\n",
    "# describes the year and calendar week when the store started participating in Promo2\n",
    "df1['promo2_since_year'] = df1.apply(lambda x: x['date'].year if math.isnan(x['promo2_since_year']) else x['promo2_since_year'], axis=1)\n",
    "\n",
    "# promo_interval\n",
    "month_map = {1: 'Jan', 2: 'Feb', 3: 'Mar', 4: 'Apr', 5: 'May', 6: 'Jun', 7: 'Jul', 8: 'Aug',9: 'Sep', 10: 'Oct', 11: 'Nov', 12: 'Dec'}\n",
    "\n",
    "df1['promo_interval'].fillna(0, inplace=True)\n",
    "\n",
    "df1['month_map'] = df1['date'].dt.month.map(month_map)\n",
    "\n",
    "df1['is_promo'] = df1[['promo_interval', 'month_map']].apply(lambda x: 0 if x['promo_interval'] == 0 else 1 if x['month_map'] in x['promo_interval'].split(',') else 0, axis=1)"
   ]
  },
  {
   "cell_type": "markdown",
   "id": "7ff79aeb",
   "metadata": {
    "ExecuteTime": {
     "end_time": "2021-07-11T15:46:24.500384Z",
     "start_time": "2021-07-11T15:46:24.426862Z"
    },
    "hidden": true
   },
   "source": [
    "## 1.6. Type Changes"
   ]
  },
  {
   "cell_type": "code",
   "execution_count": null,
   "id": "21a0902e",
   "metadata": {
    "ExecuteTime": {
     "end_time": "2021-07-14T02:27:26.734354Z",
     "start_time": "2021-07-14T02:27:26.672447Z"
    },
    "hidden": true
   },
   "outputs": [],
   "source": [
    "df1['competition_open_since_month'] = df1['competition_open_since_month'].astype('int64')\n",
    "df1['competition_open_since_year'] = df1['competition_open_since_year'].astype('int64')\n",
    "df1['promo2_since_week'] = df1['promo2_since_week'].astype('int64')\n",
    "df1['promo2_since_year'] = df1['promo2_since_year'].astype('int64')"
   ]
  },
  {
   "cell_type": "markdown",
   "id": "780a8fd2",
   "metadata": {
    "hidden": true
   },
   "source": [
    "## 1.7. Descriptive Statistical"
   ]
  },
  {
   "cell_type": "code",
   "execution_count": null,
   "id": "a3c1be4a",
   "metadata": {
    "ExecuteTime": {
     "end_time": "2021-07-14T02:27:29.602576Z",
     "start_time": "2021-07-14T02:27:29.455036Z"
    },
    "hidden": true
   },
   "outputs": [],
   "source": [
    "num_attributes = df1.select_dtypes(include=['int64', 'float64'])\n",
    "cat_attributes = df1.select_dtypes(exclude=['int64', 'float64', 'datetime64[ns]'])"
   ]
  },
  {
   "cell_type": "markdown",
   "id": "4eb0cc0b",
   "metadata": {
    "hidden": true
   },
   "source": [
    "### 1.7.1 Numerical Attributes"
   ]
  },
  {
   "cell_type": "code",
   "execution_count": null,
   "id": "eef31741",
   "metadata": {
    "ExecuteTime": {
     "end_time": "2021-07-14T02:27:35.395583Z",
     "start_time": "2021-07-14T02:27:32.816271Z"
    },
    "hidden": true
   },
   "outputs": [],
   "source": [
    "show_descriptive_statistical(num_attributes)"
   ]
  },
  {
   "cell_type": "code",
   "execution_count": null,
   "id": "a934517a",
   "metadata": {
    "ExecuteTime": {
     "end_time": "2021-07-14T02:27:50.834011Z",
     "start_time": "2021-07-14T02:27:49.690990Z"
    },
    "hidden": true
   },
   "outputs": [],
   "source": [
    "sns.displot(df1['sales'])"
   ]
  },
  {
   "cell_type": "markdown",
   "id": "2a8963d1",
   "metadata": {
    "hidden": true
   },
   "source": [
    "### 1.7.2 Categorical Attributes"
   ]
  },
  {
   "cell_type": "code",
   "execution_count": null,
   "id": "58d0e7a5",
   "metadata": {
    "ExecuteTime": {
     "end_time": "2021-07-14T02:27:54.235172Z",
     "start_time": "2021-07-14T02:27:54.074632Z"
    },
    "hidden": true
   },
   "outputs": [],
   "source": [
    "cat_attributes.apply(lambda x: x.unique().shape[0])"
   ]
  },
  {
   "cell_type": "code",
   "execution_count": null,
   "id": "b15ee28b",
   "metadata": {
    "ExecuteTime": {
     "end_time": "2021-07-14T02:27:57.991916Z",
     "start_time": "2021-07-14T02:27:57.619325Z"
    },
    "hidden": true
   },
   "outputs": [],
   "source": [
    "aux1 = df1[(df1['state_holiday'] != '0') & (df1['sales'] > 0)]\n",
    "\n",
    "plt.subplot(1, 3, 1)\n",
    "sns.boxplot(x='state_holiday', y='sales', data=aux1)\n",
    "\n",
    "plt.subplot(1, 3, 2)\n",
    "sns.boxplot(x='store_type', y='sales', data=aux1)\n",
    "\n",
    "plt.subplot(1, 3, 3)\n",
    "sns.boxplot(x='assortment', y='sales', data=aux1)"
   ]
  },
  {
   "cell_type": "markdown",
   "id": "dad0ecdd",
   "metadata": {},
   "source": [
    "# 2.0. FEATURE ENGINEERING"
   ]
  },
  {
   "cell_type": "code",
   "execution_count": null,
   "id": "3b7e1d3d",
   "metadata": {
    "ExecuteTime": {
     "end_time": "2021-08-18T11:43:42.391666Z",
     "start_time": "2021-08-18T11:43:37.400912Z"
    }
   },
   "outputs": [],
   "source": [
    "df2 = df1.copy()\n",
    "df2.to_csv(home_path+interim_data_path+'df2.csv')"
   ]
  },
  {
   "cell_type": "markdown",
   "id": "106047bd",
   "metadata": {
    "ExecuteTime": {
     "end_time": "2021-07-11T17:20:17.151607Z",
     "start_time": "2021-07-11T17:20:17.147607Z"
    }
   },
   "source": [
    "## 2.1. Hypothesis Mind Map"
   ]
  },
  {
   "cell_type": "code",
   "execution_count": null,
   "id": "d3acc951",
   "metadata": {
    "ExecuteTime": {
     "end_time": "2021-08-18T11:43:44.489936Z",
     "start_time": "2021-08-18T11:43:44.457923Z"
    }
   },
   "outputs": [],
   "source": [
    "Image(home_path+figures+'mind-map-hypothesis.png')"
   ]
  },
  {
   "cell_type": "markdown",
   "id": "bd074682",
   "metadata": {},
   "source": [
    "## 2.2 Creating hypotheses"
   ]
  },
  {
   "cell_type": "markdown",
   "id": "82d236e7",
   "metadata": {},
   "source": [
    "### 2.2.1 Store Hypotheses"
   ]
  },
  {
   "cell_type": "markdown",
   "id": "04df384c",
   "metadata": {},
   "source": [
    "**1.** Stores with larger staff should sell more.\n",
    "\n",
    "**2.** Stores with more inventory should sell more.\n",
    "\n",
    "**3.** Stores with close competitors should sell less.\n",
    "\n",
    "**4.** Stores with a larger assortment should sell more.\n",
    "\n",
    "**5.** Stores with more employees should sell more.\n",
    "\n",
    "**6.** Stores with longer-term competitors should sell more."
   ]
  },
  {
   "cell_type": "markdown",
   "id": "8e364f43",
   "metadata": {
    "ExecuteTime": {
     "end_time": "2021-07-12T17:07:25.759321Z",
     "start_time": "2021-07-12T17:07:25.754053Z"
    }
   },
   "source": [
    "### 2.2.2 Product Hypotheses"
   ]
  },
  {
   "cell_type": "markdown",
   "id": "0f6e49fb",
   "metadata": {},
   "source": [
    "**1.** Stores with more marketing investment should sell more.\n",
    "\n",
    "**2.** Stores with more products on display should sell more.\n",
    "\n",
    "**3.** Stores that have cheaper products should sell more.\n",
    "\n",
    "**4.** Stores that have more inventory should sell more.\n",
    "\n",
    "**5.** Stores that do more promotions should sell more.\n",
    "\n",
    "**6.** Stores with promotions active for longer should sell more.\n",
    "\n",
    "**7.** Stores with more promotion days should sell more.\n",
    "\n",
    "**8.** Stores with more consecutive promotions should sell more.\n"
   ]
  },
  {
   "cell_type": "markdown",
   "id": "008bf150",
   "metadata": {},
   "source": [
    "### 2.2.3 Temporal Hypotheses"
   ]
  },
  {
   "cell_type": "markdown",
   "id": "59e14de0",
   "metadata": {},
   "source": [
    "**1.** Stores that have more holidays should sell less.\n",
    "\n",
    "**2.** Stores that open within the first six months should sell more.\n",
    "\n",
    "**3.** Stores that open on weekends should sell more.\n",
    "\n",
    "**4.** Stores open during the Christmas holiday should sell more.\n",
    "\n",
    "**5.** Stores should sell more over the years.\n",
    "\n",
    "**6.** Stores should sell more after the 10th of each month.\n",
    "\n",
    "**7.** Stores should sell more in the second half of the year.\n",
    "\n",
    "**8.** Stores should sell less on weekends.\n",
    "\n",
    "**8.** Stores should sell less during school holidays."
   ]
  },
  {
   "cell_type": "markdown",
   "id": "3a51e3a8",
   "metadata": {},
   "source": [
    "## 2.3. Final List of Hypotheses"
   ]
  },
  {
   "cell_type": "markdown",
   "id": "cdb44c79",
   "metadata": {
    "ExecuteTime": {
     "end_time": "2021-07-14T02:11:50.720917Z",
     "start_time": "2021-07-14T02:11:50.714289Z"
    }
   },
   "source": [
    "**1.** Stores with close competitors should sell less.\n",
    "\n",
    "**2.** Stores with a larger assortment should sell more.\n",
    "\n",
    "**3.** Stores with longer-term competitors should sell more.\n",
    "\n",
    "**4.** Stores with promotions active for longer should sell more.\n",
    "\n",
    "**5.** Stores with more promotion days should sell more.\n",
    "\n",
    "**6.** Stores with more consecutive promotions should sell more.\n",
    "\n",
    "**7.** Stores open during the Christmas holiday should sell more.\n",
    "\n",
    "**8.** Stores should sell more over the years.\n",
    "\n",
    "**9.** Stores should sell more after the 10th of each month.\n",
    "\n",
    "**10.** Stores should sell more in the second half of the year.\n",
    "\n",
    "**11.** Stores should sell less on weekends.\n",
    "\n",
    "**12.** Stores should sell less during school holidays.\n",
    "\n",
    "\n"
   ]
  },
  {
   "cell_type": "markdown",
   "id": "5e737e01",
   "metadata": {},
   "source": [
    "## 2.4. Feature Engineering"
   ]
  },
  {
   "cell_type": "code",
   "execution_count": null,
   "id": "fb338f3f",
   "metadata": {
    "ExecuteTime": {
     "end_time": "2021-07-14T03:01:52.821913Z",
     "start_time": "2021-07-14T03:01:22.026006Z"
    },
    "code_folding": [],
    "scrolled": true
   },
   "outputs": [],
   "source": [
    "# year\n",
    "df2['year'] = df2['date'].dt.year\n",
    "\n",
    "# month\n",
    "df2['month'] = df2['date'].dt.month\n",
    "\n",
    "# day\n",
    "df2['day'] = df2['date'].dt.day\n",
    "\n",
    "# week of year\n",
    "df2['week_of_year'] = df2['date'].dt.weekofyear\n",
    "\n",
    "# year week\n",
    "df2['year_week'] = df2['date'].dt.strftime( '%Y-%W' )\n",
    "\n",
    "# competition since\n",
    "df2['competition_since'] = df2.apply( lambda x: datetime.datetime( year=x['competition_open_since_year'], month=x['competition_open_since_month'],day=1 ), axis=1 )\n",
    "df2['competition_time_month'] = ( ( df2['date'] - df2['competition_since'] )/30 ).apply( lambda x: x.days ).astype( int )\n",
    "\n",
    "# promo since\n",
    "df2['promo_since'] = df2['promo2_since_year'].astype( str ) + '-' + df2['promo2_since_week'].astype( str )\n",
    "df2['promo_since'] = df2['promo_since'].apply( lambda x: datetime.datetime.strptime( x + '-1', '%Y-%W-%w' ) - datetime.timedelta( days=7 ) )\n",
    "df2['promo_time_week'] = ( ( df2['date'] - df2['promo_since'] )/7 ).apply( lambda x: x.days ).astype( int )\n",
    "\n",
    "# assortment\n",
    "df2['assortment'] = df2['assortment'].apply( lambda x: 'basic' if x == 'a' else 'extra' if x == 'b' else 'extended' )\n",
    "\n",
    "# state holiday\n",
    "df2['state_holiday'] = df2['state_holiday'].apply( lambda x: 'public_holiday' if x == 'a' else 'easter_holiday' if x == 'b' else 'christmas' if x == 'c' else 'regular_day' )"
   ]
  },
  {
   "cell_type": "markdown",
   "id": "d95e20aa",
   "metadata": {},
   "source": [
    "# 3.0 - Filtragem de Variáveis"
   ]
  },
  {
   "cell_type": "code",
   "execution_count": null,
   "id": "dd3fb713",
   "metadata": {},
   "outputs": [],
   "source": [
    "df3 = df2.copy()\n",
    "df3.to_csv(home_path+interim_data_path+'df3.csv')"
   ]
  },
  {
   "cell_type": "markdown",
   "id": "ac867d19",
   "metadata": {},
   "source": [
    "## 3.1. Filtragem das Linhas"
   ]
  },
  {
   "cell_type": "code",
   "execution_count": null,
   "id": "37a431ff",
   "metadata": {},
   "outputs": [],
   "source": [
    "df3 = df3[(df3['open'] != 0) & (df3['sales'] > 0)]"
   ]
  },
  {
   "cell_type": "markdown",
   "id": "bcc49100",
   "metadata": {},
   "source": [
    "## 3.2. Seleção das colunas "
   ]
  },
  {
   "cell_type": "code",
   "execution_count": null,
   "id": "c5c28dec",
   "metadata": {},
   "outputs": [],
   "source": [
    "cols_drop = ['customers', 'open', 'promo_interval', 'month_map']\n",
    "df3 = df3.drop(cols_drop, axis=1)"
   ]
  },
  {
   "cell_type": "markdown",
   "id": "118e090e",
   "metadata": {},
   "source": [
    "# 4.0 - Análise Exploratória de Dados"
   ]
  },
  {
   "cell_type": "code",
   "execution_count": 234,
   "id": "def41169",
   "metadata": {},
   "outputs": [],
   "source": [
    "#df4 = df3.copy()\n",
    "#df4.to_csv(home_path+interim_data_path+'df4.csv')\n",
    "\n",
    "df4 = load_csv(home_path+interim_data_path+'df4.csv')"
   ]
  },
  {
   "cell_type": "markdown",
   "id": "03e9ef08",
   "metadata": {},
   "source": [
    "## 4.1. Analise Univariada"
   ]
  },
  {
   "cell_type": "markdown",
   "id": "342dffad",
   "metadata": {},
   "source": [
    "### 4.1.1. Variável Resposta"
   ]
  },
  {
   "cell_type": "code",
   "execution_count": 255,
   "id": "f77affda",
   "metadata": {},
   "outputs": [
    {
     "data": {
      "image/png": "[encoded data removed]",
      "text/plain": [
       "<Figure size 864x576 with 1 Axes>"
      ]
     },
     "metadata": {},
     "output_type": "display_data"
    }
   ],
   "source": [
    "sns.set_style('white')\n",
    "sns.set_context('paper', font_scale=2.0)\n",
    "\n",
    "fig, ax = plt.subplots()\n",
    "\n",
    "sns.histplot(data=df4[(df4['sales'] <=20000)], \n",
    "             kde=True, \n",
    "             stat='density',\n",
    "             #common_norm=False,\n",
    "             x='sales',\n",
    "             hue='store_type',\n",
    "             multiple='layer',\n",
    "             kde_kws={'bw_adjust':2},\n",
    "             line_kws={'linewidth':3},\n",
    "             palette='Set2',\n",
    "             ax=ax)\n",
    "\n",
    "for axis in ['bottom', 'left']:\n",
    "    ax.spines[axis].set_linewidth(2.5)\n",
    "    ax.spines[axis].set_color('0.2')\n",
    "\n",
    "ax.spines['top'].set_visible(False)\n",
    "ax.spines['right'].set_visible(False)\n",
    "\n",
    "\n",
    "ax.grid(True, which='major', axis='both', alpha=1)\n",
    "\n",
    "ax.tick_params(axis='x', \n",
    "               bottom=True,\n",
    "               which='major', \n",
    "               direction='out', \n",
    "               length=10, \n",
    "               width=5,\n",
    "               color='0.2', \n",
    "               pad=15, \n",
    "               labelsize=15, \n",
    "               labelcolor='black', \n",
    "               labelrotation=15)\n",
    "\n",
    "ax.tick_params(axis='y', \n",
    "               left=True,\n",
    "               which='major', \n",
    "               direction='out', \n",
    "               length=10, \n",
    "               width=5, \n",
    "               color='0.2', \n",
    "               pad=15, \n",
    "               labelsize=15, \n",
    "               labelcolor='black', \n",
    "               labelrotation=0)\n",
    "\n",
    "ax.set_xlabel(ax.get_xlabel(), fontsize=14, weight='bold')\n",
    "ax.set_ylabel(ax.get_ylabel(), fontsize=14, weight='bold')\n",
    "\n",
    "\n",
    "plt.xticks(size=14, weight='bold', color = '0.2')\n",
    "plt.yticks(size=14, weight='bold', color = '0.2')\n",
    "\n",
    "\n",
    "plt.savefig('/home/sildolfoneto/Documents/repos/tcc/rossmann-stores-sales/reports/figures/sales_hist.png',\n",
    "           dpi=400,\n",
    "           facecolor=ax.get_facecolor())"
   ]
  },
  {
   "cell_type": "code",
   "execution_count": null,
   "id": "4149325f",
   "metadata": {},
   "outputs": [],
   "source": [
    "sns.set_style('white')\n",
    "sns.set_context('paper', font_scale=2.0)\n",
    "aux = df4[(df4['sales'] <=20000)]\n",
    "aux1 = aux[['store_type', 'sales']].groupby('store_type').mean().reset_index()\n",
    "\n",
    "\n",
    "fig, ax = plt.subplots()\n",
    "\n",
    "sns.barplot(data=aux1, \n",
    "            x='store_type',\n",
    "            y='sales',\n",
    "            palette='Set2',\n",
    "            capsize=0.5,\n",
    "            edgecolor='0.2',\n",
    "            lw=2.5,\n",
    "            ax=ax);\n",
    "\n",
    "for axis in ['bottom', 'left']:\n",
    "    ax.spines[axis].set_linewidth(2.5)\n",
    "    ax.spines[axis].set_color('0.2')\n",
    "\n",
    "ax.spines['top'].set_visible(False)\n",
    "ax.spines['right'].set_visible(False)\n",
    "\n",
    "\n",
    "ax.grid(True, which='major', axis='both', alpha=1)\n",
    "\n",
    "ax.tick_params(axis='x', \n",
    "               bottom=True,\n",
    "               which='major', \n",
    "               direction='out', \n",
    "               length=10, \n",
    "               width=5,\n",
    "               color='0.2', \n",
    "               pad=15, \n",
    "               labelsize=15, \n",
    "               labelcolor='black', \n",
    "               labelrotation=15)\n",
    "\n",
    "ax.tick_params(axis='y', \n",
    "               left=True,\n",
    "               which='major', \n",
    "               direction='out', \n",
    "               length=10, \n",
    "               width=5, \n",
    "               color='0.2', \n",
    "               pad=15, \n",
    "               labelsize=15, \n",
    "               labelcolor='black', \n",
    "               labelrotation=0)\n",
    "\n",
    "ax.set_xlabel(ax.get_xlabel(), fontsize=14, weight='bold')\n",
    "ax.set_ylabel(ax.get_ylabel(), fontsize=14, weight='bold')\n",
    "\n",
    "\n",
    "plt.xticks(size=14, weight='bold', color = '0.2')\n",
    "plt.yticks(size=14, weight='bold', color = '0.2')\n",
    "\n",
    "\n",
    "plt.savefig('/home/sildolfoneto/Documents/repos/tcc/rossmann-stores-sales/reports/figures/store_type_sales_barplot.png',\n",
    "           dpi=400,\n",
    "           facecolor=ax.get_facecolor())"
   ]
  },
  {
   "cell_type": "code",
   "execution_count": null,
   "id": "bc743e95",
   "metadata": {},
   "outputs": [],
   "source": [
    "sns.set_style('white')\n",
    "sns.set_context('paper', font_scale=2.0)\n",
    "\n",
    "aux = df4[(df4['sales'] <=20000)]\n",
    "aux1 = aux[['store_type', 'sales']].groupby('store_type').mean().reset_index()\n",
    "\n",
    "fig, ax = plt.subplots()\n",
    "\n",
    "sns.boxplot(data=df4, \n",
    "            x='store_type',\n",
    "            y='sales',\n",
    "            palette='Set2',\n",
    "            ax=ax)\n",
    "\n",
    "for axis in ['bottom', 'left']:\n",
    "    ax.spines[axis].set_linewidth(2.5)\n",
    "    ax.spines[axis].set_color('0.2')\n",
    "\n",
    "ax.spines['top'].set_visible(False)\n",
    "ax.spines['right'].set_visible(False)\n",
    "\n",
    "\n",
    "ax.grid(True, which='major', axis='both', alpha=1)\n",
    "\n",
    "ax.tick_params(axis='x', \n",
    "               bottom=True,\n",
    "               which='major', \n",
    "               direction='out', \n",
    "               length=10, \n",
    "               width=5,\n",
    "               color='0.2', \n",
    "               pad=15, \n",
    "               labelsize=15, \n",
    "               labelcolor='black', \n",
    "               labelrotation=15)\n",
    "\n",
    "ax.tick_params(axis='y', \n",
    "               left=True,\n",
    "               which='major', \n",
    "               direction='out', \n",
    "               length=10, \n",
    "               width=5, \n",
    "               color='0.2', \n",
    "               pad=15, \n",
    "               labelsize=15, \n",
    "               labelcolor='black', \n",
    "               labelrotation=0)\n",
    "\n",
    "ax.set_xlabel(ax.get_xlabel(), fontsize=14, weight='bold')\n",
    "ax.set_ylabel(ax.get_ylabel(), fontsize=14, weight='bold')\n",
    "\n",
    "\n",
    "plt.xticks(size=14, weight='bold', color = '0.2')\n",
    "plt.yticks(size=14, weight='bold', color = '0.2')\n",
    "\n",
    "\n",
    "plt.savefig('/home/sildolfoneto/Documents/repos/tcc/rossmann-stores-sales/reports/figures/store_type_sales_boxplot.png',\n",
    "           dpi=400,\n",
    "           facecolor=ax.get_facecolor())"
   ]
  },
  {
   "cell_type": "code",
   "execution_count": null,
   "id": "7893b01b",
   "metadata": {},
   "outputs": [],
   "source": [
    "num_attributes = df4.select_dtypes( include=['int64', 'float64'] )\n",
    "cat_attributes = df4.select_dtypes( exclude=['int64', 'float64','datetime64[ns]'])"
   ]
  },
  {
   "cell_type": "code",
   "execution_count": null,
   "id": "83ac7ce9",
   "metadata": {},
   "outputs": [],
   "source": [
    "\n",
    "first_column = num_attributes.pop('sales')\n",
    "  \n",
    "# insert column using insert(position,column_name,\n",
    "# first_column) function\n",
    "num_attributes.insert(0, 'sales', first_column)\n"
   ]
  },
  {
   "cell_type": "code",
   "execution_count": null,
   "id": "ad8e3541",
   "metadata": {},
   "outputs": [],
   "source": [
    "num_attributes.columns\n"
   ]
  },
  {
   "cell_type": "code",
   "execution_count": null,
   "id": "8ced0bdd",
   "metadata": {},
   "outputs": [],
   "source": [
    "correlation = num_attributes[num_attributes['sales'] <=20000].corr(method='pearson')"
   ]
  },
  {
   "cell_type": "code",
   "execution_count": null,
   "id": "e2c9b5bb",
   "metadata": {},
   "outputs": [],
   "source": [
    "irrelevant_fields = ['Unnamed: 0', 'store',\n",
    "       'competition_open_since_month', 'competition_open_since_year',\n",
    "       'promo2_since_week', 'promo2_since_year', 'competition_time_month', 'promo_time_week']"
   ]
  },
  {
   "cell_type": "code",
   "execution_count": null,
   "id": "c08e6054",
   "metadata": {},
   "outputs": [],
   "source": [
    "correlation.drop(irrelevant_fields, inplace=True)\n",
    "correlation.drop(irrelevant_fields, axis=1, inplace=True)"
   ]
  },
  {
   "cell_type": "code",
   "execution_count": null,
   "id": "a5b658ee",
   "metadata": {},
   "outputs": [],
   "source": [
    "correlation"
   ]
  },
  {
   "cell_type": "code",
   "execution_count": null,
   "id": "1fcd97c6",
   "metadata": {},
   "outputs": [],
   "source": [
    "sns.set_style('white')\n",
    "sns.set_context('paper', font_scale=1.0)\n",
    "pd.options.display.float_format = '{:.3f}'.format\n",
    "\n",
    "aux = df4[(df4['sales'] <=20000)]\n",
    "aux1 = aux[['store_type', 'sales']].groupby('store_type').mean().reset_index()\n",
    "\n",
    "fig, ax = plt.subplots()\n",
    "\n",
    "mask = np.triu(np.ones_like(correlation, dtype=np.bool))\n",
    "# adjust mask and df\n",
    "mask = mask[1:, :-1]\n",
    "corr = correlation.iloc[1:,:-1].copy()\n",
    "\n",
    "sns.heatmap(corr, \n",
    "            annot=True,\n",
    "            cmap=\"Blues\",\n",
    "           vmin=-1.0,\n",
    "           vmax=1.0, \n",
    "           linewidth=0.3,\n",
    "           cbar_kws={\"shrink\":1, 'drawedges':True, 'aspect':20},\n",
    "           square=False,\n",
    "           mask=mask,\n",
    "           fmt=\".3f\",\n",
    "           robust=True,\n",
    "           annot_kws={'fontsize':12, 'fontweight':'bold', 'fontstyle':'normal', 'color':'black', 'alpha':1.0, 'rotation':'horizontal','verticalalignment':'center'})\n",
    "\n",
    "for axis in ['bottom', 'left']:\n",
    "    ax.spines[axis].set_linewidth(2.5)\n",
    "    ax.spines[axis].set_color('0.2')\n",
    "\n",
    "cbar = ax.collections[0].colorbar\n",
    "# here set the labelsize by 20\n",
    "cbar.ax.tick_params(labelsize=15)\n",
    "\n",
    "\n",
    "ax.spines['top'].set_visible(False)\n",
    "ax.spines['right'].set_visible(False)\n",
    "\n",
    "\n",
    "ax.grid(True, which='major', axis='both', alpha=1)\n",
    "\n",
    "ax.tick_params(axis='x', \n",
    "               bottom=True,\n",
    "               which='major', \n",
    "               direction='out', \n",
    "               length=10, \n",
    "               width=5,\n",
    "               color='0.2', \n",
    "               pad=15, \n",
    "               labelsize=15, \n",
    "               labelcolor='black', \n",
    "               labelrotation=90)\n",
    "\n",
    "ax.tick_params(axis='y', \n",
    "               left=True,\n",
    "               which='major', \n",
    "               direction='out', \n",
    "               length=10, \n",
    "               width=5, \n",
    "               color='0.2', \n",
    "               pad=15, \n",
    "               labelsize=15, \n",
    "               labelcolor='black', \n",
    "               labelrotation=0)\n",
    "\n",
    "ax.set_xlabel(ax.get_xlabel(), fontsize=14, weight='bold')\n",
    "ax.set_ylabel(ax.get_ylabel(), fontsize=14, weight='bold')\n",
    "\n",
    "\n",
    "plt.xticks(size=14, weight='bold', color = '0.2')\n",
    "plt.yticks(size=14, weight='bold', color = '0.2')\n",
    "\n",
    "\n",
    "plt.savefig('/home/sildolfoneto/Documents/repos/tcc/rossmann-stores-sales/reports/figures/store_type_sales_heatmap.png',\n",
    "           dpi=400,\n",
    "           facecolor=ax.get_facecolor())"
   ]
  },
  {
   "cell_type": "code",
   "execution_count": null,
   "id": "9c682259",
   "metadata": {},
   "outputs": [],
   "source": [
    "# only categorical data\n",
    "a = df4.select_dtypes( include='object' )\n",
    "# Calculate cramer V\n",
    "a1 = cramer_v( a['state_holiday'], a['state_holiday'] )\n",
    "a2 = cramer_v( a['state_holiday'], a['store_type'] )\n",
    "a3 = cramer_v( a['state_holiday'], a['assortment'] )\n",
    "a4 = cramer_v( a['store_type'], a['state_holiday'] )\n",
    "a5 = cramer_v( a['store_type'], a['store_type'] )\n",
    "a6 = cramer_v( a['store_type'], a['assortment'] )\n",
    "a7 = cramer_v( a['assortment'], a['state_holiday'] )\n",
    "a8 = cramer_v( a['assortment'], a['store_type'] )\n",
    "a9 = cramer_v( a['assortment'], a['assortment'] )\n",
    "# Final dataset\n",
    "d = pd.DataFrame( {'state_holiday': [a1, a2, a3],\n",
    "'store_type': [a4, a5, a6],\n",
    "'assortment': [a7, a8, a9] })\n",
    "d = d.set_index( d.columns )\n",
    "\n",
    "sns.set_style('white')\n",
    "sns.set_context('paper', font_scale=1.0)\n",
    "pd.options.display.float_format = '{:.3f}'.format\n",
    "\n",
    "fig, ax = plt.subplots()\n",
    "\n",
    "mask = np.triu(np.ones_like(d, dtype=np.bool))\n",
    "# adjust mask and df\n",
    "mask = mask[1:, :-1]\n",
    "corr = d.iloc[1:,:-1].copy()\n",
    "\n",
    "sns.heatmap(corr, \n",
    "            annot=True,\n",
    "            cmap=\"Blues\",\n",
    "           vmin=-1.0,\n",
    "           vmax=1.0, \n",
    "           linewidth=0.3,\n",
    "           cbar_kws={\"shrink\":1, 'aspect':20, 'drawedges':True},\n",
    "           square=True,\n",
    "           #mask=mask,\n",
    "           fmt=\".3f\",\n",
    "           robust=True,\n",
    "           annot_kws={'fontsize':12, 'fontweight':'bold', 'fontstyle':'normal', 'color':'black', 'alpha':1.0, 'rotation':'horizontal','verticalalignment':'center'})\n",
    "\n",
    "for axis in ['bottom', 'left']:\n",
    "    ax.spines[axis].set_linewidth(2.5)\n",
    "    ax.spines[axis].set_color('0.2')\n",
    "\n",
    "    \n",
    "cbar = ax.collections[0].colorbar\n",
    "# here set the labelsize by 20\n",
    "cbar.ax.tick_params(labelsize=15)\n",
    "\n",
    "    \n",
    "ax.spines['top'].set_visible(False)\n",
    "ax.spines['right'].set_visible(False)\n",
    "\n",
    "\n",
    "ax.grid(True, which='major', axis='both', alpha=1)\n",
    "\n",
    "ax.tick_params(axis='x', \n",
    "               bottom=True,\n",
    "               which='major', \n",
    "               direction='out', \n",
    "               length=10, \n",
    "               width=5,\n",
    "               color='0.2', \n",
    "               pad=15, \n",
    "               labelsize=15, \n",
    "               labelcolor='black', \n",
    "               labelrotation=90)\n",
    "\n",
    "ax.tick_params(axis='y', \n",
    "               left=True,\n",
    "               which='major', \n",
    "               direction='out', \n",
    "               length=10, \n",
    "               width=5, \n",
    "               color='0.2', \n",
    "               pad=15, \n",
    "               labelsize=15, \n",
    "               labelcolor='black', \n",
    "               labelrotation=0)\n",
    "\n",
    "ax.set_xlabel(ax.get_xlabel(), fontsize=14, weight='bold')\n",
    "ax.set_ylabel(ax.get_ylabel(), fontsize=14, weight='bold')\n",
    "\n",
    "\n",
    "plt.xticks(size=14, weight='bold', color = '0.2')\n",
    "plt.yticks(size=14, weight='bold', color = '0.2')\n",
    "\n",
    "\n",
    "plt.savefig('/home/sildolfoneto/Documents/repos/tcc/rossmann-stores-sales/reports/figures/store_type_sales_heatmap_cat.png',\n",
    "           dpi=400,\n",
    "           facecolor=ax.get_facecolor())"
   ]
  },
  {
   "cell_type": "code",
   "execution_count": null,
   "id": "9f08333e",
   "metadata": {},
   "outputs": [],
   "source": [
    "sns.set_style('white')\n",
    "sns.set_context('paper', font_scale=2.0)\n",
    "\n",
    "fig = plt.figure(figsize=(10,6)) # figsize default = (6.4, 4.8) -> (largura, altura) em inch\n",
    "\n",
    "# Cada figura individual será um objeto Ax\n",
    "# Podemos criar um ax especificando (esquerda, inferior, largura, altura) da figura\n",
    "ax = plt.axes((0.1, 0.1, 0.5, 0.8))\n",
    "\n",
    "ax.spines['right'].set_visible(False)\n",
    "ax.spines['left'].set_visible(True)\n",
    "ax.spines['bottom'].set_visible(True)\n",
    "ax.spines['top'].set_visible(False)\n",
    "\n",
    "ax.tick_params(axis='x', \n",
    "               which='major', \n",
    "               direction='out', \n",
    "               length=10, \n",
    "               width=5, \n",
    "               color='red', \n",
    "               pad=15, \n",
    "               labelsize=15, \n",
    "               labelcolor='green', \n",
    "               labelrotation=15)\n",
    "\n",
    "ax.set_xticks([0.2, 1, 3])\n",
    "ax.set_xticklabels(['pos1', 'pos2', 'pos3'])\n",
    "ax.yaxis.set_major_locator(MultipleLocator(0.5))\n",
    "ax.yaxis.set_minor_locator(MultipleLocator(0.1))\n",
    "ax.grid(True, which='major', axis='both', alpha=1)\n",
    "\n",
    "c = ax.get_xticks()\n",
    "d = ax.get_xticklabels()"
   ]
  },
  {
   "cell_type": "code",
   "execution_count": null,
   "id": "16523ee6",
   "metadata": {},
   "outputs": [],
   "source": [
    "fig, axes = plt.subplots(nrows=4, \n",
    "                         ncols=4, \n",
    "                         figsize=(10,6),\n",
    "                         gridspec_kw={\n",
    "                             'wspace': 0.5, \n",
    "                             'hspace': 0.5})"
   ]
  },
  {
   "cell_type": "code",
   "execution_count": null,
   "id": "42f092ea",
   "metadata": {},
   "outputs": [],
   "source": [
    "# prepare some data\n",
    "np.random.seed(42)\n",
    "x = np.arange(1,11,1)\n",
    "y1 = np.linspace(300,400,10)\n",
    "y2 = np.random.randint(low=300,high=400,size=10)"
   ]
  },
  {
   "cell_type": "code",
   "execution_count": null,
   "id": "7bab1894",
   "metadata": {},
   "outputs": [],
   "source": [
    "fig = plt.figure(figsize=(10,6))\n",
    "ax = fig.add_axes([0.1, 0.1, 0.5, 0.8])\n",
    "#ax.plot(x, y1)\n",
    "\n",
    "h1 = ax.plot(x,y1, # data\n",
    "            marker='o',     # each marker will be rendered as a circle\n",
    "            markersize=8,   # marker size\n",
    "            markerfacecolor='red',   # marker facecolor\n",
    "            markeredgecolor='black',  # marker edgecolor\n",
    "            markeredgewidth=2,       # marker edge width\n",
    "            linestyle='--',            # line style will be dash line\n",
    "            linewidth=3,\n",
    "            zorder=3)          # line width\n",
    "\n",
    "h2 = ax.plot(x, y2, marker='o')\n",
    "\n",
    "ax.legend(handles=[h1[0], h2[0]], \n",
    "          labels=['blue line', 'orange line'],\n",
    "          loc='upper left',\n",
    "         bbox_to_anchor=(1,1),\n",
    "         title='legend',\n",
    "         frameon=False)\n",
    "\n",
    "for flier in bp['fliers']:    # outliers\n",
    "    flier.set_markersize(9)\n",
    "    flier.set_marker('v')\n",
    "for box in bp['boxes']:     # box bodys\n",
    "    box.set_facecolor('green')\n",
    "    box.set_edgecolor('black')\n",
    "    box.set_linewidth(2)\n",
    "for whisker in bp['whiskers']:   # whisker line\n",
    "    whisker.set_linewidth(5)\n",
    "for cap in bp['caps']:     # cap line\n",
    "    cap.set_color('red')\n",
    "    cap.set_linewidth(10)\n",
    "for median in bp['medians']:   # median line\n",
    "    median.set_linewidth(15)"
   ]
  },
  {
   "cell_type": "markdown",
   "id": "d1aa4564",
   "metadata": {},
   "source": [
    "# 5.0 Preparação dos Dados"
   ]
  },
  {
   "cell_type": "code",
   "execution_count": null,
   "id": "672872a5",
   "metadata": {},
   "outputs": [],
   "source": [
    "df5 = df4.copy()\n",
    "\n",
    "df5.to_csv(home_path+interim_data_path+'df5.csv')\n",
    "\n",
    "#df5 = load_csv(home_path+interim_data_path+'df5.csv')"
   ]
  },
  {
   "cell_type": "markdown",
   "id": "3bb41ae4",
   "metadata": {},
   "source": [
    "## 5.1 Normalização"
   ]
  },
  {
   "cell_type": "code",
   "execution_count": null,
   "id": "8583301f",
   "metadata": {},
   "outputs": [],
   "source": [
    "rs = RobustScaler()\n",
    "mms = MinMaxScaler()\n",
    "\n",
    "# competition distance\n",
    "df5['competition_distance'] = rs.fit_transform(df5[['competition_distance']].values)\n",
    "pickle.dump(rs, open(home_path+'models' + '/' +'parameter/competition_distance_scaler.pkl', 'wb'))\n",
    "\n",
    "# competition time month\n",
    "df5['competition_time_month'] = rs.fit_transform(df5[['competition_time_month']].values )\n",
    "pickle.dump(rs, open(home_path + 'models' + '/' + 'parameter/competition_time_month_scaler.pkl', 'wb'))\n",
    "\n",
    "# promo time week\n",
    "df5['promo_time_week'] = mms.fit_transform(df5[['promo_time_week']].values)\n",
    "pickle.dump(rs, open(home_path + 'models' + '/' + 'parameter/promo_time_week_scaler.pkl', 'wb'))\n",
    "\n",
    "# year\n",
    "df5['year'] = mms.fit_transform(df5[['year']].values)\n",
    "pickle.dump(mms, open(home_path + 'models' + '/' + 'parameter/year_scaler.pkl', 'wb'))"
   ]
  },
  {
   "cell_type": "markdown",
   "id": "8d1e3f66",
   "metadata": {},
   "source": [
    "## 5.2 Padronização\n"
   ]
  },
  {
   "cell_type": "code",
   "execution_count": null,
   "id": "81bc2d14",
   "metadata": {},
   "outputs": [],
   "source": []
  },
  {
   "cell_type": "markdown",
   "id": "d6608408",
   "metadata": {},
   "source": [
    "## 5.3  Transformação"
   ]
  },
  {
   "cell_type": "markdown",
   "id": "d7f00fd9",
   "metadata": {},
   "source": [
    "### 5.3.1 Encoding"
   ]
  },
  {
   "cell_type": "code",
   "execution_count": null,
   "id": "bfa391b1",
   "metadata": {},
   "outputs": [],
   "source": [
    "# state_holiday - One Hot Encoding\n",
    "df5 = pd.get_dummies(df5, prefix=['state_holiday'], columns=['state_holiday'])\n",
    "\n",
    "# store_type - Label Encoding\n",
    "le = LabelEncoder()\n",
    "df5['store_type'] = le.fit_transform(df5['store_type'])\n",
    "pickle.dump(le, open(home_path + 'models' + '/' + 'parameter/store_type_scaler.pkl', 'wb'))\n",
    "\n",
    "# assortment - Ordinal Encoding\n",
    "assortment_dict = {'basic': 1, 'extra': 2, 'extended': 3}\n",
    "df5['assortment'] = df5['assortment'].map(assortment_dict)"
   ]
  },
  {
   "cell_type": "markdown",
   "id": "30ce87b7",
   "metadata": {},
   "source": [
    "### 5.3.2 Transformação da Variável Resposta"
   ]
  },
  {
   "cell_type": "code",
   "execution_count": null,
   "id": "5bb814f7",
   "metadata": {},
   "outputs": [],
   "source": [
    "df5['sales'] = np.log1p( df5['sales'] )"
   ]
  },
  {
   "cell_type": "markdown",
   "id": "ce2273f1",
   "metadata": {},
   "source": [
    "### 5.3.3. Tranformação de Natureza Cíclica"
   ]
  },
  {
   "cell_type": "code",
   "execution_count": null,
   "id": "5155de83",
   "metadata": {},
   "outputs": [],
   "source": [
    "# day of week\n",
    "df5['day_of_week_sin'] = df5['day_of_week'].apply(lambda x: np.sin( x * (2. *np.pi/7)))\n",
    "df5['day_of_week_cos'] = df5['day_of_week'].apply(lambda x: np.cos( x * (2. *np.pi/7)))\n",
    "\n",
    "# month\n",
    "df5['month_sin'] = df5['month'].apply(lambda x: np.sin(x * (2. * np.pi/12)))\n",
    "df5['month_cos'] = df5['month'].apply(lambda x: np.cos(x * (2. * np.pi/12)))\n",
    "\n",
    "# day\n",
    "df5['day_sin'] = df5['day'].apply(lambda x: np.sin(x * (2. * np.pi/30 )))\n",
    "df5['day_cos'] = df5['day'].apply(lambda x: np.cos(x * (2. * np.pi/30 )))\n",
    "\n",
    "# week of year\n",
    "df5['week_of_year_sin'] = df5['week_of_year'].apply(lambda x: np.sin( x * (2. * np.pi/52 )))\n",
    "df5['week_of_year_cos'] = df5['week_of_year'].apply(lambda x: np.cos( x * (2. * np.pi/52 )))"
   ]
  },
  {
   "cell_type": "markdown",
   "id": "0614862e",
   "metadata": {},
   "source": [
    "# 6.0 Feature Selection"
   ]
  },
  {
   "cell_type": "code",
   "execution_count": 20,
   "id": "aae18825",
   "metadata": {},
   "outputs": [],
   "source": [
    "#df6 = df5.copy()\n",
    "\n",
    "#df6.to_csv(home_path+interim_data_path+'df6.csv')\n",
    "\n",
    "df6 = load_csv(home_path+interim_data_path+'df6.csv')"
   ]
  },
  {
   "cell_type": "markdown",
   "id": "bd8389f4",
   "metadata": {},
   "source": [
    "## 6.1 Divisão do conjunto de dados "
   ]
  },
  {
   "cell_type": "code",
   "execution_count": 21,
   "id": "3d065a27",
   "metadata": {},
   "outputs": [],
   "source": [
    "cols_drop = ['week_of_year', 'day', 'month', 'day_of_week', 'promo_since','competition_since', 'year_week']\n",
    "df6 = df6.drop(cols_drop, axis=1)"
   ]
  },
  {
   "cell_type": "code",
   "execution_count": 22,
   "id": "23cfc9ed",
   "metadata": {},
   "outputs": [
    {
     "name": "stdout",
     "output_type": "stream",
     "text": [
      "Training Min Date: 2013-01-01\n",
      "Training Max Date: 2015-06-18\n",
      "\n",
      "Test Min Date: 2015-06-19\n",
      "Test Max Date: 2015-07-31\n"
     ]
    }
   ],
   "source": [
    "# training dataset\n",
    "X_train = df6[df6['date'] < '2015-06-19']\n",
    "y_train = X_train['sales']\n",
    "\n",
    "# test dataset\n",
    "X_test = df6[df6['date'] >= '2015-06-19']\n",
    "y_test = X_test['sales']\n",
    "\n",
    "\n",
    "print('Training Min Date: {}'.format(X_train['date'].min()))\n",
    "print('Training Max Date: {}'.format(X_train['date'].max()))\n",
    "print('\\nTest Min Date: {}'.format(X_test['date'].min()))\n",
    "print('Test Max Date: {}'.format(X_test['date'].max()))"
   ]
  },
  {
   "cell_type": "markdown",
   "id": "721dc700",
   "metadata": {},
   "source": [
    "## 6.2. Boruta como Seletor de Variáveis"
   ]
  },
  {
   "cell_type": "code",
   "execution_count": null,
   "id": "e2225e93",
   "metadata": {},
   "outputs": [],
   "source": [
    "# training and test dataset for Boruta\n",
    "#X_train_n = X_train.drop(['date', 'sales'], axis=1).values\n",
    "#y_train_n = y_train.values.ravel()\n",
    "\n",
    "# define RandomForestRegressor\n",
    "#rf = RandomForestRegressor(n_jobs=-1)\n",
    "\n",
    "# define Boruta\n",
    "#boruta = BorutaPy(rf, n_estimators='auto', verbose=2, random_state=42).fit(X_train_n, y_train_n)"
   ]
  },
  {
   "cell_type": "markdown",
   "id": "25496af8",
   "metadata": {},
   "source": [
    "### 6.2.1 Melhores variáveis segundo o Boruta"
   ]
  },
  {
   "cell_type": "code",
   "execution_count": null,
   "id": "dcb66913",
   "metadata": {},
   "outputs": [],
   "source": [
    "cols_selected = boruta.support_.tolist()\n",
    "\n",
    "# best features\n",
    "X_train_fs = X_train.drop( ['date', 'sales'], axis=1 )\n",
    "cols_selected_boruta = X_train_fs.iloc[:, cols_selected].columns.to_list()\n",
    "\n",
    "# not selected boruta\n",
    "cols_not_selected_boruta = list( np.setdiff1d( X_train_fs.columns, cols_selected_boruta ) )"
   ]
  },
  {
   "cell_type": "markdown",
   "id": "98badcb5",
   "metadata": {},
   "source": [
    "## 6.3 Seleção Manual de Variáveis"
   ]
  },
  {
   "cell_type": "code",
   "execution_count": 23,
   "id": "37d6cc2f",
   "metadata": {},
   "outputs": [],
   "source": [
    "cols_selected_boruta = [\n",
    "    'store',\n",
    "    'promo',\n",
    "    'store_type',\n",
    "    'assortment',\n",
    "    'competition_distance',\n",
    "    'competition_open_since_month',\n",
    "    'competition_open_since_year',\n",
    "    'promo2',\n",
    "    'promo2_since_week',\n",
    "    'promo2_since_year',\n",
    "    'competition_time_month',\n",
    "    'promo_time_week',\n",
    "    'day_of_week_sin',\n",
    "    'day_of_week_cos',\n",
    "    'month_sin',\n",
    "    'month_cos',\n",
    "    'day_sin',\n",
    "    'day_cos',\n",
    "    'week_of_year_sin',\n",
    "    'week_of_year_cos']\n",
    "\n",
    "# columns to add\n",
    "feat_to_add = ['date', 'sales']\n",
    "cols_selected_boruta_full = cols_selected_boruta.copy()\n",
    "cols_selected_boruta_full.extend( feat_to_add )"
   ]
  },
  {
   "cell_type": "markdown",
   "id": "0fda9608",
   "metadata": {},
   "source": [
    "# 7.0 Modelar Algoritmos de ML"
   ]
  },
  {
   "cell_type": "code",
   "execution_count": 24,
   "id": "c44daac3",
   "metadata": {},
   "outputs": [],
   "source": [
    "x_train = X_train[ cols_selected_boruta ]\n",
    "x_test = X_test[ cols_selected_boruta ]"
   ]
  },
  {
   "cell_type": "code",
   "execution_count": 25,
   "id": "38d48637",
   "metadata": {},
   "outputs": [],
   "source": [
    "x_training = X_train[ cols_selected_boruta_full ]"
   ]
  },
  {
   "cell_type": "markdown",
   "id": "ae6c880e",
   "metadata": {},
   "source": [
    "## 7.1 Modelo de Média"
   ]
  },
  {
   "cell_type": "code",
   "execution_count": 16,
   "id": "39081fbd",
   "metadata": {},
   "outputs": [
    {
     "data": {
      "text/html": [
       "<div>\n",
       "<style scoped>\n",
       "    .dataframe tbody tr th:only-of-type {\n",
       "        vertical-align: middle;\n",
       "    }\n",
       "\n",
       "    .dataframe tbody tr th {\n",
       "        vertical-align: top;\n",
       "    }\n",
       "\n",
       "    .dataframe thead th {\n",
       "        text-align: right;\n",
       "    }\n",
       "</style>\n",
       "<table border=\"1\" class=\"dataframe\">\n",
       "  <thead>\n",
       "    <tr style=\"text-align: right;\">\n",
       "      <th></th>\n",
       "      <th>Model Name</th>\n",
       "      <th>MAE</th>\n",
       "      <th>MAPE</th>\n",
       "      <th>RMSE</th>\n",
       "    </tr>\n",
       "  </thead>\n",
       "  <tbody>\n",
       "    <tr>\n",
       "      <th>0</th>\n",
       "      <td>Average Model</td>\n",
       "      <td>1354.800353</td>\n",
       "      <td>0.2064</td>\n",
       "      <td>1835.135542</td>\n",
       "    </tr>\n",
       "  </tbody>\n",
       "</table>\n",
       "</div>"
      ],
      "text/plain": [
       "      Model Name          MAE    MAPE         RMSE\n",
       "0  Average Model  1354.800353  0.2064  1835.135542"
      ]
     },
     "execution_count": 16,
     "metadata": {},
     "output_type": "execute_result"
    }
   ],
   "source": [
    "aux1 = x_test.copy()\n",
    "aux1['sales'] = y_test.copy()\n",
    "\n",
    "# prediction\n",
    "aux2 = aux1[['store', 'sales']].groupby('store').mean().reset_index().rename(columns={'sales': 'predictions'})\n",
    "aux1 = pd.merge(aux1, aux2, how='left', on='store')\n",
    "yhat_baseline = aux1['predictions']\n",
    "\n",
    "# performance\n",
    "baseline_result = ml_error('Average Model', np.expm1(y_test), np.expm1(yhat_baseline))\n",
    "baseline_result"
   ]
  },
  {
   "cell_type": "markdown",
   "id": "d10c7899",
   "metadata": {},
   "source": [
    "## 7.2 Modelo de Regressão Linear"
   ]
  },
  {
   "cell_type": "code",
   "execution_count": 17,
   "id": "2604fc96",
   "metadata": {},
   "outputs": [
    {
     "data": {
      "text/html": [
       "<div>\n",
       "<style scoped>\n",
       "    .dataframe tbody tr th:only-of-type {\n",
       "        vertical-align: middle;\n",
       "    }\n",
       "\n",
       "    .dataframe tbody tr th {\n",
       "        vertical-align: top;\n",
       "    }\n",
       "\n",
       "    .dataframe thead th {\n",
       "        text-align: right;\n",
       "    }\n",
       "</style>\n",
       "<table border=\"1\" class=\"dataframe\">\n",
       "  <thead>\n",
       "    <tr style=\"text-align: right;\">\n",
       "      <th></th>\n",
       "      <th>Model Name</th>\n",
       "      <th>MAE</th>\n",
       "      <th>MAPE</th>\n",
       "      <th>RMSE</th>\n",
       "    </tr>\n",
       "  </thead>\n",
       "  <tbody>\n",
       "    <tr>\n",
       "      <th>0</th>\n",
       "      <td>Linear Regression</td>\n",
       "      <td>1866.162909</td>\n",
       "      <td>0.292555</td>\n",
       "      <td>2671.235745</td>\n",
       "    </tr>\n",
       "  </tbody>\n",
       "</table>\n",
       "</div>"
      ],
      "text/plain": [
       "          Model Name          MAE      MAPE         RMSE\n",
       "0  Linear Regression  1866.162909  0.292555  2671.235745"
      ]
     },
     "execution_count": 17,
     "metadata": {},
     "output_type": "execute_result"
    }
   ],
   "source": [
    "# model\n",
    "lr = LinearRegression().fit( x_train, y_train )\n",
    "\n",
    "# prediction\n",
    "yhat_lr = lr.predict( x_test )\n",
    "\n",
    "# performance\n",
    "lr_result = ml_error( 'Linear Regression', np.expm1( y_test ), np.expm1(yhat_lr ) )\n",
    "lr_result"
   ]
  },
  {
   "cell_type": "markdown",
   "id": "cbfb1ed7",
   "metadata": {},
   "source": [
    "### 7.2.1 Cross-Validation - Modelo de Regressão Linear"
   ]
  },
  {
   "cell_type": "code",
   "execution_count": 18,
   "id": "db95efdf",
   "metadata": {},
   "outputs": [
    {
     "ename": "NameError",
     "evalue": "name 'cross_validation' is not defined",
     "output_type": "error",
     "traceback": [
      "\u001b[0;31m---------------------------------------------------------------------------\u001b[0m",
      "\u001b[0;31mNameError\u001b[0m                                 Traceback (most recent call last)",
      "Input \u001b[0;32mIn [18]\u001b[0m, in \u001b[0;36m<cell line: 1>\u001b[0;34m()\u001b[0m\n\u001b[0;32m----> 1\u001b[0m lr_result_cv \u001b[38;5;241m=\u001b[39m \u001b[43mcross_validation\u001b[49m( x_training, \u001b[38;5;241m5\u001b[39m, \u001b[38;5;124m'\u001b[39m\u001b[38;5;124mLinear Regression\u001b[39m\u001b[38;5;124m'\u001b[39m, lr,verbose\u001b[38;5;241m=\u001b[39m\u001b[38;5;28;01mFalse\u001b[39;00m )\n\u001b[1;32m      2\u001b[0m lr_result_cv\n",
      "\u001b[0;31mNameError\u001b[0m: name 'cross_validation' is not defined"
     ]
    }
   ],
   "source": [
    "lr_result_cv = cross_validation( x_training, 5, 'Linear Regression', lr,verbose=False )\n",
    "lr_result_cv"
   ]
  },
  {
   "cell_type": "markdown",
   "id": "b1c09380",
   "metadata": {},
   "source": [
    "## 7.3 Modelo de Regressão Regularizado - Lasso"
   ]
  },
  {
   "cell_type": "code",
   "execution_count": 19,
   "id": "5373da15",
   "metadata": {},
   "outputs": [
    {
     "data": {
      "text/html": [
       "<div>\n",
       "<style scoped>\n",
       "    .dataframe tbody tr th:only-of-type {\n",
       "        vertical-align: middle;\n",
       "    }\n",
       "\n",
       "    .dataframe tbody tr th {\n",
       "        vertical-align: top;\n",
       "    }\n",
       "\n",
       "    .dataframe thead th {\n",
       "        text-align: right;\n",
       "    }\n",
       "</style>\n",
       "<table border=\"1\" class=\"dataframe\">\n",
       "  <thead>\n",
       "    <tr style=\"text-align: right;\">\n",
       "      <th></th>\n",
       "      <th>Model Name</th>\n",
       "      <th>MAE</th>\n",
       "      <th>MAPE</th>\n",
       "      <th>RMSE</th>\n",
       "    </tr>\n",
       "  </thead>\n",
       "  <tbody>\n",
       "    <tr>\n",
       "      <th>0</th>\n",
       "      <td>Linear Regression - Lasso</td>\n",
       "      <td>1891.266181</td>\n",
       "      <td>0.289061</td>\n",
       "      <td>2744.602221</td>\n",
       "    </tr>\n",
       "  </tbody>\n",
       "</table>\n",
       "</div>"
      ],
      "text/plain": [
       "                  Model Name          MAE      MAPE         RMSE\n",
       "0  Linear Regression - Lasso  1891.266181  0.289061  2744.602221"
      ]
     },
     "execution_count": 19,
     "metadata": {},
     "output_type": "execute_result"
    }
   ],
   "source": [
    "# model\n",
    "lrr = Lasso( alpha=0.01 ).fit( x_train, y_train )\n",
    "\n",
    "# prediction\n",
    "yhat_lrr = lrr.predict( x_test )\n",
    "\n",
    "# performance\n",
    "lrr_result = ml_error( 'Linear Regression - Lasso', np.expm1( y_test ), np.expm1( yhat_lrr ) )\n",
    "lrr_result"
   ]
  },
  {
   "cell_type": "markdown",
   "id": "1ccd520d",
   "metadata": {},
   "source": [
    "### 7.3.1. Lasso - Cross Validation"
   ]
  },
  {
   "cell_type": "code",
   "execution_count": 3,
   "id": "6cff9171",
   "metadata": {},
   "outputs": [
    {
     "ename": "NameError",
     "evalue": "name 'x_training' is not defined",
     "output_type": "error",
     "traceback": [
      "\u001b[0;31m---------------------------------------------------------------------------\u001b[0m",
      "\u001b[0;31mNameError\u001b[0m                                 Traceback (most recent call last)",
      "Input \u001b[0;32mIn [3]\u001b[0m, in \u001b[0;36m<cell line: 1>\u001b[0;34m()\u001b[0m\n\u001b[0;32m----> 1\u001b[0m lrr_result_cv \u001b[38;5;241m=\u001b[39m cross_validation( \u001b[43mx_training\u001b[49m, \u001b[38;5;241m5\u001b[39m, \u001b[38;5;124m'\u001b[39m\u001b[38;5;124mLasso\u001b[39m\u001b[38;5;124m'\u001b[39m, lrr, verbose\u001b[38;5;241m=\u001b[39m\u001b[38;5;28;01mFalse\u001b[39;00m )\n\u001b[1;32m      2\u001b[0m lrr_result_cv\n",
      "\u001b[0;31mNameError\u001b[0m: name 'x_training' is not defined"
     ]
    }
   ],
   "source": [
    "lrr_result_cv = cross_validation( x_training, 5, 'Lasso', lrr, verbose=False )\n",
    "lrr_result_cv"
   ]
  },
  {
   "cell_type": "markdown",
   "id": "23766103",
   "metadata": {},
   "source": [
    "## 7.4 Random Forest Regressor"
   ]
  },
  {
   "cell_type": "code",
   "execution_count": null,
   "id": "6fd69dcb",
   "metadata": {},
   "outputs": [],
   "source": [
    "# model\n",
    "rf = RandomForestRegressor( n_estimators=100, n_jobs=-1, random_state=42 ).fit(x_train, y_train )\n",
    "\n",
    "# prediction\n",
    "yhat_rf = rf.predict( x_test )\n",
    "\n",
    "# performance\n",
    "rf_result = ml_error( 'Random Forest Regressor', np.expm1( y_test ), np.expm1(yhat_rf ) )\n",
    "rf_result"
   ]
  },
  {
   "cell_type": "markdown",
   "id": "9886fbeb",
   "metadata": {},
   "source": [
    "### 7.4.1. Random Forest Regressor - Cross Validation"
   ]
  },
  {
   "cell_type": "code",
   "execution_count": null,
   "id": "5c7c1da7",
   "metadata": {},
   "outputs": [],
   "source": [
    "rf_result_cv = cross_validation( x_training, 5, 'Random Forest Regressor', rf, verbose=True )\n",
    "rf_result_cv"
   ]
  },
  {
   "cell_type": "markdown",
   "id": "9068e597",
   "metadata": {},
   "source": [
    "## 7.5. XGBoost Regressor"
   ]
  },
  {
   "cell_type": "code",
   "execution_count": null,
   "id": "9a746a19",
   "metadata": {},
   "outputs": [],
   "source": [
    "# model\n",
    "model_xgb = xgb.XGBRegressor(objective='reg:squarederror',\n",
    "                            n_estimators=100,\n",
    "                            eta=0.01,\n",
    "                            max_depth=10,\n",
    "                            subsample=0.7,\n",
    "                            colsample_bytee=0.9 ).fit( x_train, y_train )\n",
    "\n",
    "# prediction\n",
    "yhat_xgb = model_xgb.predict( x_test )\n",
    "\n",
    "# performance\n",
    "xgb_result = ml_error( 'XGBoost Regressor', np.expm1( y_test ), np.expm1(yhat_xgb ) )\n",
    "xgb_result"
   ]
  },
  {
   "cell_type": "markdown",
   "id": "f737658d",
   "metadata": {},
   "source": [
    "### 7.5.1. XGBoost Regressor - Cross Validation"
   ]
  },
  {
   "cell_type": "code",
   "execution_count": null,
   "id": "43bce670",
   "metadata": {},
   "outputs": [],
   "source": [
    "xgb_result_cv = cross_validation( x_training, 5, 'XGBoost Regressor',model_xgb, verbose=True )\n",
    "xgb_result_cv"
   ]
  },
  {
   "cell_type": "markdown",
   "id": "1a35b4a3",
   "metadata": {},
   "source": [
    "## 7.6. Compare Model’s Performance"
   ]
  },
  {
   "cell_type": "markdown",
   "id": "d1ca0ebc",
   "metadata": {},
   "source": [
    "### 7.6.1. Single Performance"
   ]
  },
  {
   "cell_type": "code",
   "execution_count": 7,
   "id": "b5c10495",
   "metadata": {},
   "outputs": [
    {
     "ename": "NameError",
     "evalue": "name 'pd' is not defined",
     "output_type": "error",
     "traceback": [
      "\u001b[0;31m---------------------------------------------------------------------------\u001b[0m",
      "\u001b[0;31mNameError\u001b[0m                                 Traceback (most recent call last)",
      "Input \u001b[0;32mIn [7]\u001b[0m, in \u001b[0;36m<cell line: 1>\u001b[0;34m()\u001b[0m\n\u001b[0;32m----> 1\u001b[0m modelling_result \u001b[38;5;241m=\u001b[39m \u001b[43mpd\u001b[49m\u001b[38;5;241m.\u001b[39mconcat( [baseline_result, lr_result, lrr_result, rf_result, xgb_result] )\n\u001b[1;32m      2\u001b[0m modelling_result\u001b[38;5;241m.\u001b[39msort_values( \u001b[38;5;124m'\u001b[39m\u001b[38;5;124mRMSE\u001b[39m\u001b[38;5;124m'\u001b[39m )\n",
      "\u001b[0;31mNameError\u001b[0m: name 'pd' is not defined"
     ]
    }
   ],
   "source": [
    "modelling_result = pd.concat( [baseline_result, lr_result, lrr_result, rf_result, xgb_result] )\n",
    "modelling_result.sort_values( 'RMSE' )"
   ]
  },
  {
   "cell_type": "markdown",
   "id": "40898340",
   "metadata": {},
   "source": [
    "### 7.6.2. Real Performance - Cross Validation"
   ]
  },
  {
   "cell_type": "code",
   "execution_count": 8,
   "id": "ce322200",
   "metadata": {},
   "outputs": [
    {
     "ename": "NameError",
     "evalue": "name 'pd' is not defined",
     "output_type": "error",
     "traceback": [
      "\u001b[0;31m---------------------------------------------------------------------------\u001b[0m",
      "\u001b[0;31mNameError\u001b[0m                                 Traceback (most recent call last)",
      "Input \u001b[0;32mIn [8]\u001b[0m, in \u001b[0;36m<cell line: 1>\u001b[0;34m()\u001b[0m\n\u001b[0;32m----> 1\u001b[0m modelling_result_cv \u001b[38;5;241m=\u001b[39m \u001b[43mpd\u001b[49m\u001b[38;5;241m.\u001b[39mconcat( [lr_result_cv, lrr_result_cv, rf_result_cv, xgb_result_cv] )\n\u001b[1;32m      2\u001b[0m modelling_result_cv\n",
      "\u001b[0;31mNameError\u001b[0m: name 'pd' is not defined"
     ]
    }
   ],
   "source": [
    "modelling_result_cv = pd.concat( [lr_result_cv, lrr_result_cv, rf_result_cv, xgb_result_cv] )\n",
    "modelling_result_cv"
   ]
  },
  {
   "cell_type": "markdown",
   "id": "d6a95d79",
   "metadata": {},
   "source": [
    "# 8.0 Hyperparamenter Fine Tuning"
   ]
  },
  {
   "cell_type": "markdown",
   "id": "6cd159cf",
   "metadata": {},
   "source": [
    "## 8.1 Random Search"
   ]
  },
  {
   "cell_type": "code",
   "execution_count": null,
   "id": "9db3de07",
   "metadata": {},
   "outputs": [],
   "source": [
    "param = {\n",
    " 'n_estimators': [1500, 1700, 2500, 3000, 3500],\n",
    " 'eta': [0.01, 0.03],\n",
    " 'max_depth': [3, 5, 9],\n",
    " 'subsample': [0.1, 0.5, 0.7],\n",
    " 'colsample_bytree': [0.3, 0.7, 0.9],\n",
    " 'min_child_weight': [3, 8, 15]\n",
    " }\n",
    "\n",
    "MAX_EVAL = 5"
   ]
  },
  {
   "cell_type": "code",
   "execution_count": null,
   "id": "dadd1431",
   "metadata": {},
   "outputs": [],
   "source": [
    "final_result = pd.DataFrame()\n",
    "\n",
    "for i in range( MAX_EVAL ):\n",
    "    # choose values for parameters randomly\n",
    "    hp = { k: random.sample( v, 1 )[0] for k, v in param.items() }\n",
    "    print( hp )\n",
    "\n",
    "    # model\n",
    "    model_xgb = xgb.XGBRegressor( objective='reg:squarederror',\n",
    "                                 n_estimators=hp['n_estimators'],\n",
    "                                 eta=hp['eta'],\n",
    "                                 max_depth=hp['max_depth'],\n",
    "                                 subsample=hp['subsample'],\n",
    "                                 colsample_bytee=hp['colsample_bytree'],\n",
    "                                 min_child_weight=hp['min_child_weight'] )\n",
    "    # performance\n",
    "    result = cross_validation( x_training, 5, 'XGBoost Regressor', model_xgb, verbose=True )\n",
    "    final_result = pd.concat( [final_result, result] )\n",
    "\n",
    "final_result"
   ]
  },
  {
   "cell_type": "code",
   "execution_count": null,
   "id": "18b79e61",
   "metadata": {},
   "outputs": [],
   "source": [
    "final_result"
   ]
  },
  {
   "cell_type": "markdown",
   "id": "60878c53",
   "metadata": {},
   "source": [
    "## 8.2 Modelo Final"
   ]
  },
  {
   "cell_type": "code",
   "execution_count": 26,
   "id": "e37ef767",
   "metadata": {},
   "outputs": [],
   "source": [
    "param_tuned = {\n",
    "    'n_estimators': 3000,\n",
    "    'eta': 0.03,\n",
    "    'max_depth': 5,\n",
    "    'subsample': 0.7,\n",
    "    'colsample_bytree': 0.7,\n",
    "    'min_child_weight': 3\n",
    "    }"
   ]
  },
  {
   "cell_type": "code",
   "execution_count": 28,
   "id": "83860db7",
   "metadata": {},
   "outputs": [
    {
     "data": {
      "text/html": [
       "<div>\n",
       "<style scoped>\n",
       "    .dataframe tbody tr th:only-of-type {\n",
       "        vertical-align: middle;\n",
       "    }\n",
       "\n",
       "    .dataframe tbody tr th {\n",
       "        vertical-align: top;\n",
       "    }\n",
       "\n",
       "    .dataframe thead th {\n",
       "        text-align: right;\n",
       "    }\n",
       "</style>\n",
       "<table border=\"1\" class=\"dataframe\">\n",
       "  <thead>\n",
       "    <tr style=\"text-align: right;\">\n",
       "      <th></th>\n",
       "      <th>Model Name</th>\n",
       "      <th>MAE</th>\n",
       "      <th>MAPE</th>\n",
       "      <th>RMSE</th>\n",
       "    </tr>\n",
       "  </thead>\n",
       "  <tbody>\n",
       "    <tr>\n",
       "      <th>0</th>\n",
       "      <td>XGBoost Regressor</td>\n",
       "      <td>764.975639</td>\n",
       "      <td>0.114861</td>\n",
       "      <td>1100.725149</td>\n",
       "    </tr>\n",
       "  </tbody>\n",
       "</table>\n",
       "</div>"
      ],
      "text/plain": [
       "          Model Name         MAE      MAPE         RMSE\n",
       "0  XGBoost Regressor  764.975639  0.114861  1100.725149"
      ]
     },
     "execution_count": 28,
     "metadata": {},
     "output_type": "execute_result"
    }
   ],
   "source": [
    "# model\n",
    "model_xgb_tuned = xgb.XGBRegressor( objective='reg:squarederror',\n",
    "                                    n_estimators=param_tuned['n_estimators'],\n",
    "                                    eta=param_tuned['eta'],\n",
    "                                    max_depth=param_tuned['max_depth'],\n",
    "                                    subsample=param_tuned['subsample'],\n",
    "                                    colsample_bytree=param_tuned['colsample_bytree'],\n",
    "                                    min_child_weight=param_tuned['min_child_weight'] ).fit( x_train, y_train )\n",
    "\n",
    "# prediction\n",
    "yhat_xgb_tuned = model_xgb_tuned.predict( x_test )\n",
    "\n",
    "# performance\n",
    "xgb_result_tuned = ml_error( 'XGBoost Regressor', np.expm1( y_test ), np.expm1(yhat_xgb_tuned ) )\n",
    "xgb_result_tuned"
   ]
  },
  {
   "cell_type": "code",
   "execution_count": 31,
   "id": "0b2084d8",
   "metadata": {},
   "outputs": [],
   "source": [
    "pickle.dump(model_xgb_tuned, open(home_path + 'models' + '/' + 'model_final/model_rossmann.pkl', 'wb'))"
   ]
  },
  {
   "cell_type": "code",
   "execution_count": 37,
   "id": "0c54b643",
   "metadata": {},
   "outputs": [
    {
     "data": {
      "text/plain": [
       "40981.99999999998"
      ]
     },
     "execution_count": 37,
     "metadata": {},
     "output_type": "execute_result"
    }
   ],
   "source": [
    "range_y_test = np.expm1( y_test ).max() - np.expm1( y_test ).min()\n",
    "range_y_test"
   ]
  },
  {
   "cell_type": "code",
   "execution_count": 38,
   "id": "e9cdf72a",
   "metadata": {},
   "outputs": [
    {
     "data": {
      "text/plain": [
       "-0.017594924431520973"
      ]
     },
     "execution_count": 38,
     "metadata": {},
     "output_type": "execute_result"
    }
   ],
   "source": [
    "mpe = mean_percentage_error(np.expm1(y_test), np.expm1(yhat_xgb_tuned))\n",
    "\n",
    "mpe"
   ]
  },
  {
   "cell_type": "markdown",
   "id": "e6ba2421",
   "metadata": {},
   "source": [
    "# 9.0 Tradução e Interpretação do Erro"
   ]
  },
  {
   "cell_type": "code",
   "execution_count": 39,
   "id": "40dd21a5",
   "metadata": {},
   "outputs": [],
   "source": [
    "## aqui só vou pegar algumas colunas do boruta_full\n",
    "df9 = X_test[cols_selected_boruta_full]\n",
    "\n",
    "df9.to_csv(home_path+interim_data_path+'df9.csv')\n",
    "\n",
    "#df9 = load_csv(home_path+interim_data_path+'df9.csv')"
   ]
  },
  {
   "cell_type": "code",
   "execution_count": 40,
   "id": "988aa962",
   "metadata": {},
   "outputs": [
    {
     "name": "stderr",
     "output_type": "stream",
     "text": [
      "/tmp/ipykernel_711000/2428875374.py:2: SettingWithCopyWarning: \n",
      "A value is trying to be set on a copy of a slice from a DataFrame.\n",
      "Try using .loc[row_indexer,col_indexer] = value instead\n",
      "\n",
      "See the caveats in the documentation: https://pandas.pydata.org/pandas-docs/stable/user_guide/indexing.html#returning-a-view-versus-a-copy\n",
      "  df9['sales'] = np.expm1(df9['sales'])\n",
      "/tmp/ipykernel_711000/2428875374.py:3: SettingWithCopyWarning: \n",
      "A value is trying to be set on a copy of a slice from a DataFrame.\n",
      "Try using .loc[row_indexer,col_indexer] = value instead\n",
      "\n",
      "See the caveats in the documentation: https://pandas.pydata.org/pandas-docs/stable/user_guide/indexing.html#returning-a-view-versus-a-copy\n",
      "  df9['predictions'] = np.expm1(yhat_xgb_tuned)\n"
     ]
    }
   ],
   "source": [
    "# rescale\n",
    "df9['sales'] = np.expm1(df9['sales'])\n",
    "df9['predictions'] = np.expm1(yhat_xgb_tuned)"
   ]
  },
  {
   "cell_type": "markdown",
   "id": "9b756ef9",
   "metadata": {},
   "source": [
    "## 9.1 Performance de Negócio"
   ]
  },
  {
   "cell_type": "code",
   "execution_count": 41,
   "id": "40e4a855",
   "metadata": {},
   "outputs": [],
   "source": [
    "# sum of predictions\n",
    "df91 = df9[['store', 'predictions']].groupby( 'store' ).sum().reset_index()\n",
    "\n",
    "# MAE and MAPE\n",
    "df9_aux1 = df9[['store', 'sales', 'predictions']].groupby( 'store' ).apply(lambda x: mean_absolute_error( x['sales'], x['predictions'] ) ).reset_index().rename( columns={0:'MAE'})\n",
    "df9_aux2 = df9[['store', 'sales', 'predictions']].groupby( 'store' ).apply(lambda x: mean_absolute_percentage_error( x['sales'], x['predictions'] ) ).reset_index().rename( columns={0:'MAPE'})\n",
    "\n",
    "# Merge\n",
    "df9_aux3 = pd.merge( df9_aux1, df9_aux2, how='inner', on='store' )\n",
    "df92 = pd.merge( df91, df9_aux3, how='inner', on='store' )"
   ]
  },
  {
   "cell_type": "code",
   "execution_count": 42,
   "id": "df2ef688",
   "metadata": {},
   "outputs": [
    {
     "data": {
      "text/html": [
       "<div>\n",
       "<style scoped>\n",
       "    .dataframe tbody tr th:only-of-type {\n",
       "        vertical-align: middle;\n",
       "    }\n",
       "\n",
       "    .dataframe tbody tr th {\n",
       "        vertical-align: top;\n",
       "    }\n",
       "\n",
       "    .dataframe thead th {\n",
       "        text-align: right;\n",
       "    }\n",
       "</style>\n",
       "<table border=\"1\" class=\"dataframe\">\n",
       "  <thead>\n",
       "    <tr style=\"text-align: right;\">\n",
       "      <th></th>\n",
       "      <th>store</th>\n",
       "      <th>predictions</th>\n",
       "      <th>MAE</th>\n",
       "      <th>MAPE</th>\n",
       "    </tr>\n",
       "  </thead>\n",
       "  <tbody>\n",
       "    <tr>\n",
       "      <th>0</th>\n",
       "      <td>1</td>\n",
       "      <td>168687.343750</td>\n",
       "      <td>312.836663</td>\n",
       "      <td>0.072395</td>\n",
       "    </tr>\n",
       "    <tr>\n",
       "      <th>1</th>\n",
       "      <td>2</td>\n",
       "      <td>181478.250000</td>\n",
       "      <td>437.644947</td>\n",
       "      <td>0.087774</td>\n",
       "    </tr>\n",
       "    <tr>\n",
       "      <th>2</th>\n",
       "      <td>3</td>\n",
       "      <td>264653.250000</td>\n",
       "      <td>607.568584</td>\n",
       "      <td>0.084043</td>\n",
       "    </tr>\n",
       "    <tr>\n",
       "      <th>3</th>\n",
       "      <td>4</td>\n",
       "      <td>346129.093750</td>\n",
       "      <td>853.454946</td>\n",
       "      <td>0.081535</td>\n",
       "    </tr>\n",
       "    <tr>\n",
       "      <th>4</th>\n",
       "      <td>5</td>\n",
       "      <td>173316.078125</td>\n",
       "      <td>399.381750</td>\n",
       "      <td>0.090586</td>\n",
       "    </tr>\n",
       "  </tbody>\n",
       "</table>\n",
       "</div>"
      ],
      "text/plain": [
       "   store    predictions         MAE      MAPE\n",
       "0      1  168687.343750  312.836663  0.072395\n",
       "1      2  181478.250000  437.644947  0.087774\n",
       "2      3  264653.250000  607.568584  0.084043\n",
       "3      4  346129.093750  853.454946  0.081535\n",
       "4      5  173316.078125  399.381750  0.090586"
      ]
     },
     "execution_count": 42,
     "metadata": {},
     "output_type": "execute_result"
    }
   ],
   "source": [
    "df92.head()"
   ]
  },
  {
   "cell_type": "code",
   "execution_count": 56,
   "id": "d06239f8",
   "metadata": {},
   "outputs": [],
   "source": [
    "# Scenarios\n",
    "df92['worst_scenario'] = df92['predictions'] - df92['MAPE']*df92['predictions']\n",
    "df92['best_scenario'] = df92['predictions'] + df92['MAPE']*df92['predictions']\n",
    "\n",
    "pd.options.display.float_format = '{:,.2f}'.format\n",
    "\n",
    "# order columns\n",
    "df92 = df92[['store', 'predictions', 'worst_scenario', 'best_scenario', 'MAE', 'MAPE']]"
   ]
  },
  {
   "cell_type": "code",
   "execution_count": 57,
   "id": "04cf4d0c",
   "metadata": {},
   "outputs": [
    {
     "data": {
      "text/html": [
       "<div>\n",
       "<style scoped>\n",
       "    .dataframe tbody tr th:only-of-type {\n",
       "        vertical-align: middle;\n",
       "    }\n",
       "\n",
       "    .dataframe tbody tr th {\n",
       "        vertical-align: top;\n",
       "    }\n",
       "\n",
       "    .dataframe thead th {\n",
       "        text-align: right;\n",
       "    }\n",
       "</style>\n",
       "<table border=\"1\" class=\"dataframe\">\n",
       "  <thead>\n",
       "    <tr style=\"text-align: right;\">\n",
       "      <th></th>\n",
       "      <th>store</th>\n",
       "      <th>predictions</th>\n",
       "      <th>worst_scenario</th>\n",
       "      <th>best_scenario</th>\n",
       "      <th>MAE</th>\n",
       "      <th>MAPE</th>\n",
       "    </tr>\n",
       "  </thead>\n",
       "  <tbody>\n",
       "    <tr>\n",
       "      <th>126</th>\n",
       "      <td>127</td>\n",
       "      <td>199,641.52</td>\n",
       "      <td>173,261.07</td>\n",
       "      <td>226,021.96</td>\n",
       "      <td>718.11</td>\n",
       "      <td>0.13</td>\n",
       "    </tr>\n",
       "    <tr>\n",
       "      <th>159</th>\n",
       "      <td>160</td>\n",
       "      <td>220,203.03</td>\n",
       "      <td>201,771.24</td>\n",
       "      <td>238,634.82</td>\n",
       "      <td>456.51</td>\n",
       "      <td>0.08</td>\n",
       "    </tr>\n",
       "    <tr>\n",
       "      <th>879</th>\n",
       "      <td>880</td>\n",
       "      <td>283,334.44</td>\n",
       "      <td>259,727.34</td>\n",
       "      <td>306,941.54</td>\n",
       "      <td>708.35</td>\n",
       "      <td>0.08</td>\n",
       "    </tr>\n",
       "    <tr>\n",
       "      <th>440</th>\n",
       "      <td>441</td>\n",
       "      <td>233,006.69</td>\n",
       "      <td>211,117.72</td>\n",
       "      <td>254,895.66</td>\n",
       "      <td>619.01</td>\n",
       "      <td>0.09</td>\n",
       "    </tr>\n",
       "    <tr>\n",
       "      <th>1086</th>\n",
       "      <td>1087</td>\n",
       "      <td>236,658.80</td>\n",
       "      <td>217,400.08</td>\n",
       "      <td>255,917.52</td>\n",
       "      <td>545.73</td>\n",
       "      <td>0.08</td>\n",
       "    </tr>\n",
       "  </tbody>\n",
       "</table>\n",
       "</div>"
      ],
      "text/plain": [
       "      store  predictions  worst_scenario  best_scenario    MAE  MAPE\n",
       "126     127   199,641.52      173,261.07     226,021.96 718.11  0.13\n",
       "159     160   220,203.03      201,771.24     238,634.82 456.51  0.08\n",
       "879     880   283,334.44      259,727.34     306,941.54 708.35  0.08\n",
       "440     441   233,006.69      211,117.72     254,895.66 619.01  0.09\n",
       "1086   1087   236,658.80      217,400.08     255,917.52 545.73  0.08"
      ]
     },
     "execution_count": 57,
     "metadata": {},
     "output_type": "execute_result"
    }
   ],
   "source": [
    "df92.sample(5)"
   ]
  },
  {
   "cell_type": "code",
   "execution_count": 107,
   "id": "9e4a8734",
   "metadata": {},
   "outputs": [
    {
     "data": {
      "image/png": "[encoded data removed]",
      "text/plain": [
       "<Figure size 864x720 with 1 Axes>"
      ]
     },
     "metadata": {},
     "output_type": "display_data"
    }
   ],
   "source": [
    "sns.set_style('white')\n",
    "sns.set_context('paper', font_scale=2.0)\n",
    "\n",
    "fig, ax = plt.subplots()\n",
    "\n",
    "sns.scatterplot(x='store', \n",
    "                y='MAPE', \n",
    "                data=df92,\n",
    "                s=60,\n",
    "                color='#000000',\n",
    "                alpha=1)\n",
    "\n",
    "plt.axhline(0.0975, \n",
    "            linestyle='-',\n",
    "            color='#FE420F',\n",
    "            alpha=1,\n",
    "           linewidth=2.0\n",
    "           )\n",
    "\n",
    "for axis in ['bottom', 'left']:\n",
    "    ax.spines[axis].set_linewidth(2.5)\n",
    "    ax.spines[axis].set_color('0.2')\n",
    "\n",
    "ax.spines['top'].set_visible(False)\n",
    "ax.spines['right'].set_visible(False)\n",
    "\n",
    "\n",
    "ax.grid(True, which='major', axis='both', alpha=1)\n",
    "\n",
    "ax.tick_params(axis='x', \n",
    "               bottom=True,\n",
    "               which='major', \n",
    "               direction='out', \n",
    "               length=10, \n",
    "               width=5,\n",
    "               color='0.2', \n",
    "               pad=15, \n",
    "               labelsize=15, \n",
    "               labelcolor='black', \n",
    "               labelrotation=0)\n",
    "\n",
    "ax.tick_params(axis='y', \n",
    "               left=True,\n",
    "               which='major', \n",
    "               direction='out', \n",
    "               length=10, \n",
    "               width=5, \n",
    "               color='0.2', \n",
    "               pad=15, \n",
    "               labelsize=15, \n",
    "               labelcolor='black', \n",
    "               labelrotation=0)\n",
    "\n",
    "ax.set_xlabel(ax.get_xlabel(), fontsize=14, weight='bold')\n",
    "ax.set_ylabel(ax.get_ylabel(), fontsize=14, weight='bold')\n",
    "\n",
    "\n",
    "plt.xticks(size=14, weight='bold', color = '0.2')\n",
    "plt.yticks(size=14, weight='bold', color = '0.2')\n",
    "\n",
    "\n",
    "plt.savefig('/home/sildolfoneto/Documents/repos/tcc/rossmann-stores-sales/reports/figures/mape-store-scatter.png',\n",
    "           dpi=400,\n",
    "           facecolor=ax.get_facecolor())"
   ]
  },
  {
   "cell_type": "markdown",
   "id": "fe54a4a4",
   "metadata": {},
   "source": [
    "## 9.2 Performance Total"
   ]
  },
  {
   "cell_type": "code",
   "execution_count": 108,
   "id": "b04be32f",
   "metadata": {},
   "outputs": [
    {
     "data": {
      "text/html": [
       "<div>\n",
       "<style scoped>\n",
       "    .dataframe tbody tr th:only-of-type {\n",
       "        vertical-align: middle;\n",
       "    }\n",
       "\n",
       "    .dataframe tbody tr th {\n",
       "        vertical-align: top;\n",
       "    }\n",
       "\n",
       "    .dataframe thead th {\n",
       "        text-align: right;\n",
       "    }\n",
       "</style>\n",
       "<table border=\"1\" class=\"dataframe\">\n",
       "  <thead>\n",
       "    <tr style=\"text-align: right;\">\n",
       "      <th></th>\n",
       "      <th>Scenario</th>\n",
       "      <th>Values</th>\n",
       "    </tr>\n",
       "  </thead>\n",
       "  <tbody>\n",
       "    <tr>\n",
       "      <th>0</th>\n",
       "      <td>predictions</td>\n",
       "      <td>R$286,435,616.00</td>\n",
       "    </tr>\n",
       "    <tr>\n",
       "      <th>1</th>\n",
       "      <td>worst_scenario</td>\n",
       "      <td>R$254,255,718.50</td>\n",
       "    </tr>\n",
       "    <tr>\n",
       "      <th>2</th>\n",
       "      <td>best_scenario</td>\n",
       "      <td>R$318,615,492.78</td>\n",
       "    </tr>\n",
       "  </tbody>\n",
       "</table>\n",
       "</div>"
      ],
      "text/plain": [
       "         Scenario            Values\n",
       "0     predictions  R$286,435,616.00\n",
       "1  worst_scenario  R$254,255,718.50\n",
       "2   best_scenario  R$318,615,492.78"
      ]
     },
     "execution_count": 108,
     "metadata": {},
     "output_type": "execute_result"
    }
   ],
   "source": [
    "df93 = df92[['predictions', 'worst_scenario', 'best_scenario']].apply( lambda x: np.sum( x ), axis=0 ).reset_index().rename( columns={'index': 'Scenario', 0:'Values'} )\n",
    "df93['Values'] = df93['Values'].map( 'R${:,.2f}'.format )\n",
    "df93"
   ]
  },
  {
   "cell_type": "markdown",
   "id": "64d9cb5e",
   "metadata": {},
   "source": [
    "## 9.3 Perfomance do Modelo de Machine Learning"
   ]
  },
  {
   "cell_type": "code",
   "execution_count": 109,
   "id": "64bb7a41",
   "metadata": {},
   "outputs": [
    {
     "name": "stderr",
     "output_type": "stream",
     "text": [
      "/tmp/ipykernel_711000/1385645114.py:1: SettingWithCopyWarning: \n",
      "A value is trying to be set on a copy of a slice from a DataFrame.\n",
      "Try using .loc[row_indexer,col_indexer] = value instead\n",
      "\n",
      "See the caveats in the documentation: https://pandas.pydata.org/pandas-docs/stable/user_guide/indexing.html#returning-a-view-versus-a-copy\n",
      "  df9['error'] = df9['sales'] - df9['predictions']\n",
      "/tmp/ipykernel_711000/1385645114.py:2: SettingWithCopyWarning: \n",
      "A value is trying to be set on a copy of a slice from a DataFrame.\n",
      "Try using .loc[row_indexer,col_indexer] = value instead\n",
      "\n",
      "See the caveats in the documentation: https://pandas.pydata.org/pandas-docs/stable/user_guide/indexing.html#returning-a-view-versus-a-copy\n",
      "  df9['error_rate'] = df9['predictions'] / df9['sales']\n"
     ]
    }
   ],
   "source": [
    "df9['error'] = df9['sales'] - df9['predictions']\n",
    "df9['error_rate'] = df9['predictions'] / df9['sales']"
   ]
  },
  {
   "cell_type": "code",
   "execution_count": 157,
   "id": "799c6958",
   "metadata": {},
   "outputs": [
    {
     "name": "stderr",
     "output_type": "stream",
     "text": [
      "/tmp/ipykernel_711000/3855581706.py:36: UserWarning: First parameter to grid() is false, but line properties are supplied. The grid will be enabled.\n",
      "  ax.grid(False, which='major', axis='both', alpha=1)\n"
     ]
    },
    {
     "data": {
      "image/png": "[encoded data removed]",
      "text/plain": [
       "<Figure size 864x576 with 1 Axes>"
      ]
     },
     "metadata": {},
     "output_type": "display_data"
    }
   ],
   "source": [
    "sns.set_style('white')\n",
    "sns.set_context('paper', font_scale=2.0)\n",
    "\n",
    "fig, ax = plt.subplots()\n",
    "\n",
    "aux = df9.sort_values('date', ascending=True)\n",
    "\n",
    "sns.lineplot(x='date',\n",
    "             y='sales', \n",
    "             data=aux, \n",
    "             label='Sales',\n",
    "             marker='o',\n",
    "             markeredgewidth=1,\n",
    "             markersize=10,\n",
    "             linewidth=3)\n",
    "\n",
    "sns.lineplot(x='date',\n",
    "             y='predictions', \n",
    "             data=aux, \n",
    "             label='Predições',\n",
    "             marker='^',\n",
    "             markeredgewidth=1,\n",
    "             markersize=10,\n",
    "             linewidth=3)\n",
    "\n",
    "\n",
    "for axis in ['bottom', 'left']:\n",
    "    ax.spines[axis].set_linewidth(2.5)\n",
    "    ax.spines[axis].set_color('0.2')\n",
    "\n",
    "ax.spines['top'].set_visible(False)\n",
    "ax.spines['right'].set_visible(False)\n",
    "\n",
    "ax.legend(loc='upper left')\n",
    "\n",
    "ax.grid(False, which='major', axis='both', alpha=1)\n",
    "\n",
    "ax.tick_params(axis='x', \n",
    "               bottom=True,\n",
    "               which='major', \n",
    "               direction='out', \n",
    "               length=5, \n",
    "               width=5,\n",
    "               color='0.2', \n",
    "               pad=10, \n",
    "               labelsize=10, \n",
    "               labelcolor='black', \n",
    "               labelrotation=90)\n",
    "\n",
    "ax.tick_params(axis='y', \n",
    "               left=True,\n",
    "               which='major', \n",
    "               direction='out', \n",
    "               length=10, \n",
    "               width=5, \n",
    "               color='0.2', \n",
    "               pad=15, \n",
    "               labelsize=15, \n",
    "               labelcolor='black', \n",
    "               labelrotation=0)\n",
    "\n",
    "ax.set_xlabel(ax.get_xlabel(), fontsize=14, weight='bold')\n",
    "ax.set_ylabel(ax.get_ylabel(), fontsize=14, weight='bold')\n",
    "\n",
    "\n",
    "plt.xticks(size=10, weight='bold', color = '0.2')\n",
    "plt.yticks(size=14, weight='bold', color = '0.2')\n",
    "\n",
    "\n",
    "plt.savefig('/home/sildolfoneto/Documents/repos/tcc/rossmann-stores-sales/reports/figures/sales-predictions.png',\n",
    "           dpi=400,\n",
    "           facecolor=ax.get_facecolor())"
   ]
  },
  {
   "cell_type": "code",
   "execution_count": 164,
   "id": "06b99108",
   "metadata": {},
   "outputs": [
    {
     "data": {
      "image/png": "[encoded data removed]",
      "text/plain": [
       "<Figure size 864x576 with 1 Axes>"
      ]
     },
     "metadata": {},
     "output_type": "display_data"
    }
   ],
   "source": [
    "sns.set_style('white')\n",
    "sns.set_context('paper', font_scale=2.0)\n",
    "\n",
    "fig, ax = plt.subplots()\n",
    "\n",
    "aux = df9.sort_values('date', ascending=True)\n",
    "\n",
    "sns.lineplot(x='date', \n",
    "             y='error_rate', \n",
    "             data=aux,\n",
    "             marker='o',\n",
    "             markeredgewidth=1,\n",
    "             markersize=10,\n",
    "             linewidth=3,\n",
    "            color='#000000')\n",
    "\n",
    "plt.axhline(1, linestyle='--', color='#FE420F' )\n",
    "\n",
    "\n",
    "for axis in ['bottom', 'left']:\n",
    "    ax.spines[axis].set_linewidth(2.5)\n",
    "    ax.spines[axis].set_color('0.2')\n",
    "\n",
    "ax.spines['top'].set_visible(False)\n",
    "ax.spines['right'].set_visible(False)\n",
    "\n",
    "\n",
    "ax.grid(True, which='major', axis='both', alpha=1)\n",
    "\n",
    "ax.tick_params(axis='x', \n",
    "               bottom=True,\n",
    "               which='major', \n",
    "               direction='out', \n",
    "               length=10, \n",
    "               width=5,\n",
    "               color='0.2', \n",
    "               pad=15, \n",
    "               labelsize=15, \n",
    "               labelcolor='black', \n",
    "               labelrotation=90)\n",
    "\n",
    "ax.tick_params(axis='y', \n",
    "               left=True,\n",
    "               which='major', \n",
    "               direction='out', \n",
    "               length=10, \n",
    "               width=5, \n",
    "               color='0.2', \n",
    "               pad=15, \n",
    "               labelsize=15, \n",
    "               labelcolor='black', \n",
    "               labelrotation=0)\n",
    "\n",
    "ax.set_xlabel(ax.get_xlabel(), fontsize=14, weight='bold')\n",
    "ax.set_ylabel(ax.get_ylabel(), fontsize=14, weight='bold')\n",
    "\n",
    "\n",
    "plt.xticks(size=14, weight='bold', color = '0.2')\n",
    "plt.yticks(size=14, weight='bold', color = '0.2')\n",
    "\n",
    "\n",
    "plt.savefig('/home/sildolfoneto/Documents/repos/tcc/rossmann-stores-sales/reports/figures/error-rate-superestimar.png',\n",
    "           dpi=400,\n",
    "           facecolor=ax.get_facecolor())"
   ]
  },
  {
   "cell_type": "code",
   "execution_count": 177,
   "id": "cdbac843",
   "metadata": {},
   "outputs": [
    {
     "data": {
      "image/png": "[encoded data removed]",
      "text/plain": [
       "<Figure size 864x576 with 1 Axes>"
      ]
     },
     "metadata": {},
     "output_type": "display_data"
    }
   ],
   "source": [
    "sns.set_style('white')\n",
    "sns.set_context('paper', font_scale=2.0)\n",
    "\n",
    "fig, ax = plt.subplots()\n",
    "\n",
    "sns.histplot(df9,\n",
    "             kde=True, \n",
    "             stat='density',\n",
    "             #common_norm=False,\n",
    "             x='error',\n",
    "             kde_kws={'bw_adjust':2},\n",
    "             line_kws={'linewidth':3},\n",
    "             palette='Set2',\n",
    "             ax=ax)\n",
    "\n",
    "for axis in ['bottom', 'left']:\n",
    "    ax.spines[axis].set_linewidth(2.5)\n",
    "    ax.spines[axis].set_color('0.2')\n",
    "\n",
    "ax.spines['top'].set_visible(False)\n",
    "ax.spines['right'].set_visible(False)\n",
    "\n",
    "\n",
    "ax.grid(True, which='major', axis='both', alpha=1)\n",
    "\n",
    "ax.tick_params(axis='x', \n",
    "               bottom=True,\n",
    "               which='major', \n",
    "               direction='out', \n",
    "               length=10, \n",
    "               width=5,\n",
    "               color='0.2', \n",
    "               pad=15, \n",
    "               labelsize=15, \n",
    "               labelcolor='black', \n",
    "               labelrotation=90)\n",
    "\n",
    "ax.tick_params(axis='y', \n",
    "               left=True,\n",
    "               which='major', \n",
    "               direction='out', \n",
    "               length=10, \n",
    "               width=5, \n",
    "               color='0.2', \n",
    "               pad=15, \n",
    "               labelsize=15, \n",
    "               labelcolor='black', \n",
    "               labelrotation=0)\n",
    "\n",
    "ax.set_xlabel(ax.get_xlabel(), fontsize=14, weight='bold')\n",
    "ax.set_ylabel(ax.get_ylabel(), fontsize=14, weight='bold')\n",
    "\n",
    "\n",
    "plt.xticks(size=14, weight='bold', color = '0.2')\n",
    "plt.yticks(size=14, weight='bold', color = '0.2')\n",
    "\n",
    "\n",
    "plt.savefig('/home/sildolfoneto/Documents/repos/tcc/rossmann-stores-sales/reports/figures/error-distribution.png',\n",
    "            dpi=400,\n",
    "            facecolor=ax.get_facecolor())"
   ]
  },
  {
   "cell_type": "code",
   "execution_count": 179,
   "id": "dec7b8d4",
   "metadata": {},
   "outputs": [
    {
     "name": "stderr",
     "output_type": "stream",
     "text": [
      "/home/sildolfoneto/Documents/repos/tcc/rossmann-stores-sales/.venv/lib/python3.8/site-packages/seaborn/_decorators.py:36: FutureWarning: Pass the following variables as keyword args: x, y. From version 0.12, the only valid positional argument will be `data`, and passing other arguments without an explicit keyword will result in an error or misinterpretation.\n",
      "  warnings.warn(\n"
     ]
    },
    {
     "data": {
      "image/png": "[encoded data removed]",
      "text/plain": [
       "<Figure size 864x576 with 1 Axes>"
      ]
     },
     "metadata": {},
     "output_type": "display_data"
    }
   ],
   "source": [
    "sns.set_style('white')\n",
    "sns.set_context('paper', font_scale=2.0)\n",
    "\n",
    "fig, ax = plt.subplots()\n",
    "\n",
    "sns.scatterplot(df9['predictions'], \n",
    "                df9['error'],\n",
    "                data=df92,\n",
    "                s=60,\n",
    "                color='#000000',\n",
    "                alpha=1)\n",
    "\n",
    "for axis in ['bottom', 'left']:\n",
    "    ax.spines[axis].set_linewidth(2.5)\n",
    "    ax.spines[axis].set_color('0.2')\n",
    "\n",
    "ax.spines['top'].set_visible(False)\n",
    "ax.spines['right'].set_visible(False)\n",
    "\n",
    "\n",
    "ax.grid(True, which='major', axis='both', alpha=1)\n",
    "\n",
    "ax.tick_params(axis='x', \n",
    "               bottom=True,\n",
    "               which='major', \n",
    "               direction='out', \n",
    "               length=10, \n",
    "               width=5,\n",
    "               color='0.2', \n",
    "               pad=15, \n",
    "               labelsize=15, \n",
    "               labelcolor='black', \n",
    "               labelrotation=90)\n",
    "\n",
    "ax.tick_params(axis='y', \n",
    "               left=True,\n",
    "               which='major', \n",
    "               direction='out', \n",
    "               length=10, \n",
    "               width=5, \n",
    "               color='0.2', \n",
    "               pad=15, \n",
    "               labelsize=15, \n",
    "               labelcolor='black', \n",
    "               labelrotation=0)\n",
    "\n",
    "ax.set_xlabel(ax.get_xlabel(), fontsize=14, weight='bold')\n",
    "ax.set_ylabel(ax.get_ylabel(), fontsize=14, weight='bold')\n",
    "\n",
    "\n",
    "plt.xticks(size=14, weight='bold', color = '0.2')\n",
    "plt.yticks(size=14, weight='bold', color = '0.2')\n",
    "\n",
    "\n",
    "plt.savefig('/home/sildolfoneto/Documents/repos/tcc/rossmann-stores-sales/reports/figures/prediction-error-distribution.png',\n",
    "            dpi=400,\n",
    "            facecolor=ax.get_facecolor())"
   ]
  },
  {
   "cell_type": "markdown",
   "id": "265e4d90",
   "metadata": {},
   "source": [
    "# 10. Deploy do Modelo para Produção"
   ]
  },
  {
   "cell_type": "code",
   "execution_count": null,
   "id": "8492cb38",
   "metadata": {},
   "outputs": [],
   "source": [
    "pickle.dump(model_xgb_tuned, open(home_path + 'models' + '/' + 'model_final/model_rossmann.pkl', 'wb'))"
   ]
  },
  {
   "cell_type": "markdown",
   "id": "950a75ae",
   "metadata": {},
   "source": [
    "## 10.1 Rossmann Class"
   ]
  },
  {
   "cell_type": "code",
   "execution_count": 184,
   "id": "3dc9bd00",
   "metadata": {},
   "outputs": [],
   "source": [
    "import pickle\n",
    "import inflection\n",
    "import pandas as pd\n",
    "import numpy as np\n",
    "import math\n",
    "import datetime\n",
    "\n",
    "class Rossmann(object):\n",
    "    def __init__(self):\n",
    "        self.home_path ='/home/sildolfoneto/Documents/repos/tcc/rossmann-stores-sales/'\n",
    "        self.competition_distance_scaler = pickle.load(open( self.home_path + 'models/parameter/competition_distance_scaler.pkl', 'rb') )\n",
    "        self.competition_time_month_scaler = pickle.load( open( self.home_path + 'models/parameter/competition_time_month_scaler.pkl', 'rb') )\n",
    "        self.promo_time_week_scaler = pickle.load( open( self.home_path + 'models/parameter/promo_time_week_scaler.pkl', 'rb') )\n",
    "        self.year_scaler = pickle.load( open( self.home_path + 'models/parameter/year_scaler.pkl', 'rb') )\n",
    "        self.store_type_scaler = pickle.load( open( self.home_path + 'models/parameter/store_type_scaler.pkl', 'rb') )\n",
    "\n",
    "    def data_cleaning(self, df1):\n",
    "        ## 1.1. Rename Columns\n",
    "        cols_old = ['Store', 'DayOfWeek', 'Date', 'Open', \n",
    "                    'Promo', 'StateHoliday', 'SchoolHoliday',\n",
    "                    'StoreType', 'Assortment', 'CompetitionDistance',\n",
    "                    'CompetitionOpenSinceMonth', 'CompetitionOpenSinceYear', \n",
    "                    'Promo2', 'Promo2SinceWeek', 'Promo2SinceYear', 'PromoInterval']\n",
    "        \n",
    "        snakecase = lambda x: inflection.underscore( x )\n",
    "        cols_new = list( map( snakecase, cols_old ) )\n",
    "        \n",
    "        # rename\n",
    "        df1.columns = cols_new\n",
    "        \n",
    "        ## 1.3. Data Types\n",
    "        df1['date'] = pd.to_datetime( df1['date'] )\n",
    "        \n",
    "        # 1.5. Fillout NA\n",
    "        #competition_distance\n",
    "        df1['competition_distance'] = df1['competition_distance'].apply(\n",
    "            lambda x: 200000.0 if math.isnan( x ) else x )\n",
    "        \n",
    "        #competition_open_since_month\n",
    "        df1['competition_open_since_month'] = df1.apply(\n",
    "            lambda x: x['date'].month if math.isnan(\n",
    "                x['competition_open_since_month'] ) else x['competition_open_since_month'], axis=1 )\n",
    "        \n",
    "        #competition_open_since_year\n",
    "        df1['competition_open_since_year'] = df1.apply(\n",
    "            lambda x: x['date'].year if math.isnan(\n",
    "                x['competition_open_since_year'] ) else x['competition_open_since_year'], axis=1 )\n",
    "        \n",
    "        #promo2_since_week\n",
    "        df1['promo2_since_week'] = df1.apply(\n",
    "            lambda x: x['date'].week if math.isnan(\n",
    "                x['promo2_since_week'] ) else x['promo2_since_week'], axis=1)\n",
    "        \n",
    "        #promo2_since_year\n",
    "        df1['promo2_since_year'] = df1.apply(\n",
    "            lambda x: x['date'].year if math.isnan(\n",
    "                x['promo2_since_year'] ) else x['promo2_since_year'], axis=1 )\n",
    "\n",
    "        #promo_interval\n",
    "        month_map = {\n",
    "            1: 'Jan', 2: 'Fev', 3: 'Mar', 4: 'Apr', 5: 'May', 6:'Jun', \n",
    "            7: 'Jul', 8: 'Aug', 9: 'Sep', 10: 'Oct', 11: 'Nov', 12: 'Dec'}\n",
    "        \n",
    "        df1['promo_interval'].fillna(0, inplace=True )\n",
    "        df1['month_map'] = df1['date'].dt.month.map( month_map )\n",
    "        df1['is_promo'] = df1[['promo_interval', 'month_map']].apply(\n",
    "            lambda x: 0 if x['promo_interval'] == 0 else 1 if x['month_map'] in x['promo_interval'].split( ',' ) else 0, axis=1 )\n",
    "        \n",
    "        ## 1.6. Change Data Types\n",
    "        # competiton\n",
    "        df1['competition_open_since_month'] = df1['competition_open_since_month'].astype( int )\n",
    "        df1['competition_open_since_year'] = df1['competition_open_since_year'].astype( int )\n",
    "        # promo2\n",
    "        df1['promo2_since_week'] = df1['promo2_since_week'].astype( int )\n",
    "        df1['promo2_since_year'] = df1['promo2_since_year'].astype( int )\n",
    "        return df1\n",
    "    \n",
    "    \n",
    "    \n",
    "    def feature_engineering( self, df2 ):\n",
    "        # year\n",
    "        df2['year'] = df2['date'].dt.year\n",
    "        \n",
    "        # month\n",
    "        df2['month'] = df2['date'].dt.month\n",
    "        \n",
    "        # day\n",
    "        df2['day'] = df2['date'].dt.day\n",
    "        # week of year\n",
    "        df2['week_of_year'] = df2['date'].dt.weekofyear\n",
    "        # year week\n",
    "        df2['year_week'] = df2['date'].dt.strftime( '%Y-%W' )\n",
    "        \n",
    "        # competition since\n",
    "        df2['competition_since'] = df2.apply(\n",
    "            lambda x: datetime.datetime(\n",
    "                year=x['competition_open_since_year'], \n",
    "                month=x['competition_open_since_month'], \n",
    "                day=1), axis=1)\n",
    "        \n",
    "        df2['competition_time_month'] = ( ( df2['date'] - df2['competition_since'] )/30 ).apply( lambda x: x.days ).astype( int )\n",
    "        \n",
    "        # promo since\n",
    "        df2['promo_since'] = df2['promo2_since_year'].astype( str ) + '-' + df2['promo2_since_week'].astype( str )\n",
    "        df2['promo_since'] = df2['promo_since'].apply( lambda x: datetime.datetime.strptime( x + '-1', '%Y-%W-%w' ) - datetime.timedelta( days=7 ) )\n",
    "        df2['promo_time_week'] = ( ( df2['date'] - df2['promo_since'] )/7 ).apply( lambda x: x.days ).astype( int )\n",
    "        \n",
    "        # assortment\n",
    "        df2['assortment'] = df2['assortment'].apply( lambda x: 'basic' if x == 'a' else 'extra' if x == 'b' else 'extended' )\n",
    "        \n",
    "        # state holiday\n",
    "        df2['state_holiday'] = df2['state_holiday'].apply( lambda x: 'public_holiday' if x == 'a' else 'easter_holiday' if x == 'b' else'christmas' if x == 'c' else 'regular_day' )\n",
    "        \n",
    "        \n",
    "        # 3.0. PASSO 03 - FILTRAGEM DE VARIÁVEIS\n",
    "        ## 3.1. Filtragem das Linhas\n",
    "        df2 = df2[df2['open'] != 0]\n",
    "        \n",
    "        ## 3.2. Selecao das Colunas\n",
    "        cols_drop = ['open', 'promo_interval', 'month_map']\n",
    "        df2 = df2.drop( cols_drop, axis=1 )\n",
    "        \n",
    "        return df2\n",
    "    \n",
    "    \n",
    "    \n",
    "    def data_preparation(self, df5):\n",
    "        \n",
    "        ## 5.2. Rescaling\n",
    "        # competition distance\n",
    "        df5['competition_distance'] = self.competition_distance_scaler.transform(\n",
    "            df5[['competition_distance']].values )\n",
    "        \n",
    "        # competition time month\n",
    "        df5['competition_time_month'] = self.competition_time_month_scaler.transform(\n",
    "            df5[['competition_time_month']].values )\n",
    "        \n",
    "        # promo time week\n",
    "        df5['promo_time_week'] = self.promo_time_week_scaler.transform(\n",
    "            df5[['promo_time_week']].values )\n",
    "        \n",
    "        # year\n",
    "        df5['year'] = self.year_scaler.transform( df5[['year']].values )\n",
    "        \n",
    "        ### 5.3.1. Encoding\n",
    "        # state_holiday - One Hot Encoding\n",
    "        df5 = pd.get_dummies( df5, prefix=['state_holiday'], columns=['state_holiday'] )\n",
    "        \n",
    "        # store_type - Label Encoding\n",
    "        df5['store_type'] = self.store_type_scaler.transform(df5['store_type'] )\n",
    "        \n",
    "        # assortment - Ordinal Encoding\n",
    "        assortment_dict = {'basic': 1, 'extra': 2, 'extended': 3}\n",
    "        \n",
    "        df5['assortment'] = df5['assortment'].map( assortment_dict )\n",
    "        \n",
    "        \n",
    "        ### 5.3.3. Nature Transformation\n",
    "        # day of week\n",
    "        df5['day_of_week_sin'] = df5['day_of_week'].apply( lambda x: np.sin( x * ( 2. * np.pi/7 ) ) )\n",
    "        df5['day_of_week_cos'] = df5['day_of_week'].apply( lambda x: np.cos( x * ( 2. * np.pi/7 ) ) )\n",
    "        \n",
    "        # month\n",
    "        df5['month_sin'] = df5['month'].apply( lambda x: np.sin( x * ( 2. * np.pi/12 ) ) )\n",
    "        df5['month_cos'] = df5['month'].apply( lambda x: np.cos( x * ( 2. * np.pi/12 ) ) )\n",
    "        \n",
    "        df5['day_sin'] = df5['day'].apply( lambda x: np.sin( x * ( 2. * np.pi/30 ) ) )\n",
    "        df5['day_cos'] = df5['day'].apply( lambda x: np.cos( x * ( 2. * np.pi/30 ) ) )\n",
    "        \n",
    "        # week of year\n",
    "        df5['week_of_year_sin'] = df5['week_of_year'].apply( lambda x: np.sin(x * ( 2. * np.pi/52 ) ) )\n",
    "        df5['week_of_year_cos'] = df5['week_of_year'].apply( lambda x: np.cos(x * ( 2. * np.pi/52 ) ) )\n",
    "        \n",
    "        cols_selected = ['store', 'promo', 'store_type', 'assortment', \n",
    "                         'competition_distance', 'competition_open_since_month',\n",
    "                         'competition_open_since_year', 'promo2', 'promo2_since_week',\n",
    "                         'promo2_since_year', 'competition_time_month', 'promo_time_week',\n",
    "                         'day_of_week_sin', 'day_of_week_cos', 'month_sin', 'month_cos',\n",
    "                         'day_sin', 'day_cos', 'week_of_year_sin', 'week_of_year_cos']\n",
    "        \n",
    "        \n",
    "        return df5[ cols_selected ]\n",
    "    \n",
    "    def get_prediction(self, model, original_data, test_data):\n",
    "        # prediction\n",
    "        pred = model.predict( test_data )\n",
    "        # join pred into the original data\n",
    "        original_data['prediction'] = np.expm1(pred)\n",
    "        return original_data.to_json(orient='records', date_format='iso')\n",
    "        "
   ]
  },
  {
   "cell_type": "markdown",
   "id": "af55adaa",
   "metadata": {},
   "source": [
    "## 10.2 API Handler"
   ]
  },
  {
   "cell_type": "code",
   "execution_count": 205,
   "id": "67ac2672",
   "metadata": {},
   "outputs": [
    {
     "ename": "ModuleNotFoundError",
     "evalue": "No module named 'rossmann'",
     "output_type": "error",
     "traceback": [
      "\u001b[0;31m---------------------------------------------------------------------------\u001b[0m",
      "\u001b[0;31mModuleNotFoundError\u001b[0m                       Traceback (most recent call last)",
      "Input \u001b[0;32mIn [205]\u001b[0m, in \u001b[0;36m<cell line: 3>\u001b[0;34m()\u001b[0m\n\u001b[1;32m      1\u001b[0m \u001b[38;5;28;01mimport\u001b[39;00m \u001b[38;5;21;01mpickle\u001b[39;00m\n\u001b[1;32m      2\u001b[0m \u001b[38;5;28;01mfrom\u001b[39;00m \u001b[38;5;21;01mflask\u001b[39;00m \u001b[38;5;28;01mimport\u001b[39;00m Flask, request, Response\n\u001b[0;32m----> 3\u001b[0m \u001b[38;5;28;01mfrom\u001b[39;00m \u001b[38;5;21;01mrossmann\u001b[39;00m\u001b[38;5;21;01m.\u001b[39;00m\u001b[38;5;21;01mRossmann\u001b[39;00m \u001b[38;5;28;01mimport\u001b[39;00m Rossmann\n\u001b[1;32m      5\u001b[0m \u001b[38;5;66;03m# loading model\u001b[39;00m\n\u001b[1;32m      6\u001b[0m model \u001b[38;5;241m=\u001b[39m pickle\u001b[38;5;241m.\u001b[39mload(\u001b[38;5;28mopen\u001b[39m(\n\u001b[1;32m      7\u001b[0m     \u001b[38;5;124m'\u001b[39m\u001b[38;5;124m/home/sildolfoneto/Documents/repos/tcc/rossmann-stores-sales/models/model_final/model_rossmann.pkl\u001b[39m\u001b[38;5;124m'\u001b[39m, \u001b[38;5;124m'\u001b[39m\u001b[38;5;124mrb\u001b[39m\u001b[38;5;124m'\u001b[39m) )\n",
      "\u001b[0;31mModuleNotFoundError\u001b[0m: No module named 'rossmann'"
     ]
    }
   ],
   "source": [
    "import pickle\n",
    "from flask import Flask, request, Response\n",
    "from rossmann.Rossmann import Rossmann\n",
    "\n",
    "# loading model\n",
    "model = pickle.load(open(\n",
    "    '/home/sildolfoneto/Documents/repos/tcc/rossmann-stores-sales/models/model_final/model_rossmann.pkl', 'rb') )\n",
    "\n",
    "# Inicializa a API\n",
    "app = Flask(__name__)\n",
    "\n",
    "@app.route('rossmann/predict', methods=['POST'])\n",
    "def rossmann_predict():\n",
    "    test_json = request.get_json()\n",
    "    \n",
    "    if test_json:\n",
    "        if isinstance(test_json, dict):\n",
    "            test_raw = pd.DataFrame(test_json, index=[0])\n",
    "        else: #multiple example\n",
    "            test_raw = pd.DataFrame(test_json, columns=test_json[0].keys())\n",
    "    \n",
    "        pipeline = Rossmann()\n",
    "        \n",
    "        df1 = pipeline.data_cleaning(test_raw)\n",
    "        df2 = pipeline.feature_engineering(df1)\n",
    "        df3 = pipeline.data_preparation(df2)\n",
    "        df_response = pipeline.get_prediction(model, test_raw, df3)\n",
    "        \n",
    "        return df_response\n",
    "    else: \n",
    "        return Response('{}', status=200, mimetype='application/json')\n",
    "\n",
    "\n",
    "if __name__ == '__main__':\n",
    "    app.run('0.0.0.0')"
   ]
  },
  {
   "cell_type": "markdown",
   "id": "93417fd8",
   "metadata": {},
   "source": [
    "## 10.3 API Tester"
   ]
  },
  {
   "cell_type": "code",
   "execution_count": 277,
   "id": "f10e7399",
   "metadata": {},
   "outputs": [],
   "source": [
    "df10 = pd.read_csv('/home/sildolfoneto/Documents/repos/tcc/rossmann-stores-sales/data/raw/test.csv')\n",
    "\n",
    "df_test = pd.merge(df10, df_store_raw, how='left', on='Store')\n",
    "\n",
    "# choose store for prediction\n",
    "df_test = df_test[df_test['Store'].isin([24, 12, 22])]\n",
    "\n",
    "# remove closed days\n",
    "df_test = df_test[df_test['Open'] != 0]\n",
    "df_test = df_test[~df_test['Open'].isnull()]\n",
    "df_test = df_test.drop( 'Id', axis=1 )"
   ]
  },
  {
   "cell_type": "code",
   "execution_count": 270,
   "id": "4fa9efc9",
   "metadata": {},
   "outputs": [],
   "source": [
    "data = json.dumps( df_test.to_dict( orient='records' ) )"
   ]
  },
  {
   "cell_type": "code",
   "execution_count": 283,
   "id": "ab0cfead",
   "metadata": {},
   "outputs": [
    {
     "data": {
      "text/plain": [
       "'[{\"Store\": 12, \"DayOfWeek\": 4, \"Date\": \"2015-09-17\", \"Open\": 1.0, \"Promo\": 1, \"StateHoliday\": \"0\", \"SchoolHoliday\": 0, \"StoreType\": \"a\", \"Assortment\": \"c\", \"CompetitionDistance\": 1070.0, \"CompetitionOpenSinceMonth\": NaN, \"CompetitionOpenSinceYear\": NaN, \"Promo2\": 1, \"Promo2SinceWeek\": 13.0, \"Promo2SinceYear\": 2010.0, \"PromoInterval\": \"Jan,Apr,Jul,Oct\"}, {\"Store\": 22, \"DayOfWeek\": 4, \"Date\": \"2015-09-17\", \"Open\": 1.0, \"Promo\": 1, \"StateHoliday\": \"0\", \"SchoolHoliday\": 0, \"StoreType\": \"a\", \"Assortment\": \"a\", \"CompetitionDistance\": 1040.0, \"CompetitionOpenSinceMonth\": NaN, \"CompetitionOpenSinceYear\": NaN, \"Promo2\": 1, \"Promo2SinceWeek\": 22.0, \"Promo2SinceYear\": 2012.0, \"PromoInterval\": \"Jan,Apr,Jul,Oct\"}, {\"Store\": 24, \"DayOfWeek\": 4, \"Date\": \"2015-09-17\", \"Open\": 1.0, \"Promo\": 1, \"StateHoliday\": \"0\", \"SchoolHoliday\": 0, \"StoreType\": \"a\", \"Assortment\": \"c\", \"CompetitionDistance\": 4590.0, \"CompetitionOpenSinceMonth\": 3.0, \"CompetitionOpenSinceYear\": 2000.0, \"Promo2\": 1, \"Promo2SinceWeek\": 40.0, \"Promo2SinceYear\": 2011.0, \"PromoInterval\": \"Jan,Apr,Jul,Oct\"}, {\"Store\": 12, \"DayOfWeek\": 3, \"Date\": \"2015-09-16\", \"Open\": 1.0, \"Promo\": 1, \"StateHoliday\": \"0\", \"SchoolHoliday\": 0, \"StoreType\": \"a\", \"Assortment\": \"c\", \"CompetitionDistance\": 1070.0, \"CompetitionOpenSinceMonth\": NaN, \"CompetitionOpenSinceYear\": NaN, \"Promo2\": 1, \"Promo2SinceWeek\": 13.0, \"Promo2SinceYear\": 2010.0, \"PromoInterval\": \"Jan,Apr,Jul,Oct\"}, {\"Store\": 22, \"DayOfWeek\": 3, \"Date\": \"2015-09-16\", \"Open\": 1.0, \"Promo\": 1, \"StateHoliday\": \"0\", \"SchoolHoliday\": 0, \"StoreType\": \"a\", \"Assortment\": \"a\", \"CompetitionDistance\": 1040.0, \"CompetitionOpenSinceMonth\": NaN, \"CompetitionOpenSinceYear\": NaN, \"Promo2\": 1, \"Promo2SinceWeek\": 22.0, \"Promo2SinceYear\": 2012.0, \"PromoInterval\": \"Jan,Apr,Jul,Oct\"}, {\"Store\": 24, \"DayOfWeek\": 3, \"Date\": \"2015-09-16\", \"Open\": 1.0, \"Promo\": 1, \"StateHoliday\": \"0\", \"SchoolHoliday\": 0, \"StoreType\": \"a\", \"Assortment\": \"c\", \"CompetitionDistance\": 4590.0, \"CompetitionOpenSinceMonth\": 3.0, \"CompetitionOpenSinceYear\": 2000.0, \"Promo2\": 1, \"Promo2SinceWeek\": 40.0, \"Promo2SinceYear\": 2011.0, \"PromoInterval\": \"Jan,Apr,Jul,Oct\"}, {\"Store\": 12, \"DayOfWeek\": 2, \"Date\": \"2015-09-15\", \"Open\": 1.0, \"Promo\": 1, \"StateHoliday\": \"0\", \"SchoolHoliday\": 0, \"StoreType\": \"a\", \"Assortment\": \"c\", \"CompetitionDistance\": 1070.0, \"CompetitionOpenSinceMonth\": NaN, \"CompetitionOpenSinceYear\": NaN, \"Promo2\": 1, \"Promo2SinceWeek\": 13.0, \"Promo2SinceYear\": 2010.0, \"PromoInterval\": \"Jan,Apr,Jul,Oct\"}, {\"Store\": 22, \"DayOfWeek\": 2, \"Date\": \"2015-09-15\", \"Open\": 1.0, \"Promo\": 1, \"StateHoliday\": \"0\", \"SchoolHoliday\": 0, \"StoreType\": \"a\", \"Assortment\": \"a\", \"CompetitionDistance\": 1040.0, \"CompetitionOpenSinceMonth\": NaN, \"CompetitionOpenSinceYear\": NaN, \"Promo2\": 1, \"Promo2SinceWeek\": 22.0, \"Promo2SinceYear\": 2012.0, \"PromoInterval\": \"Jan,Apr,Jul,Oct\"}, {\"Store\": 24, \"DayOfWeek\": 2, \"Date\": \"2015-09-15\", \"Open\": 1.0, \"Promo\": 1, \"StateHoliday\": \"0\", \"SchoolHoliday\": 0, \"StoreType\": \"a\", \"Assortment\": \"c\", \"CompetitionDistance\": 4590.0, \"CompetitionOpenSinceMonth\": 3.0, \"CompetitionOpenSinceYear\": 2000.0, \"Promo2\": 1, \"Promo2SinceWeek\": 40.0, \"Promo2SinceYear\": 2011.0, \"PromoInterval\": \"Jan,Apr,Jul,Oct\"}, {\"Store\": 12, \"DayOfWeek\": 1, \"Date\": \"2015-09-14\", \"Open\": 1.0, \"Promo\": 1, \"StateHoliday\": \"0\", \"SchoolHoliday\": 0, \"StoreType\": \"a\", \"Assortment\": \"c\", \"CompetitionDistance\": 1070.0, \"CompetitionOpenSinceMonth\": NaN, \"CompetitionOpenSinceYear\": NaN, \"Promo2\": 1, \"Promo2SinceWeek\": 13.0, \"Promo2SinceYear\": 2010.0, \"PromoInterval\": \"Jan,Apr,Jul,Oct\"}, {\"Store\": 22, \"DayOfWeek\": 1, \"Date\": \"2015-09-14\", \"Open\": 1.0, \"Promo\": 1, \"StateHoliday\": \"0\", \"SchoolHoliday\": 1, \"StoreType\": \"a\", \"Assortment\": \"a\", \"CompetitionDistance\": 1040.0, \"CompetitionOpenSinceMonth\": NaN, \"CompetitionOpenSinceYear\": NaN, \"Promo2\": 1, \"Promo2SinceWeek\": 22.0, \"Promo2SinceYear\": 2012.0, \"PromoInterval\": \"Jan,Apr,Jul,Oct\"}, {\"Store\": 24, \"DayOfWeek\": 1, \"Date\": \"2015-09-14\", \"Open\": 1.0, \"Promo\": 1, \"StateHoliday\": \"0\", \"SchoolHoliday\": 0, \"StoreType\": \"a\", \"Assortment\": \"c\", \"CompetitionDistance\": 4590.0, \"CompetitionOpenSinceMonth\": 3.0, \"CompetitionOpenSinceYear\": 2000.0, \"Promo2\": 1, \"Promo2SinceWeek\": 40.0, \"Promo2SinceYear\": 2011.0, \"PromoInterval\": \"Jan,Apr,Jul,Oct\"}, {\"Store\": 12, \"DayOfWeek\": 6, \"Date\": \"2015-09-12\", \"Open\": 1.0, \"Promo\": 0, \"StateHoliday\": \"0\", \"SchoolHoliday\": 0, \"StoreType\": \"a\", \"Assortment\": \"c\", \"CompetitionDistance\": 1070.0, \"CompetitionOpenSinceMonth\": NaN, \"CompetitionOpenSinceYear\": NaN, \"Promo2\": 1, \"Promo2SinceWeek\": 13.0, \"Promo2SinceYear\": 2010.0, \"PromoInterval\": \"Jan,Apr,Jul,Oct\"}, {\"Store\": 22, \"DayOfWeek\": 6, \"Date\": \"2015-09-12\", \"Open\": 1.0, \"Promo\": 0, \"StateHoliday\": \"0\", \"SchoolHoliday\": 0, \"StoreType\": \"a\", \"Assortment\": \"a\", \"CompetitionDistance\": 1040.0, \"CompetitionOpenSinceMonth\": NaN, \"CompetitionOpenSinceYear\": NaN, \"Promo2\": 1, \"Promo2SinceWeek\": 22.0, \"Promo2SinceYear\": 2012.0, \"PromoInterval\": \"Jan,Apr,Jul,Oct\"}, {\"Store\": 24, \"DayOfWeek\": 6, \"Date\": \"2015-09-12\", \"Open\": 1.0, \"Promo\": 0, \"StateHoliday\": \"0\", \"SchoolHoliday\": 0, \"StoreType\": \"a\", \"Assortment\": \"c\", \"CompetitionDistance\": 4590.0, \"CompetitionOpenSinceMonth\": 3.0, \"CompetitionOpenSinceYear\": 2000.0, \"Promo2\": 1, \"Promo2SinceWeek\": 40.0, \"Promo2SinceYear\": 2011.0, \"PromoInterval\": \"Jan,Apr,Jul,Oct\"}, {\"Store\": 12, \"DayOfWeek\": 5, \"Date\": \"2015-09-11\", \"Open\": 1.0, \"Promo\": 0, \"StateHoliday\": \"0\", \"SchoolHoliday\": 0, \"StoreType\": \"a\", \"Assortment\": \"c\", \"CompetitionDistance\": 1070.0, \"CompetitionOpenSinceMonth\": NaN, \"CompetitionOpenSinceYear\": NaN, \"Promo2\": 1, \"Promo2SinceWeek\": 13.0, \"Promo2SinceYear\": 2010.0, \"PromoInterval\": \"Jan,Apr,Jul,Oct\"}, {\"Store\": 22, \"DayOfWeek\": 5, \"Date\": \"2015-09-11\", \"Open\": 1.0, \"Promo\": 0, \"StateHoliday\": \"0\", \"SchoolHoliday\": 1, \"StoreType\": \"a\", \"Assortment\": \"a\", \"CompetitionDistance\": 1040.0, \"CompetitionOpenSinceMonth\": NaN, \"CompetitionOpenSinceYear\": NaN, \"Promo2\": 1, \"Promo2SinceWeek\": 22.0, \"Promo2SinceYear\": 2012.0, \"PromoInterval\": \"Jan,Apr,Jul,Oct\"}, {\"Store\": 24, \"DayOfWeek\": 5, \"Date\": \"2015-09-11\", \"Open\": 1.0, \"Promo\": 0, \"StateHoliday\": \"0\", \"SchoolHoliday\": 0, \"StoreType\": \"a\", \"Assortment\": \"c\", \"CompetitionDistance\": 4590.0, \"CompetitionOpenSinceMonth\": 3.0, \"CompetitionOpenSinceYear\": 2000.0, \"Promo2\": 1, \"Promo2SinceWeek\": 40.0, \"Promo2SinceYear\": 2011.0, \"PromoInterval\": \"Jan,Apr,Jul,Oct\"}, {\"Store\": 12, \"DayOfWeek\": 4, \"Date\": \"2015-09-10\", \"Open\": 1.0, \"Promo\": 0, \"StateHoliday\": \"0\", \"SchoolHoliday\": 0, \"StoreType\": \"a\", \"Assortment\": \"c\", \"CompetitionDistance\": 1070.0, \"CompetitionOpenSinceMonth\": NaN, \"CompetitionOpenSinceYear\": NaN, \"Promo2\": 1, \"Promo2SinceWeek\": 13.0, \"Promo2SinceYear\": 2010.0, \"PromoInterval\": \"Jan,Apr,Jul,Oct\"}, {\"Store\": 22, \"DayOfWeek\": 4, \"Date\": \"2015-09-10\", \"Open\": 1.0, \"Promo\": 0, \"StateHoliday\": \"0\", \"SchoolHoliday\": 1, \"StoreType\": \"a\", \"Assortment\": \"a\", \"CompetitionDistance\": 1040.0, \"CompetitionOpenSinceMonth\": NaN, \"CompetitionOpenSinceYear\": NaN, \"Promo2\": 1, \"Promo2SinceWeek\": 22.0, \"Promo2SinceYear\": 2012.0, \"PromoInterval\": \"Jan,Apr,Jul,Oct\"}, {\"Store\": 24, \"DayOfWeek\": 4, \"Date\": \"2015-09-10\", \"Open\": 1.0, \"Promo\": 0, \"StateHoliday\": \"0\", \"SchoolHoliday\": 0, \"StoreType\": \"a\", \"Assortment\": \"c\", \"CompetitionDistance\": 4590.0, \"CompetitionOpenSinceMonth\": 3.0, \"CompetitionOpenSinceYear\": 2000.0, \"Promo2\": 1, \"Promo2SinceWeek\": 40.0, \"Promo2SinceYear\": 2011.0, \"PromoInterval\": \"Jan,Apr,Jul,Oct\"}, {\"Store\": 12, \"DayOfWeek\": 3, \"Date\": \"2015-09-09\", \"Open\": 1.0, \"Promo\": 0, \"StateHoliday\": \"0\", \"SchoolHoliday\": 0, \"StoreType\": \"a\", \"Assortment\": \"c\", \"CompetitionDistance\": 1070.0, \"CompetitionOpenSinceMonth\": NaN, \"CompetitionOpenSinceYear\": NaN, \"Promo2\": 1, \"Promo2SinceWeek\": 13.0, \"Promo2SinceYear\": 2010.0, \"PromoInterval\": \"Jan,Apr,Jul,Oct\"}, {\"Store\": 22, \"DayOfWeek\": 3, \"Date\": \"2015-09-09\", \"Open\": 1.0, \"Promo\": 0, \"StateHoliday\": \"0\", \"SchoolHoliday\": 1, \"StoreType\": \"a\", \"Assortment\": \"a\", \"CompetitionDistance\": 1040.0, \"CompetitionOpenSinceMonth\": NaN, \"CompetitionOpenSinceYear\": NaN, \"Promo2\": 1, \"Promo2SinceWeek\": 22.0, \"Promo2SinceYear\": 2012.0, \"PromoInterval\": \"Jan,Apr,Jul,Oct\"}, {\"Store\": 24, \"DayOfWeek\": 3, \"Date\": \"2015-09-09\", \"Open\": 1.0, \"Promo\": 0, \"StateHoliday\": \"0\", \"SchoolHoliday\": 0, \"StoreType\": \"a\", \"Assortment\": \"c\", \"CompetitionDistance\": 4590.0, \"CompetitionOpenSinceMonth\": 3.0, \"CompetitionOpenSinceYear\": 2000.0, \"Promo2\": 1, \"Promo2SinceWeek\": 40.0, \"Promo2SinceYear\": 2011.0, \"PromoInterval\": \"Jan,Apr,Jul,Oct\"}, {\"Store\": 12, \"DayOfWeek\": 2, \"Date\": \"2015-09-08\", \"Open\": 1.0, \"Promo\": 0, \"StateHoliday\": \"0\", \"SchoolHoliday\": 0, \"StoreType\": \"a\", \"Assortment\": \"c\", \"CompetitionDistance\": 1070.0, \"CompetitionOpenSinceMonth\": NaN, \"CompetitionOpenSinceYear\": NaN, \"Promo2\": 1, \"Promo2SinceWeek\": 13.0, \"Promo2SinceYear\": 2010.0, \"PromoInterval\": \"Jan,Apr,Jul,Oct\"}, {\"Store\": 22, \"DayOfWeek\": 2, \"Date\": \"2015-09-08\", \"Open\": 1.0, \"Promo\": 0, \"StateHoliday\": \"0\", \"SchoolHoliday\": 1, \"StoreType\": \"a\", \"Assortment\": \"a\", \"CompetitionDistance\": 1040.0, \"CompetitionOpenSinceMonth\": NaN, \"CompetitionOpenSinceYear\": NaN, \"Promo2\": 1, \"Promo2SinceWeek\": 22.0, \"Promo2SinceYear\": 2012.0, \"PromoInterval\": \"Jan,Apr,Jul,Oct\"}, {\"Store\": 24, \"DayOfWeek\": 2, \"Date\": \"2015-09-08\", \"Open\": 1.0, \"Promo\": 0, \"StateHoliday\": \"0\", \"SchoolHoliday\": 0, \"StoreType\": \"a\", \"Assortment\": \"c\", \"CompetitionDistance\": 4590.0, \"CompetitionOpenSinceMonth\": 3.0, \"CompetitionOpenSinceYear\": 2000.0, \"Promo2\": 1, \"Promo2SinceWeek\": 40.0, \"Promo2SinceYear\": 2011.0, \"PromoInterval\": \"Jan,Apr,Jul,Oct\"}, {\"Store\": 12, \"DayOfWeek\": 1, \"Date\": \"2015-09-07\", \"Open\": 1.0, \"Promo\": 0, \"StateHoliday\": \"0\", \"SchoolHoliday\": 0, \"StoreType\": \"a\", \"Assortment\": \"c\", \"CompetitionDistance\": 1070.0, \"CompetitionOpenSinceMonth\": NaN, \"CompetitionOpenSinceYear\": NaN, \"Promo2\": 1, \"Promo2SinceWeek\": 13.0, \"Promo2SinceYear\": 2010.0, \"PromoInterval\": \"Jan,Apr,Jul,Oct\"}, {\"Store\": 22, \"DayOfWeek\": 1, \"Date\": \"2015-09-07\", \"Open\": 1.0, \"Promo\": 0, \"StateHoliday\": \"0\", \"SchoolHoliday\": 1, \"StoreType\": \"a\", \"Assortment\": \"a\", \"CompetitionDistance\": 1040.0, \"CompetitionOpenSinceMonth\": NaN, \"CompetitionOpenSinceYear\": NaN, \"Promo2\": 1, \"Promo2SinceWeek\": 22.0, \"Promo2SinceYear\": 2012.0, \"PromoInterval\": \"Jan,Apr,Jul,Oct\"}, {\"Store\": 24, \"DayOfWeek\": 1, \"Date\": \"2015-09-07\", \"Open\": 1.0, \"Promo\": 0, \"StateHoliday\": \"0\", \"SchoolHoliday\": 0, \"StoreType\": \"a\", \"Assortment\": \"c\", \"CompetitionDistance\": 4590.0, \"CompetitionOpenSinceMonth\": 3.0, \"CompetitionOpenSinceYear\": 2000.0, \"Promo2\": 1, \"Promo2SinceWeek\": 40.0, \"Promo2SinceYear\": 2011.0, \"PromoInterval\": \"Jan,Apr,Jul,Oct\"}, {\"Store\": 12, \"DayOfWeek\": 6, \"Date\": \"2015-09-05\", \"Open\": 1.0, \"Promo\": 0, \"StateHoliday\": \"0\", \"SchoolHoliday\": 0, \"StoreType\": \"a\", \"Assortment\": \"c\", \"CompetitionDistance\": 1070.0, \"CompetitionOpenSinceMonth\": NaN, \"CompetitionOpenSinceYear\": NaN, \"Promo2\": 1, \"Promo2SinceWeek\": 13.0, \"Promo2SinceYear\": 2010.0, \"PromoInterval\": \"Jan,Apr,Jul,Oct\"}, {\"Store\": 22, \"DayOfWeek\": 6, \"Date\": \"2015-09-05\", \"Open\": 1.0, \"Promo\": 0, \"StateHoliday\": \"0\", \"SchoolHoliday\": 0, \"StoreType\": \"a\", \"Assortment\": \"a\", \"CompetitionDistance\": 1040.0, \"CompetitionOpenSinceMonth\": NaN, \"CompetitionOpenSinceYear\": NaN, \"Promo2\": 1, \"Promo2SinceWeek\": 22.0, \"Promo2SinceYear\": 2012.0, \"PromoInterval\": \"Jan,Apr,Jul,Oct\"}, {\"Store\": 24, \"DayOfWeek\": 6, \"Date\": \"2015-09-05\", \"Open\": 1.0, \"Promo\": 0, \"StateHoliday\": \"0\", \"SchoolHoliday\": 0, \"StoreType\": \"a\", \"Assortment\": \"c\", \"CompetitionDistance\": 4590.0, \"CompetitionOpenSinceMonth\": 3.0, \"CompetitionOpenSinceYear\": 2000.0, \"Promo2\": 1, \"Promo2SinceWeek\": 40.0, \"Promo2SinceYear\": 2011.0, \"PromoInterval\": \"Jan,Apr,Jul,Oct\"}, {\"Store\": 12, \"DayOfWeek\": 5, \"Date\": \"2015-09-04\", \"Open\": 1.0, \"Promo\": 1, \"StateHoliday\": \"0\", \"SchoolHoliday\": 0, \"StoreType\": \"a\", \"Assortment\": \"c\", \"CompetitionDistance\": 1070.0, \"CompetitionOpenSinceMonth\": NaN, \"CompetitionOpenSinceYear\": NaN, \"Promo2\": 1, \"Promo2SinceWeek\": 13.0, \"Promo2SinceYear\": 2010.0, \"PromoInterval\": \"Jan,Apr,Jul,Oct\"}, {\"Store\": 22, \"DayOfWeek\": 5, \"Date\": \"2015-09-04\", \"Open\": 1.0, \"Promo\": 1, \"StateHoliday\": \"0\", \"SchoolHoliday\": 1, \"StoreType\": \"a\", \"Assortment\": \"a\", \"CompetitionDistance\": 1040.0, \"CompetitionOpenSinceMonth\": NaN, \"CompetitionOpenSinceYear\": NaN, \"Promo2\": 1, \"Promo2SinceWeek\": 22.0, \"Promo2SinceYear\": 2012.0, \"PromoInterval\": \"Jan,Apr,Jul,Oct\"}, {\"Store\": 24, \"DayOfWeek\": 5, \"Date\": \"2015-09-04\", \"Open\": 1.0, \"Promo\": 1, \"StateHoliday\": \"0\", \"SchoolHoliday\": 0, \"StoreType\": \"a\", \"Assortment\": \"c\", \"CompetitionDistance\": 4590.0, \"CompetitionOpenSinceMonth\": 3.0, \"CompetitionOpenSinceYear\": 2000.0, \"Promo2\": 1, \"Promo2SinceWeek\": 40.0, \"Promo2SinceYear\": 2011.0, \"PromoInterval\": \"Jan,Apr,Jul,Oct\"}, {\"Store\": 12, \"DayOfWeek\": 4, \"Date\": \"2015-09-03\", \"Open\": 1.0, \"Promo\": 1, \"StateHoliday\": \"0\", \"SchoolHoliday\": 0, \"StoreType\": \"a\", \"Assortment\": \"c\", \"CompetitionDistance\": 1070.0, \"CompetitionOpenSinceMonth\": NaN, \"CompetitionOpenSinceYear\": NaN, \"Promo2\": 1, \"Promo2SinceWeek\": 13.0, \"Promo2SinceYear\": 2010.0, \"PromoInterval\": \"Jan,Apr,Jul,Oct\"}, {\"Store\": 22, \"DayOfWeek\": 4, \"Date\": \"2015-09-03\", \"Open\": 1.0, \"Promo\": 1, \"StateHoliday\": \"0\", \"SchoolHoliday\": 1, \"StoreType\": \"a\", \"Assortment\": \"a\", \"CompetitionDistance\": 1040.0, \"CompetitionOpenSinceMonth\": NaN, \"CompetitionOpenSinceYear\": NaN, \"Promo2\": 1, \"Promo2SinceWeek\": 22.0, \"Promo2SinceYear\": 2012.0, \"PromoInterval\": \"Jan,Apr,Jul,Oct\"}, {\"Store\": 24, \"DayOfWeek\": 4, \"Date\": \"2015-09-03\", \"Open\": 1.0, \"Promo\": 1, \"StateHoliday\": \"0\", \"SchoolHoliday\": 0, \"StoreType\": \"a\", \"Assortment\": \"c\", \"CompetitionDistance\": 4590.0, \"CompetitionOpenSinceMonth\": 3.0, \"CompetitionOpenSinceYear\": 2000.0, \"Promo2\": 1, \"Promo2SinceWeek\": 40.0, \"Promo2SinceYear\": 2011.0, \"PromoInterval\": \"Jan,Apr,Jul,Oct\"}, {\"Store\": 12, \"DayOfWeek\": 3, \"Date\": \"2015-09-02\", \"Open\": 1.0, \"Promo\": 1, \"StateHoliday\": \"0\", \"SchoolHoliday\": 0, \"StoreType\": \"a\", \"Assortment\": \"c\", \"CompetitionDistance\": 1070.0, \"CompetitionOpenSinceMonth\": NaN, \"CompetitionOpenSinceYear\": NaN, \"Promo2\": 1, \"Promo2SinceWeek\": 13.0, \"Promo2SinceYear\": 2010.0, \"PromoInterval\": \"Jan,Apr,Jul,Oct\"}, {\"Store\": 22, \"DayOfWeek\": 3, \"Date\": \"2015-09-02\", \"Open\": 1.0, \"Promo\": 1, \"StateHoliday\": \"0\", \"SchoolHoliday\": 1, \"StoreType\": \"a\", \"Assortment\": \"a\", \"CompetitionDistance\": 1040.0, \"CompetitionOpenSinceMonth\": NaN, \"CompetitionOpenSinceYear\": NaN, \"Promo2\": 1, \"Promo2SinceWeek\": 22.0, \"Promo2SinceYear\": 2012.0, \"PromoInterval\": \"Jan,Apr,Jul,Oct\"}, {\"Store\": 24, \"DayOfWeek\": 3, \"Date\": \"2015-09-02\", \"Open\": 1.0, \"Promo\": 1, \"StateHoliday\": \"0\", \"SchoolHoliday\": 0, \"StoreType\": \"a\", \"Assortment\": \"c\", \"CompetitionDistance\": 4590.0, \"CompetitionOpenSinceMonth\": 3.0, \"CompetitionOpenSinceYear\": 2000.0, \"Promo2\": 1, \"Promo2SinceWeek\": 40.0, \"Promo2SinceYear\": 2011.0, \"PromoInterval\": \"Jan,Apr,Jul,Oct\"}, {\"Store\": 12, \"DayOfWeek\": 2, \"Date\": \"2015-09-01\", \"Open\": 1.0, \"Promo\": 1, \"StateHoliday\": \"0\", \"SchoolHoliday\": 0, \"StoreType\": \"a\", \"Assortment\": \"c\", \"CompetitionDistance\": 1070.0, \"CompetitionOpenSinceMonth\": NaN, \"CompetitionOpenSinceYear\": NaN, \"Promo2\": 1, \"Promo2SinceWeek\": 13.0, \"Promo2SinceYear\": 2010.0, \"PromoInterval\": \"Jan,Apr,Jul,Oct\"}, {\"Store\": 22, \"DayOfWeek\": 2, \"Date\": \"2015-09-01\", \"Open\": 1.0, \"Promo\": 1, \"StateHoliday\": \"0\", \"SchoolHoliday\": 1, \"StoreType\": \"a\", \"Assortment\": \"a\", \"CompetitionDistance\": 1040.0, \"CompetitionOpenSinceMonth\": NaN, \"CompetitionOpenSinceYear\": NaN, \"Promo2\": 1, \"Promo2SinceWeek\": 22.0, \"Promo2SinceYear\": 2012.0, \"PromoInterval\": \"Jan,Apr,Jul,Oct\"}, {\"Store\": 24, \"DayOfWeek\": 2, \"Date\": \"2015-09-01\", \"Open\": 1.0, \"Promo\": 1, \"StateHoliday\": \"0\", \"SchoolHoliday\": 0, \"StoreType\": \"a\", \"Assortment\": \"c\", \"CompetitionDistance\": 4590.0, \"CompetitionOpenSinceMonth\": 3.0, \"CompetitionOpenSinceYear\": 2000.0, \"Promo2\": 1, \"Promo2SinceWeek\": 40.0, \"Promo2SinceYear\": 2011.0, \"PromoInterval\": \"Jan,Apr,Jul,Oct\"}, {\"Store\": 12, \"DayOfWeek\": 1, \"Date\": \"2015-08-31\", \"Open\": 1.0, \"Promo\": 1, \"StateHoliday\": \"0\", \"SchoolHoliday\": 0, \"StoreType\": \"a\", \"Assortment\": \"c\", \"CompetitionDistance\": 1070.0, \"CompetitionOpenSinceMonth\": NaN, \"CompetitionOpenSinceYear\": NaN, \"Promo2\": 1, \"Promo2SinceWeek\": 13.0, \"Promo2SinceYear\": 2010.0, \"PromoInterval\": \"Jan,Apr,Jul,Oct\"}, {\"Store\": 22, \"DayOfWeek\": 1, \"Date\": \"2015-08-31\", \"Open\": 1.0, \"Promo\": 1, \"StateHoliday\": \"0\", \"SchoolHoliday\": 1, \"StoreType\": \"a\", \"Assortment\": \"a\", \"CompetitionDistance\": 1040.0, \"CompetitionOpenSinceMonth\": NaN, \"CompetitionOpenSinceYear\": NaN, \"Promo2\": 1, \"Promo2SinceWeek\": 22.0, \"Promo2SinceYear\": 2012.0, \"PromoInterval\": \"Jan,Apr,Jul,Oct\"}, {\"Store\": 24, \"DayOfWeek\": 1, \"Date\": \"2015-08-31\", \"Open\": 1.0, \"Promo\": 1, \"StateHoliday\": \"0\", \"SchoolHoliday\": 0, \"StoreType\": \"a\", \"Assortment\": \"c\", \"CompetitionDistance\": 4590.0, \"CompetitionOpenSinceMonth\": 3.0, \"CompetitionOpenSinceYear\": 2000.0, \"Promo2\": 1, \"Promo2SinceWeek\": 40.0, \"Promo2SinceYear\": 2011.0, \"PromoInterval\": \"Jan,Apr,Jul,Oct\"}, {\"Store\": 12, \"DayOfWeek\": 6, \"Date\": \"2015-08-29\", \"Open\": 1.0, \"Promo\": 0, \"StateHoliday\": \"0\", \"SchoolHoliday\": 0, \"StoreType\": \"a\", \"Assortment\": \"c\", \"CompetitionDistance\": 1070.0, \"CompetitionOpenSinceMonth\": NaN, \"CompetitionOpenSinceYear\": NaN, \"Promo2\": 1, \"Promo2SinceWeek\": 13.0, \"Promo2SinceYear\": 2010.0, \"PromoInterval\": \"Jan,Apr,Jul,Oct\"}, {\"Store\": 22, \"DayOfWeek\": 6, \"Date\": \"2015-08-29\", \"Open\": 1.0, \"Promo\": 0, \"StateHoliday\": \"0\", \"SchoolHoliday\": 0, \"StoreType\": \"a\", \"Assortment\": \"a\", \"CompetitionDistance\": 1040.0, \"CompetitionOpenSinceMonth\": NaN, \"CompetitionOpenSinceYear\": NaN, \"Promo2\": 1, \"Promo2SinceWeek\": 22.0, \"Promo2SinceYear\": 2012.0, \"PromoInterval\": \"Jan,Apr,Jul,Oct\"}, {\"Store\": 24, \"DayOfWeek\": 6, \"Date\": \"2015-08-29\", \"Open\": 1.0, \"Promo\": 0, \"StateHoliday\": \"0\", \"SchoolHoliday\": 0, \"StoreType\": \"a\", \"Assortment\": \"c\", \"CompetitionDistance\": 4590.0, \"CompetitionOpenSinceMonth\": 3.0, \"CompetitionOpenSinceYear\": 2000.0, \"Promo2\": 1, \"Promo2SinceWeek\": 40.0, \"Promo2SinceYear\": 2011.0, \"PromoInterval\": \"Jan,Apr,Jul,Oct\"}, {\"Store\": 12, \"DayOfWeek\": 5, \"Date\": \"2015-08-28\", \"Open\": 1.0, \"Promo\": 0, \"StateHoliday\": \"0\", \"SchoolHoliday\": 1, \"StoreType\": \"a\", \"Assortment\": \"c\", \"CompetitionDistance\": 1070.0, \"CompetitionOpenSinceMonth\": NaN, \"CompetitionOpenSinceYear\": NaN, \"Promo2\": 1, \"Promo2SinceWeek\": 13.0, \"Promo2SinceYear\": 2010.0, \"PromoInterval\": \"Jan,Apr,Jul,Oct\"}, {\"Store\": 22, \"DayOfWeek\": 5, \"Date\": \"2015-08-28\", \"Open\": 1.0, \"Promo\": 0, \"StateHoliday\": \"0\", \"SchoolHoliday\": 1, \"StoreType\": \"a\", \"Assortment\": \"a\", \"CompetitionDistance\": 1040.0, \"CompetitionOpenSinceMonth\": NaN, \"CompetitionOpenSinceYear\": NaN, \"Promo2\": 1, \"Promo2SinceWeek\": 22.0, \"Promo2SinceYear\": 2012.0, \"PromoInterval\": \"Jan,Apr,Jul,Oct\"}, {\"Store\": 24, \"DayOfWeek\": 5, \"Date\": \"2015-08-28\", \"Open\": 1.0, \"Promo\": 0, \"StateHoliday\": \"0\", \"SchoolHoliday\": 0, \"StoreType\": \"a\", \"Assortment\": \"c\", \"CompetitionDistance\": 4590.0, \"CompetitionOpenSinceMonth\": 3.0, \"CompetitionOpenSinceYear\": 2000.0, \"Promo2\": 1, \"Promo2SinceWeek\": 40.0, \"Promo2SinceYear\": 2011.0, \"PromoInterval\": \"Jan,Apr,Jul,Oct\"}, {\"Store\": 12, \"DayOfWeek\": 4, \"Date\": \"2015-08-27\", \"Open\": 1.0, \"Promo\": 0, \"StateHoliday\": \"0\", \"SchoolHoliday\": 1, \"StoreType\": \"a\", \"Assortment\": \"c\", \"CompetitionDistance\": 1070.0, \"CompetitionOpenSinceMonth\": NaN, \"CompetitionOpenSinceYear\": NaN, \"Promo2\": 1, \"Promo2SinceWeek\": 13.0, \"Promo2SinceYear\": 2010.0, \"PromoInterval\": \"Jan,Apr,Jul,Oct\"}, {\"Store\": 22, \"DayOfWeek\": 4, \"Date\": \"2015-08-27\", \"Open\": 1.0, \"Promo\": 0, \"StateHoliday\": \"0\", \"SchoolHoliday\": 1, \"StoreType\": \"a\", \"Assortment\": \"a\", \"CompetitionDistance\": 1040.0, \"CompetitionOpenSinceMonth\": NaN, \"CompetitionOpenSinceYear\": NaN, \"Promo2\": 1, \"Promo2SinceWeek\": 22.0, \"Promo2SinceYear\": 2012.0, \"PromoInterval\": \"Jan,Apr,Jul,Oct\"}, {\"Store\": 24, \"DayOfWeek\": 4, \"Date\": \"2015-08-27\", \"Open\": 1.0, \"Promo\": 0, \"StateHoliday\": \"0\", \"SchoolHoliday\": 0, \"StoreType\": \"a\", \"Assortment\": \"c\", \"CompetitionDistance\": 4590.0, \"CompetitionOpenSinceMonth\": 3.0, \"CompetitionOpenSinceYear\": 2000.0, \"Promo2\": 1, \"Promo2SinceWeek\": 40.0, \"Promo2SinceYear\": 2011.0, \"PromoInterval\": \"Jan,Apr,Jul,Oct\"}, {\"Store\": 12, \"DayOfWeek\": 3, \"Date\": \"2015-08-26\", \"Open\": 1.0, \"Promo\": 0, \"StateHoliday\": \"0\", \"SchoolHoliday\": 1, \"StoreType\": \"a\", \"Assortment\": \"c\", \"CompetitionDistance\": 1070.0, \"CompetitionOpenSinceMonth\": NaN, \"CompetitionOpenSinceYear\": NaN, \"Promo2\": 1, \"Promo2SinceWeek\": 13.0, \"Promo2SinceYear\": 2010.0, \"PromoInterval\": \"Jan,Apr,Jul,Oct\"}, {\"Store\": 22, \"DayOfWeek\": 3, \"Date\": \"2015-08-26\", \"Open\": 1.0, \"Promo\": 0, \"StateHoliday\": \"0\", \"SchoolHoliday\": 1, \"StoreType\": \"a\", \"Assortment\": \"a\", \"CompetitionDistance\": 1040.0, \"CompetitionOpenSinceMonth\": NaN, \"CompetitionOpenSinceYear\": NaN, \"Promo2\": 1, \"Promo2SinceWeek\": 22.0, \"Promo2SinceYear\": 2012.0, \"PromoInterval\": \"Jan,Apr,Jul,Oct\"}, {\"Store\": 24, \"DayOfWeek\": 3, \"Date\": \"2015-08-26\", \"Open\": 1.0, \"Promo\": 0, \"StateHoliday\": \"0\", \"SchoolHoliday\": 0, \"StoreType\": \"a\", \"Assortment\": \"c\", \"CompetitionDistance\": 4590.0, \"CompetitionOpenSinceMonth\": 3.0, \"CompetitionOpenSinceYear\": 2000.0, \"Promo2\": 1, \"Promo2SinceWeek\": 40.0, \"Promo2SinceYear\": 2011.0, \"PromoInterval\": \"Jan,Apr,Jul,Oct\"}, {\"Store\": 12, \"DayOfWeek\": 2, \"Date\": \"2015-08-25\", \"Open\": 1.0, \"Promo\": 0, \"StateHoliday\": \"0\", \"SchoolHoliday\": 1, \"StoreType\": \"a\", \"Assortment\": \"c\", \"CompetitionDistance\": 1070.0, \"CompetitionOpenSinceMonth\": NaN, \"CompetitionOpenSinceYear\": NaN, \"Promo2\": 1, \"Promo2SinceWeek\": 13.0, \"Promo2SinceYear\": 2010.0, \"PromoInterval\": \"Jan,Apr,Jul,Oct\"}, {\"Store\": 22, \"DayOfWeek\": 2, \"Date\": \"2015-08-25\", \"Open\": 1.0, \"Promo\": 0, \"StateHoliday\": \"0\", \"SchoolHoliday\": 1, \"StoreType\": \"a\", \"Assortment\": \"a\", \"CompetitionDistance\": 1040.0, \"CompetitionOpenSinceMonth\": NaN, \"CompetitionOpenSinceYear\": NaN, \"Promo2\": 1, \"Promo2SinceWeek\": 22.0, \"Promo2SinceYear\": 2012.0, \"PromoInterval\": \"Jan,Apr,Jul,Oct\"}, {\"Store\": 24, \"DayOfWeek\": 2, \"Date\": \"2015-08-25\", \"Open\": 1.0, \"Promo\": 0, \"StateHoliday\": \"0\", \"SchoolHoliday\": 0, \"StoreType\": \"a\", \"Assortment\": \"c\", \"CompetitionDistance\": 4590.0, \"CompetitionOpenSinceMonth\": 3.0, \"CompetitionOpenSinceYear\": 2000.0, \"Promo2\": 1, \"Promo2SinceWeek\": 40.0, \"Promo2SinceYear\": 2011.0, \"PromoInterval\": \"Jan,Apr,Jul,Oct\"}, {\"Store\": 12, \"DayOfWeek\": 1, \"Date\": \"2015-08-24\", \"Open\": 1.0, \"Promo\": 0, \"StateHoliday\": \"0\", \"SchoolHoliday\": 1, \"StoreType\": \"a\", \"Assortment\": \"c\", \"CompetitionDistance\": 1070.0, \"CompetitionOpenSinceMonth\": NaN, \"CompetitionOpenSinceYear\": NaN, \"Promo2\": 1, \"Promo2SinceWeek\": 13.0, \"Promo2SinceYear\": 2010.0, \"PromoInterval\": \"Jan,Apr,Jul,Oct\"}, {\"Store\": 22, \"DayOfWeek\": 1, \"Date\": \"2015-08-24\", \"Open\": 1.0, \"Promo\": 0, \"StateHoliday\": \"0\", \"SchoolHoliday\": 1, \"StoreType\": \"a\", \"Assortment\": \"a\", \"CompetitionDistance\": 1040.0, \"CompetitionOpenSinceMonth\": NaN, \"CompetitionOpenSinceYear\": NaN, \"Promo2\": 1, \"Promo2SinceWeek\": 22.0, \"Promo2SinceYear\": 2012.0, \"PromoInterval\": \"Jan,Apr,Jul,Oct\"}, {\"Store\": 24, \"DayOfWeek\": 1, \"Date\": \"2015-08-24\", \"Open\": 1.0, \"Promo\": 0, \"StateHoliday\": \"0\", \"SchoolHoliday\": 0, \"StoreType\": \"a\", \"Assortment\": \"c\", \"CompetitionDistance\": 4590.0, \"CompetitionOpenSinceMonth\": 3.0, \"CompetitionOpenSinceYear\": 2000.0, \"Promo2\": 1, \"Promo2SinceWeek\": 40.0, \"Promo2SinceYear\": 2011.0, \"PromoInterval\": \"Jan,Apr,Jul,Oct\"}, {\"Store\": 12, \"DayOfWeek\": 6, \"Date\": \"2015-08-22\", \"Open\": 1.0, \"Promo\": 0, \"StateHoliday\": \"0\", \"SchoolHoliday\": 0, \"StoreType\": \"a\", \"Assortment\": \"c\", \"CompetitionDistance\": 1070.0, \"CompetitionOpenSinceMonth\": NaN, \"CompetitionOpenSinceYear\": NaN, \"Promo2\": 1, \"Promo2SinceWeek\": 13.0, \"Promo2SinceYear\": 2010.0, \"PromoInterval\": \"Jan,Apr,Jul,Oct\"}, {\"Store\": 22, \"DayOfWeek\": 6, \"Date\": \"2015-08-22\", \"Open\": 1.0, \"Promo\": 0, \"StateHoliday\": \"0\", \"SchoolHoliday\": 0, \"StoreType\": \"a\", \"Assortment\": \"a\", \"CompetitionDistance\": 1040.0, \"CompetitionOpenSinceMonth\": NaN, \"CompetitionOpenSinceYear\": NaN, \"Promo2\": 1, \"Promo2SinceWeek\": 22.0, \"Promo2SinceYear\": 2012.0, \"PromoInterval\": \"Jan,Apr,Jul,Oct\"}, {\"Store\": 24, \"DayOfWeek\": 6, \"Date\": \"2015-08-22\", \"Open\": 1.0, \"Promo\": 0, \"StateHoliday\": \"0\", \"SchoolHoliday\": 0, \"StoreType\": \"a\", \"Assortment\": \"c\", \"CompetitionDistance\": 4590.0, \"CompetitionOpenSinceMonth\": 3.0, \"CompetitionOpenSinceYear\": 2000.0, \"Promo2\": 1, \"Promo2SinceWeek\": 40.0, \"Promo2SinceYear\": 2011.0, \"PromoInterval\": \"Jan,Apr,Jul,Oct\"}, {\"Store\": 12, \"DayOfWeek\": 5, \"Date\": \"2015-08-21\", \"Open\": 1.0, \"Promo\": 1, \"StateHoliday\": \"0\", \"SchoolHoliday\": 1, \"StoreType\": \"a\", \"Assortment\": \"c\", \"CompetitionDistance\": 1070.0, \"CompetitionOpenSinceMonth\": NaN, \"CompetitionOpenSinceYear\": NaN, \"Promo2\": 1, \"Promo2SinceWeek\": 13.0, \"Promo2SinceYear\": 2010.0, \"PromoInterval\": \"Jan,Apr,Jul,Oct\"}, {\"Store\": 22, \"DayOfWeek\": 5, \"Date\": \"2015-08-21\", \"Open\": 1.0, \"Promo\": 1, \"StateHoliday\": \"0\", \"SchoolHoliday\": 1, \"StoreType\": \"a\", \"Assortment\": \"a\", \"CompetitionDistance\": 1040.0, \"CompetitionOpenSinceMonth\": NaN, \"CompetitionOpenSinceYear\": NaN, \"Promo2\": 1, \"Promo2SinceWeek\": 22.0, \"Promo2SinceYear\": 2012.0, \"PromoInterval\": \"Jan,Apr,Jul,Oct\"}, {\"Store\": 24, \"DayOfWeek\": 5, \"Date\": \"2015-08-21\", \"Open\": 1.0, \"Promo\": 1, \"StateHoliday\": \"0\", \"SchoolHoliday\": 0, \"StoreType\": \"a\", \"Assortment\": \"c\", \"CompetitionDistance\": 4590.0, \"CompetitionOpenSinceMonth\": 3.0, \"CompetitionOpenSinceYear\": 2000.0, \"Promo2\": 1, \"Promo2SinceWeek\": 40.0, \"Promo2SinceYear\": 2011.0, \"PromoInterval\": \"Jan,Apr,Jul,Oct\"}, {\"Store\": 12, \"DayOfWeek\": 4, \"Date\": \"2015-08-20\", \"Open\": 1.0, \"Promo\": 1, \"StateHoliday\": \"0\", \"SchoolHoliday\": 1, \"StoreType\": \"a\", \"Assortment\": \"c\", \"CompetitionDistance\": 1070.0, \"CompetitionOpenSinceMonth\": NaN, \"CompetitionOpenSinceYear\": NaN, \"Promo2\": 1, \"Promo2SinceWeek\": 13.0, \"Promo2SinceYear\": 2010.0, \"PromoInterval\": \"Jan,Apr,Jul,Oct\"}, {\"Store\": 22, \"DayOfWeek\": 4, \"Date\": \"2015-08-20\", \"Open\": 1.0, \"Promo\": 1, \"StateHoliday\": \"0\", \"SchoolHoliday\": 1, \"StoreType\": \"a\", \"Assortment\": \"a\", \"CompetitionDistance\": 1040.0, \"CompetitionOpenSinceMonth\": NaN, \"CompetitionOpenSinceYear\": NaN, \"Promo2\": 1, \"Promo2SinceWeek\": 22.0, \"Promo2SinceYear\": 2012.0, \"PromoInterval\": \"Jan,Apr,Jul,Oct\"}, {\"Store\": 24, \"DayOfWeek\": 4, \"Date\": \"2015-08-20\", \"Open\": 1.0, \"Promo\": 1, \"StateHoliday\": \"0\", \"SchoolHoliday\": 0, \"StoreType\": \"a\", \"Assortment\": \"c\", \"CompetitionDistance\": 4590.0, \"CompetitionOpenSinceMonth\": 3.0, \"CompetitionOpenSinceYear\": 2000.0, \"Promo2\": 1, \"Promo2SinceWeek\": 40.0, \"Promo2SinceYear\": 2011.0, \"PromoInterval\": \"Jan,Apr,Jul,Oct\"}, {\"Store\": 12, \"DayOfWeek\": 3, \"Date\": \"2015-08-19\", \"Open\": 1.0, \"Promo\": 1, \"StateHoliday\": \"0\", \"SchoolHoliday\": 1, \"StoreType\": \"a\", \"Assortment\": \"c\", \"CompetitionDistance\": 1070.0, \"CompetitionOpenSinceMonth\": NaN, \"CompetitionOpenSinceYear\": NaN, \"Promo2\": 1, \"Promo2SinceWeek\": 13.0, \"Promo2SinceYear\": 2010.0, \"PromoInterval\": \"Jan,Apr,Jul,Oct\"}, {\"Store\": 22, \"DayOfWeek\": 3, \"Date\": \"2015-08-19\", \"Open\": 1.0, \"Promo\": 1, \"StateHoliday\": \"0\", \"SchoolHoliday\": 1, \"StoreType\": \"a\", \"Assortment\": \"a\", \"CompetitionDistance\": 1040.0, \"CompetitionOpenSinceMonth\": NaN, \"CompetitionOpenSinceYear\": NaN, \"Promo2\": 1, \"Promo2SinceWeek\": 22.0, \"Promo2SinceYear\": 2012.0, \"PromoInterval\": \"Jan,Apr,Jul,Oct\"}, {\"Store\": 24, \"DayOfWeek\": 3, \"Date\": \"2015-08-19\", \"Open\": 1.0, \"Promo\": 1, \"StateHoliday\": \"0\", \"SchoolHoliday\": 0, \"StoreType\": \"a\", \"Assortment\": \"c\", \"CompetitionDistance\": 4590.0, \"CompetitionOpenSinceMonth\": 3.0, \"CompetitionOpenSinceYear\": 2000.0, \"Promo2\": 1, \"Promo2SinceWeek\": 40.0, \"Promo2SinceYear\": 2011.0, \"PromoInterval\": \"Jan,Apr,Jul,Oct\"}, {\"Store\": 12, \"DayOfWeek\": 2, \"Date\": \"2015-08-18\", \"Open\": 1.0, \"Promo\": 1, \"StateHoliday\": \"0\", \"SchoolHoliday\": 1, \"StoreType\": \"a\", \"Assortment\": \"c\", \"CompetitionDistance\": 1070.0, \"CompetitionOpenSinceMonth\": NaN, \"CompetitionOpenSinceYear\": NaN, \"Promo2\": 1, \"Promo2SinceWeek\": 13.0, \"Promo2SinceYear\": 2010.0, \"PromoInterval\": \"Jan,Apr,Jul,Oct\"}, {\"Store\": 22, \"DayOfWeek\": 2, \"Date\": \"2015-08-18\", \"Open\": 1.0, \"Promo\": 1, \"StateHoliday\": \"0\", \"SchoolHoliday\": 1, \"StoreType\": \"a\", \"Assortment\": \"a\", \"CompetitionDistance\": 1040.0, \"CompetitionOpenSinceMonth\": NaN, \"CompetitionOpenSinceYear\": NaN, \"Promo2\": 1, \"Promo2SinceWeek\": 22.0, \"Promo2SinceYear\": 2012.0, \"PromoInterval\": \"Jan,Apr,Jul,Oct\"}, {\"Store\": 24, \"DayOfWeek\": 2, \"Date\": \"2015-08-18\", \"Open\": 1.0, \"Promo\": 1, \"StateHoliday\": \"0\", \"SchoolHoliday\": 0, \"StoreType\": \"a\", \"Assortment\": \"c\", \"CompetitionDistance\": 4590.0, \"CompetitionOpenSinceMonth\": 3.0, \"CompetitionOpenSinceYear\": 2000.0, \"Promo2\": 1, \"Promo2SinceWeek\": 40.0, \"Promo2SinceYear\": 2011.0, \"PromoInterval\": \"Jan,Apr,Jul,Oct\"}, {\"Store\": 12, \"DayOfWeek\": 1, \"Date\": \"2015-08-17\", \"Open\": 1.0, \"Promo\": 1, \"StateHoliday\": \"0\", \"SchoolHoliday\": 1, \"StoreType\": \"a\", \"Assortment\": \"c\", \"CompetitionDistance\": 1070.0, \"CompetitionOpenSinceMonth\": NaN, \"CompetitionOpenSinceYear\": NaN, \"Promo2\": 1, \"Promo2SinceWeek\": 13.0, \"Promo2SinceYear\": 2010.0, \"PromoInterval\": \"Jan,Apr,Jul,Oct\"}, {\"Store\": 22, \"DayOfWeek\": 1, \"Date\": \"2015-08-17\", \"Open\": 1.0, \"Promo\": 1, \"StateHoliday\": \"0\", \"SchoolHoliday\": 1, \"StoreType\": \"a\", \"Assortment\": \"a\", \"CompetitionDistance\": 1040.0, \"CompetitionOpenSinceMonth\": NaN, \"CompetitionOpenSinceYear\": NaN, \"Promo2\": 1, \"Promo2SinceWeek\": 22.0, \"Promo2SinceYear\": 2012.0, \"PromoInterval\": \"Jan,Apr,Jul,Oct\"}, {\"Store\": 24, \"DayOfWeek\": 1, \"Date\": \"2015-08-17\", \"Open\": 1.0, \"Promo\": 1, \"StateHoliday\": \"0\", \"SchoolHoliday\": 0, \"StoreType\": \"a\", \"Assortment\": \"c\", \"CompetitionDistance\": 4590.0, \"CompetitionOpenSinceMonth\": 3.0, \"CompetitionOpenSinceYear\": 2000.0, \"Promo2\": 1, \"Promo2SinceWeek\": 40.0, \"Promo2SinceYear\": 2011.0, \"PromoInterval\": \"Jan,Apr,Jul,Oct\"}, {\"Store\": 12, \"DayOfWeek\": 6, \"Date\": \"2015-08-15\", \"Open\": 1.0, \"Promo\": 0, \"StateHoliday\": \"0\", \"SchoolHoliday\": 0, \"StoreType\": \"a\", \"Assortment\": \"c\", \"CompetitionDistance\": 1070.0, \"CompetitionOpenSinceMonth\": NaN, \"CompetitionOpenSinceYear\": NaN, \"Promo2\": 1, \"Promo2SinceWeek\": 13.0, \"Promo2SinceYear\": 2010.0, \"PromoInterval\": \"Jan,Apr,Jul,Oct\"}, {\"Store\": 24, \"DayOfWeek\": 6, \"Date\": \"2015-08-15\", \"Open\": 1.0, \"Promo\": 0, \"StateHoliday\": \"0\", \"SchoolHoliday\": 0, \"StoreType\": \"a\", \"Assortment\": \"c\", \"CompetitionDistance\": 4590.0, \"CompetitionOpenSinceMonth\": 3.0, \"CompetitionOpenSinceYear\": 2000.0, \"Promo2\": 1, \"Promo2SinceWeek\": 40.0, \"Promo2SinceYear\": 2011.0, \"PromoInterval\": \"Jan,Apr,Jul,Oct\"}, {\"Store\": 12, \"DayOfWeek\": 5, \"Date\": \"2015-08-14\", \"Open\": 1.0, \"Promo\": 0, \"StateHoliday\": \"0\", \"SchoolHoliday\": 1, \"StoreType\": \"a\", \"Assortment\": \"c\", \"CompetitionDistance\": 1070.0, \"CompetitionOpenSinceMonth\": NaN, \"CompetitionOpenSinceYear\": NaN, \"Promo2\": 1, \"Promo2SinceWeek\": 13.0, \"Promo2SinceYear\": 2010.0, \"PromoInterval\": \"Jan,Apr,Jul,Oct\"}, {\"Store\": 22, \"DayOfWeek\": 5, \"Date\": \"2015-08-14\", \"Open\": 1.0, \"Promo\": 0, \"StateHoliday\": \"0\", \"SchoolHoliday\": 1, \"StoreType\": \"a\", \"Assortment\": \"a\", \"CompetitionDistance\": 1040.0, \"CompetitionOpenSinceMonth\": NaN, \"CompetitionOpenSinceYear\": NaN, \"Promo2\": 1, \"Promo2SinceWeek\": 22.0, \"Promo2SinceYear\": 2012.0, \"PromoInterval\": \"Jan,Apr,Jul,Oct\"}, {\"Store\": 24, \"DayOfWeek\": 5, \"Date\": \"2015-08-14\", \"Open\": 1.0, \"Promo\": 0, \"StateHoliday\": \"0\", \"SchoolHoliday\": 0, \"StoreType\": \"a\", \"Assortment\": \"c\", \"CompetitionDistance\": 4590.0, \"CompetitionOpenSinceMonth\": 3.0, \"CompetitionOpenSinceYear\": 2000.0, \"Promo2\": 1, \"Promo2SinceWeek\": 40.0, \"Promo2SinceYear\": 2011.0, \"PromoInterval\": \"Jan,Apr,Jul,Oct\"}, {\"Store\": 12, \"DayOfWeek\": 4, \"Date\": \"2015-08-13\", \"Open\": 1.0, \"Promo\": 0, \"StateHoliday\": \"0\", \"SchoolHoliday\": 1, \"StoreType\": \"a\", \"Assortment\": \"c\", \"CompetitionDistance\": 1070.0, \"CompetitionOpenSinceMonth\": NaN, \"CompetitionOpenSinceYear\": NaN, \"Promo2\": 1, \"Promo2SinceWeek\": 13.0, \"Promo2SinceYear\": 2010.0, \"PromoInterval\": \"Jan,Apr,Jul,Oct\"}, {\"Store\": 22, \"DayOfWeek\": 4, \"Date\": \"2015-08-13\", \"Open\": 1.0, \"Promo\": 0, \"StateHoliday\": \"0\", \"SchoolHoliday\": 1, \"StoreType\": \"a\", \"Assortment\": \"a\", \"CompetitionDistance\": 1040.0, \"CompetitionOpenSinceMonth\": NaN, \"CompetitionOpenSinceYear\": NaN, \"Promo2\": 1, \"Promo2SinceWeek\": 22.0, \"Promo2SinceYear\": 2012.0, \"PromoInterval\": \"Jan,Apr,Jul,Oct\"}, {\"Store\": 24, \"DayOfWeek\": 4, \"Date\": \"2015-08-13\", \"Open\": 1.0, \"Promo\": 0, \"StateHoliday\": \"0\", \"SchoolHoliday\": 0, \"StoreType\": \"a\", \"Assortment\": \"c\", \"CompetitionDistance\": 4590.0, \"CompetitionOpenSinceMonth\": 3.0, \"CompetitionOpenSinceYear\": 2000.0, \"Promo2\": 1, \"Promo2SinceWeek\": 40.0, \"Promo2SinceYear\": 2011.0, \"PromoInterval\": \"Jan,Apr,Jul,Oct\"}, {\"Store\": 12, \"DayOfWeek\": 3, \"Date\": \"2015-08-12\", \"Open\": 1.0, \"Promo\": 0, \"StateHoliday\": \"0\", \"SchoolHoliday\": 1, \"StoreType\": \"a\", \"Assortment\": \"c\", \"CompetitionDistance\": 1070.0, \"CompetitionOpenSinceMonth\": NaN, \"CompetitionOpenSinceYear\": NaN, \"Promo2\": 1, \"Promo2SinceWeek\": 13.0, \"Promo2SinceYear\": 2010.0, \"PromoInterval\": \"Jan,Apr,Jul,Oct\"}, {\"Store\": 22, \"DayOfWeek\": 3, \"Date\": \"2015-08-12\", \"Open\": 1.0, \"Promo\": 0, \"StateHoliday\": \"0\", \"SchoolHoliday\": 1, \"StoreType\": \"a\", \"Assortment\": \"a\", \"CompetitionDistance\": 1040.0, \"CompetitionOpenSinceMonth\": NaN, \"CompetitionOpenSinceYear\": NaN, \"Promo2\": 1, \"Promo2SinceWeek\": 22.0, \"Promo2SinceYear\": 2012.0, \"PromoInterval\": \"Jan,Apr,Jul,Oct\"}, {\"Store\": 24, \"DayOfWeek\": 3, \"Date\": \"2015-08-12\", \"Open\": 1.0, \"Promo\": 0, \"StateHoliday\": \"0\", \"SchoolHoliday\": 0, \"StoreType\": \"a\", \"Assortment\": \"c\", \"CompetitionDistance\": 4590.0, \"CompetitionOpenSinceMonth\": 3.0, \"CompetitionOpenSinceYear\": 2000.0, \"Promo2\": 1, \"Promo2SinceWeek\": 40.0, \"Promo2SinceYear\": 2011.0, \"PromoInterval\": \"Jan,Apr,Jul,Oct\"}, {\"Store\": 12, \"DayOfWeek\": 2, \"Date\": \"2015-08-11\", \"Open\": 1.0, \"Promo\": 0, \"StateHoliday\": \"0\", \"SchoolHoliday\": 1, \"StoreType\": \"a\", \"Assortment\": \"c\", \"CompetitionDistance\": 1070.0, \"CompetitionOpenSinceMonth\": NaN, \"CompetitionOpenSinceYear\": NaN, \"Promo2\": 1, \"Promo2SinceWeek\": 13.0, \"Promo2SinceYear\": 2010.0, \"PromoInterval\": \"Jan,Apr,Jul,Oct\"}, {\"Store\": 22, \"DayOfWeek\": 2, \"Date\": \"2015-08-11\", \"Open\": 1.0, \"Promo\": 0, \"StateHoliday\": \"0\", \"SchoolHoliday\": 1, \"StoreType\": \"a\", \"Assortment\": \"a\", \"CompetitionDistance\": 1040.0, \"CompetitionOpenSinceMonth\": NaN, \"CompetitionOpenSinceYear\": NaN, \"Promo2\": 1, \"Promo2SinceWeek\": 22.0, \"Promo2SinceYear\": 2012.0, \"PromoInterval\": \"Jan,Apr,Jul,Oct\"}, {\"Store\": 24, \"DayOfWeek\": 2, \"Date\": \"2015-08-11\", \"Open\": 1.0, \"Promo\": 0, \"StateHoliday\": \"0\", \"SchoolHoliday\": 1, \"StoreType\": \"a\", \"Assortment\": \"c\", \"CompetitionDistance\": 4590.0, \"CompetitionOpenSinceMonth\": 3.0, \"CompetitionOpenSinceYear\": 2000.0, \"Promo2\": 1, \"Promo2SinceWeek\": 40.0, \"Promo2SinceYear\": 2011.0, \"PromoInterval\": \"Jan,Apr,Jul,Oct\"}, {\"Store\": 12, \"DayOfWeek\": 1, \"Date\": \"2015-08-10\", \"Open\": 1.0, \"Promo\": 0, \"StateHoliday\": \"0\", \"SchoolHoliday\": 1, \"StoreType\": \"a\", \"Assortment\": \"c\", \"CompetitionDistance\": 1070.0, \"CompetitionOpenSinceMonth\": NaN, \"CompetitionOpenSinceYear\": NaN, \"Promo2\": 1, \"Promo2SinceWeek\": 13.0, \"Promo2SinceYear\": 2010.0, \"PromoInterval\": \"Jan,Apr,Jul,Oct\"}, {\"Store\": 22, \"DayOfWeek\": 1, \"Date\": \"2015-08-10\", \"Open\": 1.0, \"Promo\": 0, \"StateHoliday\": \"0\", \"SchoolHoliday\": 1, \"StoreType\": \"a\", \"Assortment\": \"a\", \"CompetitionDistance\": 1040.0, \"CompetitionOpenSinceMonth\": NaN, \"CompetitionOpenSinceYear\": NaN, \"Promo2\": 1, \"Promo2SinceWeek\": 22.0, \"Promo2SinceYear\": 2012.0, \"PromoInterval\": \"Jan,Apr,Jul,Oct\"}, {\"Store\": 24, \"DayOfWeek\": 1, \"Date\": \"2015-08-10\", \"Open\": 1.0, \"Promo\": 0, \"StateHoliday\": \"0\", \"SchoolHoliday\": 1, \"StoreType\": \"a\", \"Assortment\": \"c\", \"CompetitionDistance\": 4590.0, \"CompetitionOpenSinceMonth\": 3.0, \"CompetitionOpenSinceYear\": 2000.0, \"Promo2\": 1, \"Promo2SinceWeek\": 40.0, \"Promo2SinceYear\": 2011.0, \"PromoInterval\": \"Jan,Apr,Jul,Oct\"}, {\"Store\": 12, \"DayOfWeek\": 6, \"Date\": \"2015-08-08\", \"Open\": 1.0, \"Promo\": 0, \"StateHoliday\": \"0\", \"SchoolHoliday\": 0, \"StoreType\": \"a\", \"Assortment\": \"c\", \"CompetitionDistance\": 1070.0, \"CompetitionOpenSinceMonth\": NaN, \"CompetitionOpenSinceYear\": NaN, \"Promo2\": 1, \"Promo2SinceWeek\": 13.0, \"Promo2SinceYear\": 2010.0, \"PromoInterval\": \"Jan,Apr,Jul,Oct\"}, {\"Store\": 22, \"DayOfWeek\": 6, \"Date\": \"2015-08-08\", \"Open\": 1.0, \"Promo\": 0, \"StateHoliday\": \"0\", \"SchoolHoliday\": 0, \"StoreType\": \"a\", \"Assortment\": \"a\", \"CompetitionDistance\": 1040.0, \"CompetitionOpenSinceMonth\": NaN, \"CompetitionOpenSinceYear\": NaN, \"Promo2\": 1, \"Promo2SinceWeek\": 22.0, \"Promo2SinceYear\": 2012.0, \"PromoInterval\": \"Jan,Apr,Jul,Oct\"}, {\"Store\": 24, \"DayOfWeek\": 6, \"Date\": \"2015-08-08\", \"Open\": 1.0, \"Promo\": 0, \"StateHoliday\": \"0\", \"SchoolHoliday\": 0, \"StoreType\": \"a\", \"Assortment\": \"c\", \"CompetitionDistance\": 4590.0, \"CompetitionOpenSinceMonth\": 3.0, \"CompetitionOpenSinceYear\": 2000.0, \"Promo2\": 1, \"Promo2SinceWeek\": 40.0, \"Promo2SinceYear\": 2011.0, \"PromoInterval\": \"Jan,Apr,Jul,Oct\"}, {\"Store\": 12, \"DayOfWeek\": 5, \"Date\": \"2015-08-07\", \"Open\": 1.0, \"Promo\": 1, \"StateHoliday\": \"0\", \"SchoolHoliday\": 1, \"StoreType\": \"a\", \"Assortment\": \"c\", \"CompetitionDistance\": 1070.0, \"CompetitionOpenSinceMonth\": NaN, \"CompetitionOpenSinceYear\": NaN, \"Promo2\": 1, \"Promo2SinceWeek\": 13.0, \"Promo2SinceYear\": 2010.0, \"PromoInterval\": \"Jan,Apr,Jul,Oct\"}, {\"Store\": 22, \"DayOfWeek\": 5, \"Date\": \"2015-08-07\", \"Open\": 1.0, \"Promo\": 1, \"StateHoliday\": \"0\", \"SchoolHoliday\": 1, \"StoreType\": \"a\", \"Assortment\": \"a\", \"CompetitionDistance\": 1040.0, \"CompetitionOpenSinceMonth\": NaN, \"CompetitionOpenSinceYear\": NaN, \"Promo2\": 1, \"Promo2SinceWeek\": 22.0, \"Promo2SinceYear\": 2012.0, \"PromoInterval\": \"Jan,Apr,Jul,Oct\"}, {\"Store\": 24, \"DayOfWeek\": 5, \"Date\": \"2015-08-07\", \"Open\": 1.0, \"Promo\": 1, \"StateHoliday\": \"0\", \"SchoolHoliday\": 1, \"StoreType\": \"a\", \"Assortment\": \"c\", \"CompetitionDistance\": 4590.0, \"CompetitionOpenSinceMonth\": 3.0, \"CompetitionOpenSinceYear\": 2000.0, \"Promo2\": 1, \"Promo2SinceWeek\": 40.0, \"Promo2SinceYear\": 2011.0, \"PromoInterval\": \"Jan,Apr,Jul,Oct\"}, {\"Store\": 12, \"DayOfWeek\": 4, \"Date\": \"2015-08-06\", \"Open\": 1.0, \"Promo\": 1, \"StateHoliday\": \"0\", \"SchoolHoliday\": 1, \"StoreType\": \"a\", \"Assortment\": \"c\", \"CompetitionDistance\": 1070.0, \"CompetitionOpenSinceMonth\": NaN, \"CompetitionOpenSinceYear\": NaN, \"Promo2\": 1, \"Promo2SinceWeek\": 13.0, \"Promo2SinceYear\": 2010.0, \"PromoInterval\": \"Jan,Apr,Jul,Oct\"}, {\"Store\": 22, \"DayOfWeek\": 4, \"Date\": \"2015-08-06\", \"Open\": 1.0, \"Promo\": 1, \"StateHoliday\": \"0\", \"SchoolHoliday\": 1, \"StoreType\": \"a\", \"Assortment\": \"a\", \"CompetitionDistance\": 1040.0, \"CompetitionOpenSinceMonth\": NaN, \"CompetitionOpenSinceYear\": NaN, \"Promo2\": 1, \"Promo2SinceWeek\": 22.0, \"Promo2SinceYear\": 2012.0, \"PromoInterval\": \"Jan,Apr,Jul,Oct\"}, {\"Store\": 24, \"DayOfWeek\": 4, \"Date\": \"2015-08-06\", \"Open\": 1.0, \"Promo\": 1, \"StateHoliday\": \"0\", \"SchoolHoliday\": 1, \"StoreType\": \"a\", \"Assortment\": \"c\", \"CompetitionDistance\": 4590.0, \"CompetitionOpenSinceMonth\": 3.0, \"CompetitionOpenSinceYear\": 2000.0, \"Promo2\": 1, \"Promo2SinceWeek\": 40.0, \"Promo2SinceYear\": 2011.0, \"PromoInterval\": \"Jan,Apr,Jul,Oct\"}, {\"Store\": 12, \"DayOfWeek\": 3, \"Date\": \"2015-08-05\", \"Open\": 1.0, \"Promo\": 1, \"StateHoliday\": \"0\", \"SchoolHoliday\": 1, \"StoreType\": \"a\", \"Assortment\": \"c\", \"CompetitionDistance\": 1070.0, \"CompetitionOpenSinceMonth\": NaN, \"CompetitionOpenSinceYear\": NaN, \"Promo2\": 1, \"Promo2SinceWeek\": 13.0, \"Promo2SinceYear\": 2010.0, \"PromoInterval\": \"Jan,Apr,Jul,Oct\"}, {\"Store\": 22, \"DayOfWeek\": 3, \"Date\": \"2015-08-05\", \"Open\": 1.0, \"Promo\": 1, \"StateHoliday\": \"0\", \"SchoolHoliday\": 1, \"StoreType\": \"a\", \"Assortment\": \"a\", \"CompetitionDistance\": 1040.0, \"CompetitionOpenSinceMonth\": NaN, \"CompetitionOpenSinceYear\": NaN, \"Promo2\": 1, \"Promo2SinceWeek\": 22.0, \"Promo2SinceYear\": 2012.0, \"PromoInterval\": \"Jan,Apr,Jul,Oct\"}, {\"Store\": 24, \"DayOfWeek\": 3, \"Date\": \"2015-08-05\", \"Open\": 1.0, \"Promo\": 1, \"StateHoliday\": \"0\", \"SchoolHoliday\": 1, \"StoreType\": \"a\", \"Assortment\": \"c\", \"CompetitionDistance\": 4590.0, \"CompetitionOpenSinceMonth\": 3.0, \"CompetitionOpenSinceYear\": 2000.0, \"Promo2\": 1, \"Promo2SinceWeek\": 40.0, \"Promo2SinceYear\": 2011.0, \"PromoInterval\": \"Jan,Apr,Jul,Oct\"}, {\"Store\": 12, \"DayOfWeek\": 2, \"Date\": \"2015-08-04\", \"Open\": 1.0, \"Promo\": 1, \"StateHoliday\": \"0\", \"SchoolHoliday\": 1, \"StoreType\": \"a\", \"Assortment\": \"c\", \"CompetitionDistance\": 1070.0, \"CompetitionOpenSinceMonth\": NaN, \"CompetitionOpenSinceYear\": NaN, \"Promo2\": 1, \"Promo2SinceWeek\": 13.0, \"Promo2SinceYear\": 2010.0, \"PromoInterval\": \"Jan,Apr,Jul,Oct\"}, {\"Store\": 22, \"DayOfWeek\": 2, \"Date\": \"2015-08-04\", \"Open\": 1.0, \"Promo\": 1, \"StateHoliday\": \"0\", \"SchoolHoliday\": 1, \"StoreType\": \"a\", \"Assortment\": \"a\", \"CompetitionDistance\": 1040.0, \"CompetitionOpenSinceMonth\": NaN, \"CompetitionOpenSinceYear\": NaN, \"Promo2\": 1, \"Promo2SinceWeek\": 22.0, \"Promo2SinceYear\": 2012.0, \"PromoInterval\": \"Jan,Apr,Jul,Oct\"}, {\"Store\": 24, \"DayOfWeek\": 2, \"Date\": \"2015-08-04\", \"Open\": 1.0, \"Promo\": 1, \"StateHoliday\": \"0\", \"SchoolHoliday\": 1, \"StoreType\": \"a\", \"Assortment\": \"c\", \"CompetitionDistance\": 4590.0, \"CompetitionOpenSinceMonth\": 3.0, \"CompetitionOpenSinceYear\": 2000.0, \"Promo2\": 1, \"Promo2SinceWeek\": 40.0, \"Promo2SinceYear\": 2011.0, \"PromoInterval\": \"Jan,Apr,Jul,Oct\"}, {\"Store\": 12, \"DayOfWeek\": 1, \"Date\": \"2015-08-03\", \"Open\": 1.0, \"Promo\": 1, \"StateHoliday\": \"0\", \"SchoolHoliday\": 1, \"StoreType\": \"a\", \"Assortment\": \"c\", \"CompetitionDistance\": 1070.0, \"CompetitionOpenSinceMonth\": NaN, \"CompetitionOpenSinceYear\": NaN, \"Promo2\": 1, \"Promo2SinceWeek\": 13.0, \"Promo2SinceYear\": 2010.0, \"PromoInterval\": \"Jan,Apr,Jul,Oct\"}, {\"Store\": 22, \"DayOfWeek\": 1, \"Date\": \"2015-08-03\", \"Open\": 1.0, \"Promo\": 1, \"StateHoliday\": \"0\", \"SchoolHoliday\": 1, \"StoreType\": \"a\", \"Assortment\": \"a\", \"CompetitionDistance\": 1040.0, \"CompetitionOpenSinceMonth\": NaN, \"CompetitionOpenSinceYear\": NaN, \"Promo2\": 1, \"Promo2SinceWeek\": 22.0, \"Promo2SinceYear\": 2012.0, \"PromoInterval\": \"Jan,Apr,Jul,Oct\"}, {\"Store\": 24, \"DayOfWeek\": 1, \"Date\": \"2015-08-03\", \"Open\": 1.0, \"Promo\": 1, \"StateHoliday\": \"0\", \"SchoolHoliday\": 1, \"StoreType\": \"a\", \"Assortment\": \"c\", \"CompetitionDistance\": 4590.0, \"CompetitionOpenSinceMonth\": 3.0, \"CompetitionOpenSinceYear\": 2000.0, \"Promo2\": 1, \"Promo2SinceWeek\": 40.0, \"Promo2SinceYear\": 2011.0, \"PromoInterval\": \"Jan,Apr,Jul,Oct\"}, {\"Store\": 12, \"DayOfWeek\": 6, \"Date\": \"2015-08-01\", \"Open\": 1.0, \"Promo\": 0, \"StateHoliday\": \"0\", \"SchoolHoliday\": 0, \"StoreType\": \"a\", \"Assortment\": \"c\", \"CompetitionDistance\": 1070.0, \"CompetitionOpenSinceMonth\": NaN, \"CompetitionOpenSinceYear\": NaN, \"Promo2\": 1, \"Promo2SinceWeek\": 13.0, \"Promo2SinceYear\": 2010.0, \"PromoInterval\": \"Jan,Apr,Jul,Oct\"}, {\"Store\": 22, \"DayOfWeek\": 6, \"Date\": \"2015-08-01\", \"Open\": 1.0, \"Promo\": 0, \"StateHoliday\": \"0\", \"SchoolHoliday\": 0, \"StoreType\": \"a\", \"Assortment\": \"a\", \"CompetitionDistance\": 1040.0, \"CompetitionOpenSinceMonth\": NaN, \"CompetitionOpenSinceYear\": NaN, \"Promo2\": 1, \"Promo2SinceWeek\": 22.0, \"Promo2SinceYear\": 2012.0, \"PromoInterval\": \"Jan,Apr,Jul,Oct\"}, {\"Store\": 24, \"DayOfWeek\": 6, \"Date\": \"2015-08-01\", \"Open\": 1.0, \"Promo\": 0, \"StateHoliday\": \"0\", \"SchoolHoliday\": 0, \"StoreType\": \"a\", \"Assortment\": \"c\", \"CompetitionDistance\": 4590.0, \"CompetitionOpenSinceMonth\": 3.0, \"CompetitionOpenSinceYear\": 2000.0, \"Promo2\": 1, \"Promo2SinceWeek\": 40.0, \"Promo2SinceYear\": 2011.0, \"PromoInterval\": \"Jan,Apr,Jul,Oct\"}]'"
      ]
     },
     "execution_count": 283,
     "metadata": {},
     "output_type": "execute_result"
    }
   ],
   "source": [
    "data"
   ]
  },
  {
   "cell_type": "code",
   "execution_count": 284,
   "id": "dd841a11",
   "metadata": {},
   "outputs": [
    {
     "name": "stdout",
     "output_type": "stream",
     "text": [
      "Status Code 200\n"
     ]
    }
   ],
   "source": [
    "# API Call\n",
    "#url = 'http://127.0.0.1:5000/rossmann/predict'\n",
    "url = 'https://rossmann-store-sales.herokuapp.com/rossmann/predict'\n",
    "header = {'Content-type': 'application/json' }\n",
    "data = data\n",
    "r = requests.post( url, data=data, headers=header )\n",
    "print( 'Status Code {}'.format( r.status_code ) )"
   ]
  },
  {
   "cell_type": "code",
   "execution_count": 285,
   "id": "14de395d",
   "metadata": {},
   "outputs": [],
   "source": [
    "d1 = pd.DataFrame( r.json(), columns=r.json()[0].keys() )"
   ]
  },
  {
   "cell_type": "code",
   "execution_count": 286,
   "id": "31296367",
   "metadata": {},
   "outputs": [
    {
     "data": {
      "text/html": [
       "<div>\n",
       "<style scoped>\n",
       "    .dataframe tbody tr th:only-of-type {\n",
       "        vertical-align: middle;\n",
       "    }\n",
       "\n",
       "    .dataframe tbody tr th {\n",
       "        vertical-align: top;\n",
       "    }\n",
       "\n",
       "    .dataframe thead th {\n",
       "        text-align: right;\n",
       "    }\n",
       "</style>\n",
       "<table border=\"1\" class=\"dataframe\">\n",
       "  <thead>\n",
       "    <tr style=\"text-align: right;\">\n",
       "      <th></th>\n",
       "      <th>store</th>\n",
       "      <th>day_of_week</th>\n",
       "      <th>date</th>\n",
       "      <th>open</th>\n",
       "      <th>promo</th>\n",
       "      <th>state_holiday</th>\n",
       "      <th>school_holiday</th>\n",
       "      <th>store_type</th>\n",
       "      <th>assortment</th>\n",
       "      <th>competition_distance</th>\n",
       "      <th>competition_open_since_month</th>\n",
       "      <th>competition_open_since_year</th>\n",
       "      <th>promo2</th>\n",
       "      <th>promo2_since_week</th>\n",
       "      <th>promo2_since_year</th>\n",
       "      <th>promo_interval</th>\n",
       "      <th>month_map</th>\n",
       "      <th>is_promo</th>\n",
       "      <th>year</th>\n",
       "      <th>month</th>\n",
       "      <th>day</th>\n",
       "      <th>week_of_year</th>\n",
       "      <th>year_week</th>\n",
       "      <th>competition_since</th>\n",
       "      <th>competition_time_month</th>\n",
       "      <th>promo_since</th>\n",
       "      <th>promo_time_week</th>\n",
       "      <th>prediction</th>\n",
       "    </tr>\n",
       "  </thead>\n",
       "  <tbody>\n",
       "    <tr>\n",
       "      <th>0</th>\n",
       "      <td>12</td>\n",
       "      <td>4</td>\n",
       "      <td>2015-09-17T00:00:00.000Z</td>\n",
       "      <td>1.00</td>\n",
       "      <td>1</td>\n",
       "      <td>regular_day</td>\n",
       "      <td>0</td>\n",
       "      <td>a</td>\n",
       "      <td>extended</td>\n",
       "      <td>1,070.00</td>\n",
       "      <td>9</td>\n",
       "      <td>2015</td>\n",
       "      <td>1</td>\n",
       "      <td>13</td>\n",
       "      <td>2010</td>\n",
       "      <td>Jan,Apr,Jul,Oct</td>\n",
       "      <td>Sep</td>\n",
       "      <td>0</td>\n",
       "      <td>2015</td>\n",
       "      <td>9</td>\n",
       "      <td>17</td>\n",
       "      <td>38</td>\n",
       "      <td>2015-37</td>\n",
       "      <td>2015-09-01T00:00:00.000Z</td>\n",
       "      <td>0</td>\n",
       "      <td>2010-03-22T00:00:00.000Z</td>\n",
       "      <td>286</td>\n",
       "      <td>6,523.37</td>\n",
       "    </tr>\n",
       "    <tr>\n",
       "      <th>1</th>\n",
       "      <td>22</td>\n",
       "      <td>4</td>\n",
       "      <td>2015-09-17T00:00:00.000Z</td>\n",
       "      <td>1.00</td>\n",
       "      <td>1</td>\n",
       "      <td>regular_day</td>\n",
       "      <td>0</td>\n",
       "      <td>a</td>\n",
       "      <td>basic</td>\n",
       "      <td>1,040.00</td>\n",
       "      <td>9</td>\n",
       "      <td>2015</td>\n",
       "      <td>1</td>\n",
       "      <td>22</td>\n",
       "      <td>2012</td>\n",
       "      <td>Jan,Apr,Jul,Oct</td>\n",
       "      <td>Sep</td>\n",
       "      <td>0</td>\n",
       "      <td>2015</td>\n",
       "      <td>9</td>\n",
       "      <td>17</td>\n",
       "      <td>38</td>\n",
       "      <td>2015-37</td>\n",
       "      <td>2015-09-01T00:00:00.000Z</td>\n",
       "      <td>0</td>\n",
       "      <td>2012-05-21T00:00:00.000Z</td>\n",
       "      <td>173</td>\n",
       "      <td>4,619.05</td>\n",
       "    </tr>\n",
       "    <tr>\n",
       "      <th>2</th>\n",
       "      <td>24</td>\n",
       "      <td>4</td>\n",
       "      <td>2015-09-17T00:00:00.000Z</td>\n",
       "      <td>1.00</td>\n",
       "      <td>1</td>\n",
       "      <td>regular_day</td>\n",
       "      <td>0</td>\n",
       "      <td>a</td>\n",
       "      <td>extended</td>\n",
       "      <td>4,590.00</td>\n",
       "      <td>3</td>\n",
       "      <td>2000</td>\n",
       "      <td>1</td>\n",
       "      <td>40</td>\n",
       "      <td>2011</td>\n",
       "      <td>Jan,Apr,Jul,Oct</td>\n",
       "      <td>Sep</td>\n",
       "      <td>0</td>\n",
       "      <td>2015</td>\n",
       "      <td>9</td>\n",
       "      <td>17</td>\n",
       "      <td>38</td>\n",
       "      <td>2015-37</td>\n",
       "      <td>2000-03-01T00:00:00.000Z</td>\n",
       "      <td>189</td>\n",
       "      <td>2011-09-26T00:00:00.000Z</td>\n",
       "      <td>207</td>\n",
       "      <td>12,737.18</td>\n",
       "    </tr>\n",
       "    <tr>\n",
       "      <th>3</th>\n",
       "      <td>12</td>\n",
       "      <td>3</td>\n",
       "      <td>2015-09-16T00:00:00.000Z</td>\n",
       "      <td>1.00</td>\n",
       "      <td>1</td>\n",
       "      <td>regular_day</td>\n",
       "      <td>0</td>\n",
       "      <td>a</td>\n",
       "      <td>extended</td>\n",
       "      <td>1,070.00</td>\n",
       "      <td>9</td>\n",
       "      <td>2015</td>\n",
       "      <td>1</td>\n",
       "      <td>13</td>\n",
       "      <td>2010</td>\n",
       "      <td>Jan,Apr,Jul,Oct</td>\n",
       "      <td>Sep</td>\n",
       "      <td>0</td>\n",
       "      <td>2015</td>\n",
       "      <td>9</td>\n",
       "      <td>16</td>\n",
       "      <td>38</td>\n",
       "      <td>2015-37</td>\n",
       "      <td>2015-09-01T00:00:00.000Z</td>\n",
       "      <td>0</td>\n",
       "      <td>2010-03-22T00:00:00.000Z</td>\n",
       "      <td>286</td>\n",
       "      <td>6,594.04</td>\n",
       "    </tr>\n",
       "    <tr>\n",
       "      <th>4</th>\n",
       "      <td>22</td>\n",
       "      <td>3</td>\n",
       "      <td>2015-09-16T00:00:00.000Z</td>\n",
       "      <td>1.00</td>\n",
       "      <td>1</td>\n",
       "      <td>regular_day</td>\n",
       "      <td>0</td>\n",
       "      <td>a</td>\n",
       "      <td>basic</td>\n",
       "      <td>1,040.00</td>\n",
       "      <td>9</td>\n",
       "      <td>2015</td>\n",
       "      <td>1</td>\n",
       "      <td>22</td>\n",
       "      <td>2012</td>\n",
       "      <td>Jan,Apr,Jul,Oct</td>\n",
       "      <td>Sep</td>\n",
       "      <td>0</td>\n",
       "      <td>2015</td>\n",
       "      <td>9</td>\n",
       "      <td>16</td>\n",
       "      <td>38</td>\n",
       "      <td>2015-37</td>\n",
       "      <td>2015-09-01T00:00:00.000Z</td>\n",
       "      <td>0</td>\n",
       "      <td>2012-05-21T00:00:00.000Z</td>\n",
       "      <td>173</td>\n",
       "      <td>4,682.25</td>\n",
       "    </tr>\n",
       "  </tbody>\n",
       "</table>\n",
       "</div>"
      ],
      "text/plain": [
       "   store  day_of_week                      date  open  promo state_holiday  school_holiday store_type assortment  competition_distance  competition_open_since_month  competition_open_since_year  promo2  promo2_since_week  promo2_since_year   promo_interval month_map  is_promo  year  month  day  week_of_year year_week         competition_since  competition_time_month               promo_since  promo_time_week  prediction\n",
       "0     12            4  2015-09-17T00:00:00.000Z  1.00      1   regular_day               0          a   extended              1,070.00                             9                         2015       1                 13               2010  Jan,Apr,Jul,Oct       Sep         0  2015      9   17            38   2015-37  2015-09-01T00:00:00.000Z                       0  2010-03-22T00:00:00.000Z              286    6,523.37\n",
       "1     22            4  2015-09-17T00:00:00.000Z  1.00      1   regular_day               0          a      basic              1,040.00                             9                         2015       1                 22               2012  Jan,Apr,Jul,Oct       Sep         0  2015      9   17            38   2015-37  2015-09-01T00:00:00.000Z                       0  2012-05-21T00:00:00.000Z              173    4,619.05\n",
       "2     24            4  2015-09-17T00:00:00.000Z  1.00      1   regular_day               0          a   extended              4,590.00                             3                         2000       1                 40               2011  Jan,Apr,Jul,Oct       Sep         0  2015      9   17            38   2015-37  2000-03-01T00:00:00.000Z                     189  2011-09-26T00:00:00.000Z              207   12,737.18\n",
       "3     12            3  2015-09-16T00:00:00.000Z  1.00      1   regular_day               0          a   extended              1,070.00                             9                         2015       1                 13               2010  Jan,Apr,Jul,Oct       Sep         0  2015      9   16            38   2015-37  2015-09-01T00:00:00.000Z                       0  2010-03-22T00:00:00.000Z              286    6,594.04\n",
       "4     22            3  2015-09-16T00:00:00.000Z  1.00      1   regular_day               0          a      basic              1,040.00                             9                         2015       1                 22               2012  Jan,Apr,Jul,Oct       Sep         0  2015      9   16            38   2015-37  2015-09-01T00:00:00.000Z                       0  2012-05-21T00:00:00.000Z              173    4,682.25"
      ]
     },
     "execution_count": 286,
     "metadata": {},
     "output_type": "execute_result"
    }
   ],
   "source": [
    "d1.head()"
   ]
  },
  {
   "cell_type": "code",
   "execution_count": 287,
   "id": "2ba29e3a",
   "metadata": {},
   "outputs": [
    {
     "name": "stdout",
     "output_type": "stream",
     "text": [
      "A loja 12 irá vender R$272,456.77 nas próximas 6 semanas.\n",
      "A loja 22 irá vender R$187,162.12 nas próximas 6 semanas.\n",
      "A loja 24 irá vender R$502,426.32 nas próximas 6 semanas.\n"
     ]
    }
   ],
   "source": [
    "d2 = d1[['store', 'prediction']].groupby( 'store' ).sum().reset_index()\n",
    "for i in range( len( d2 ) ):\n",
    "    print( 'A loja {} irá vender R${:,.2f} nas próximas 6 semanas.'.format(d2.loc[i, 'store'], d2.loc[i, 'prediction'] ) )"
   ]
  }
 ],
 "metadata": {
  "kernelspec": {
   "display_name": "Python 3 (ipykernel)",
   "language": "python",
   "name": "python3"
  },
  "language_info": {
   "codemirror_mode": {
    "name": "ipython",
    "version": 3
   },
   "file_extension": ".py",
   "mimetype": "text/x-python",
   "name": "python",
   "nbconvert_exporter": "python",
   "pygments_lexer": "ipython3",
   "version": "3.8.10"
  }
 },
 "nbformat": 4,
 "nbformat_minor": 5
}
