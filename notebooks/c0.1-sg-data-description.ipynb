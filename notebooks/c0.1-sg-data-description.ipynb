{
 "cells": [
  {
   "cell_type": "markdown",
   "id": "4cd22dd5",
   "metadata": {},
   "source": [
    "# 0.0. IMPORTS"
   ]
  },
  {
   "cell_type": "code",
   "execution_count": 57,
   "id": "9a0fad5a",
   "metadata": {
    "ExecuteTime": {
     "end_time": "2021-07-11T16:36:45.841647Z",
     "start_time": "2021-07-11T16:36:45.823643Z"
    }
   },
   "outputs": [],
   "source": [
    "import inflection\n",
    "import math\n",
    "\n",
    "import numpy             as np\n",
    "import matplotlib.pyplot as plt\n",
    "import pandas            as pd\n",
    "import seaborn           as sns\n",
    "\n",
    "from IPython.core.display import HTML\n",
    "from IPython.display import Image\n"
   ]
  },
  {
   "cell_type": "markdown",
   "id": "37b2be99",
   "metadata": {},
   "source": [
    "## 0.1. Helper Functions"
   ]
  },
  {
   "cell_type": "code",
   "execution_count": 40,
   "id": "c7a70d87",
   "metadata": {
    "ExecuteTime": {
     "end_time": "2021-07-11T16:18:43.686694Z",
     "start_time": "2021-07-11T16:18:43.662184Z"
    },
    "code_folding": [
     0,
     4,
     19,
     26,
     31,
     36
    ]
   },
   "outputs": [],
   "source": [
    "def load_csv(path):\n",
    "    df = pd.read_csv(path, low_memory=False)\n",
    "    return df\n",
    "\n",
    "def rename_columns(df, old_columns):\n",
    "    snakecase = lambda x: inflection.underscore(x)\n",
    "\n",
    "    cols_new = list(map(snakecase, old_columns))\n",
    "\n",
    "    print(f\"Old columns: {df.columns.to_list()}\")\n",
    "    \n",
    "    # Rename\n",
    "    df.columns = cols_new\n",
    "    \n",
    "    print(f\"\\nNew columns: {df.columns.to_list()}\")\n",
    "\n",
    "    print('\\n', df.columns)\n",
    "    return df\n",
    "\n",
    "def show_dimensions(df):\n",
    "    print(f\"Number of Rows:    {df1.shape[0]}\")\n",
    "    print(f\"Number of Columns: {df1.shape[1]}\")\n",
    "    print(f\"Shape:             {df1.shape}\")\n",
    "    \n",
    "    return None\n",
    "\n",
    "def show_data_types(df):\n",
    "    print(df.dtypes)\n",
    "    \n",
    "    return None\n",
    "\n",
    "def check_na(df):\n",
    "    print(df.isna().sum())\n",
    "    \n",
    "    return None\n",
    "\n",
    "def show_descriptive_statistical(df):\n",
    "    # Central Tendency - mean, median\n",
    "    ct1 = pd.DataFrame(df.apply(np.mean)).T\n",
    "    ct2 = pd.DataFrame(df.apply(np.median)).T\n",
    "\n",
    "    # Dispersion - std, min, max, range, skew, kurtosis\n",
    "    d1 = pd.DataFrame(df.apply(np.std)).T\n",
    "    d2 = pd.DataFrame(df.apply(min)).T\n",
    "    d3 = pd.DataFrame(df.apply(max)).T\n",
    "    d4 = pd.DataFrame(df.apply(lambda x: x.max() - x.min())).T\n",
    "    d5 = pd.DataFrame(df.apply(lambda x: x.skew())).T\n",
    "    d6 = pd.DataFrame(df.apply(lambda x: x.kurtosis())).T\n",
    "\n",
    "    m = pd.concat([d2, d3, d4, ct1, ct2, d1, d5, d6]).T.reset_index()\n",
    "    m.columns = ['attributes', 'min', 'max', 'range', 'mean', 'median', 'std', 'skew', 'kurtosis']\n",
    "    print(m)\n",
    "    \n",
    "def jupyter_settings():\n",
    "    %matplotlib inline\n",
    "    %pylab inline\n",
    "    \n",
    "    plt.style.use( 'ggplot')\n",
    "    plt.rcParams['figure.figsize'] = [24, 9]\n",
    "    plt.rcParams['font.size'] = 24\n",
    "    \n",
    "    display( HTML( '<style>.container { width:100% !important; }</style>') )\n",
    "    pd.options.display.max_columns = None\n",
    "    pd.options.display.max_rows = None\n",
    "    pd.set_option( 'display.expand_frame_repr', False )\n",
    "    \n",
    "    sns.set()"
   ]
  },
  {
   "cell_type": "code",
   "execution_count": 41,
   "id": "acfd327c",
   "metadata": {
    "ExecuteTime": {
     "end_time": "2021-07-11T16:18:45.453409Z",
     "start_time": "2021-07-11T16:18:45.439407Z"
    }
   },
   "outputs": [
    {
     "name": "stdout",
     "output_type": "stream",
     "text": [
      "Populating the interactive namespace from numpy and matplotlib\n"
     ]
    },
    {
     "data": {
      "text/html": [
       "<style>.container { width:100% !important; }</style>"
      ],
      "text/plain": [
       "<IPython.core.display.HTML object>"
      ]
     },
     "metadata": {},
     "output_type": "display_data"
    }
   ],
   "source": [
    "jupyter_settings()"
   ]
  },
  {
   "cell_type": "markdown",
   "id": "1ad0248f",
   "metadata": {
    "ExecuteTime": {
     "end_time": "2021-07-10T20:39:45.038829Z",
     "start_time": "2021-07-10T20:39:45.035829Z"
    },
    "heading_collapsed": true
   },
   "source": [
    "## 0.2. Path Definition"
   ]
  },
  {
   "cell_type": "code",
   "execution_count": 3,
   "id": "52dc3466",
   "metadata": {
    "ExecuteTime": {
     "end_time": "2021-07-11T15:44:40.326326Z",
     "start_time": "2021-07-11T15:44:40.324325Z"
    },
    "hidden": true
   },
   "outputs": [],
   "source": [
    "# path\n",
    "home_path = 'C:\\\\Users\\\\sindolfo\\\\rossmann-stores-sales\\\\'\n",
    "raw_data_path = 'data\\\\raw\\\\'\n",
    "interim_data_path = 'data\\\\interim\\\\'\n"
   ]
  },
  {
   "cell_type": "markdown",
   "id": "1977e844",
   "metadata": {
    "heading_collapsed": true
   },
   "source": [
    "## 0.3. Loading Data"
   ]
  },
  {
   "cell_type": "code",
   "execution_count": 4,
   "id": "3efd1bcb",
   "metadata": {
    "ExecuteTime": {
     "end_time": "2021-07-11T15:44:44.932633Z",
     "start_time": "2021-07-11T15:44:43.981537Z"
    },
    "hidden": true
   },
   "outputs": [],
   "source": [
    "## Historical data including Sales\n",
    "df_sales_raw = load_csv(home_path+raw_data_path+'train.csv')\n",
    "\n",
    "## Supplemental information about the stores\n",
    "df_store_raw = load_csv(home_path+raw_data_path+'store.csv')\n",
    "\n",
    "# Merge\n",
    "df_raw = pd.merge(df_sales_raw, df_store_raw, how='left', on='Store')"
   ]
  },
  {
   "cell_type": "markdown",
   "id": "ab64b8fd",
   "metadata": {},
   "source": [
    "# 1.0. DATA DESCRIPTION"
   ]
  },
  {
   "cell_type": "code",
   "execution_count": 5,
   "id": "5d9b4c9c",
   "metadata": {
    "ExecuteTime": {
     "end_time": "2021-07-11T15:44:52.103800Z",
     "start_time": "2021-07-11T15:44:46.989562Z"
    }
   },
   "outputs": [],
   "source": [
    "df1 = df_raw.copy()\n",
    "df1.to_csv(home_path+interim_data_path+'df1.csv')"
   ]
  },
  {
   "cell_type": "markdown",
   "id": "3e9284bf",
   "metadata": {},
   "source": [
    "### Data fields\n",
    "\n",
    "Most of the fields are self-explanatory. The following are descriptions for those that aren't.\n",
    "\n",
    "- **Id** - an Id that represents a (Store, Date) duple within the test set\n",
    "- **Store** - a unique Id for each store\n",
    "- **Sales** - the turnover for any given day (this is what you are predicting)\n",
    "- **Customers** - the number of customers on a given day\n",
    "- **Open** - an indicator for whether the store was open: 0 = closed, 1 = open\n",
    "- **StateHoliday** - indicates a state holiday. Normally\n",
    "all stores, with few exceptions, are closed on state holidays. Note that all schools are closed on public holidays and weekends. a = public\n",
    "holiday, b = Easter holiday, c = Christmas, 0 = None\n",
    "- **SchoolHoliday** - indicates if the (Store, Date) was affected by the closure of public schools\n",
    "- **StoreType** - differentiates between 4 different store models: a, b, c, d\n",
    "- **Assortment** - describes an assortment level: a = basic, b = extra, c = extended\n",
    "- **CompetitionDistance** - distance in meters to the nearest competitor store\n",
    "- **CompetitionOpenSince[Month/Year]** - gives the approximate year and month of the time the nearest competitor was opened\n",
    "- **Promo** - indicates whether a store is running a promo on that day\n",
    "- **Promo2** - Promo2 is a continuing and consecutive promotion for some stores: 0 = store is not participating, 1 = store is participating\n",
    "- **Promo2Since[Year/Week]** - describes the year and calendar week when the store started participating in Promo2\n",
    "- **PromoInterval** - describes the consecutive intervals Promo2 is started, naming the months the promotion is started anew.\n",
    "E.g. \"Feb,May,Aug,Nov\" means each round starts in February, May, August, November of any given year for that store"
   ]
  },
  {
   "cell_type": "markdown",
   "id": "65491833",
   "metadata": {
    "heading_collapsed": true
   },
   "source": [
    "## 1.1. Rename Columns"
   ]
  },
  {
   "cell_type": "code",
   "execution_count": 6,
   "id": "06a2a202",
   "metadata": {
    "ExecuteTime": {
     "end_time": "2021-07-11T15:44:59.170402Z",
     "start_time": "2021-07-11T15:44:59.150397Z"
    },
    "hidden": true
   },
   "outputs": [
    {
     "name": "stdout",
     "output_type": "stream",
     "text": [
      "Old columns: ['Store', 'DayOfWeek', 'Date', 'Sales', 'Customers', 'Open', 'Promo', 'StateHoliday', 'SchoolHoliday', 'StoreType', 'Assortment', 'CompetitionDistance', 'CompetitionOpenSinceMonth', 'CompetitionOpenSinceYear', 'Promo2', 'Promo2SinceWeek', 'Promo2SinceYear', 'PromoInterval']\n",
      "\n",
      "New columns: ['store', 'day_of_week', 'date', 'sales', 'customers', 'open', 'promo', 'state_holiday', 'school_holiday', 'store_type', 'assortment', 'competition_distance', 'competition_open_since_month', 'competition_open_since_year', 'promo2', 'promo2_since_week', 'promo2_since_year', 'promo_interval']\n",
      "\n",
      " Index(['store', 'day_of_week', 'date', 'sales', 'customers', 'open', 'promo',\n",
      "       'state_holiday', 'school_holiday', 'store_type', 'assortment',\n",
      "       'competition_distance', 'competition_open_since_month',\n",
      "       'competition_open_since_year', 'promo2', 'promo2_since_week',\n",
      "       'promo2_since_year', 'promo_interval'],\n",
      "      dtype='object')\n"
     ]
    }
   ],
   "source": [
    "cols_old = [\n",
    "    'Store', 'DayOfWeek', 'Date', 'Sales', 'Customers', 'Open', 'Promo',\n",
    "    'StateHoliday', 'SchoolHoliday', 'StoreType', 'Assortment',\n",
    "    'CompetitionDistance', 'CompetitionOpenSinceMonth',\n",
    "    'CompetitionOpenSinceYear', 'Promo2', 'Promo2SinceWeek',\n",
    "    'Promo2SinceYear', 'PromoInterval'\n",
    "]\n",
    "\n",
    "df1 = rename_columns(df1, cols_old)"
   ]
  },
  {
   "cell_type": "markdown",
   "id": "376cba36",
   "metadata": {
    "heading_collapsed": true
   },
   "source": [
    "## 1.2. Data Dimensions"
   ]
  },
  {
   "cell_type": "code",
   "execution_count": 7,
   "id": "d8703bcf",
   "metadata": {
    "ExecuteTime": {
     "end_time": "2021-07-11T15:45:03.816478Z",
     "start_time": "2021-07-11T15:45:03.806972Z"
    },
    "hidden": true
   },
   "outputs": [
    {
     "name": "stdout",
     "output_type": "stream",
     "text": [
      "Number of Rows:    1017209\n",
      "Number of Columns: 18\n",
      "Shape:             (1017209, 18)\n"
     ]
    }
   ],
   "source": [
    "show_dimensions(df1)"
   ]
  },
  {
   "cell_type": "markdown",
   "id": "bfbb2fee",
   "metadata": {
    "heading_collapsed": true
   },
   "source": [
    "## 1.3. Data Types"
   ]
  },
  {
   "cell_type": "code",
   "execution_count": 8,
   "id": "a9294e59",
   "metadata": {
    "ExecuteTime": {
     "end_time": "2021-07-11T15:45:06.468663Z",
     "start_time": "2021-07-11T15:45:06.360130Z"
    },
    "hidden": true
   },
   "outputs": [
    {
     "name": "stdout",
     "output_type": "stream",
     "text": [
      "store                             int64\n",
      "day_of_week                       int64\n",
      "date                             object\n",
      "sales                             int64\n",
      "customers                         int64\n",
      "open                              int64\n",
      "promo                             int64\n",
      "state_holiday                    object\n",
      "school_holiday                    int64\n",
      "store_type                       object\n",
      "assortment                       object\n",
      "competition_distance            float64\n",
      "competition_open_since_month    float64\n",
      "competition_open_since_year     float64\n",
      "promo2                            int64\n",
      "promo2_since_week               float64\n",
      "promo2_since_year               float64\n",
      "promo_interval                   object\n",
      "dtype: object\n"
     ]
    }
   ],
   "source": [
    "show_data_types(df1)\n",
    "\n",
    "## Date is a object type. This is wrong. In the section \"Types Changes\" others chages is made. \n",
    "df1['date'] = pd.to_datetime(df1['date'])"
   ]
  },
  {
   "cell_type": "markdown",
   "id": "276a819a",
   "metadata": {
    "heading_collapsed": true
   },
   "source": [
    "## 1.4. Check NA"
   ]
  },
  {
   "cell_type": "code",
   "execution_count": 9,
   "id": "e72e5a0e",
   "metadata": {
    "ExecuteTime": {
     "end_time": "2021-07-11T15:45:14.248133Z",
     "start_time": "2021-07-11T15:45:14.088438Z"
    },
    "hidden": true
   },
   "outputs": [
    {
     "name": "stdout",
     "output_type": "stream",
     "text": [
      "store                                0\n",
      "day_of_week                          0\n",
      "date                                 0\n",
      "sales                                0\n",
      "customers                            0\n",
      "open                                 0\n",
      "promo                                0\n",
      "state_holiday                        0\n",
      "school_holiday                       0\n",
      "store_type                           0\n",
      "assortment                           0\n",
      "competition_distance              2642\n",
      "competition_open_since_month    323348\n",
      "competition_open_since_year     323348\n",
      "promo2                               0\n",
      "promo2_since_week               508031\n",
      "promo2_since_year               508031\n",
      "promo_interval                  508031\n",
      "dtype: int64\n"
     ]
    }
   ],
   "source": [
    "check_na(df1)\n",
    "\n",
    "## Columns with NA vales\n",
    "## competition_distance              2642\n",
    "## competition_open_since_month    323348\n",
    "## competition_open_since_year     323348\n",
    "## promo2_since_week               508031\n",
    "## promo2_since_year               508031\n",
    "## promo_interval                  508031"
   ]
  },
  {
   "cell_type": "markdown",
   "id": "0e453efe",
   "metadata": {
    "ExecuteTime": {
     "end_time": "2021-07-10T19:39:24.939321Z",
     "start_time": "2021-07-10T19:39:24.933816Z"
    },
    "heading_collapsed": true
   },
   "source": [
    "## 1.5. Fillout NA"
   ]
  },
  {
   "cell_type": "code",
   "execution_count": 10,
   "id": "e961b11a",
   "metadata": {
    "ExecuteTime": {
     "end_time": "2021-07-11T15:46:21.546119Z",
     "start_time": "2021-07-11T15:45:22.377367Z"
    },
    "hidden": true
   },
   "outputs": [],
   "source": [
    "# competition_distance: distance in meters to the nearest competitor store\n",
    "# \n",
    "# Assumption: if there is a row that is NA in this column, \n",
    "# it is because there is no close competitor. \n",
    "# The way I used to represent this is to put \n",
    "# a number much larger than the maximum value \n",
    "# of the competition_distance variable.\n",
    "# \n",
    "# The number is 250000.\n",
    "df1['competition_distance'] = df1['competition_distance'].apply(lambda x : 250000 if math.isnan(x) else x)\n",
    "\n",
    "\n",
    "# competition_open_since_month: \n",
    "# gives the approximate year and month of the \n",
    "# time the nearest competitor was opened\n",
    "#\n",
    "# Assumption: I'm going to keep this variable because \n",
    "# it's important to have something that expresses \n",
    "# the feeling of \"since it happened\" or \"until when\".\n",
    "# \n",
    "# If it's NA I'll copy the month of sale of that line.\n",
    "df1['competition_open_since_month'] = df1.apply(lambda x: x['date'].month if math.isnan(x['competition_open_since_month']) else x['competition_open_since_month'], axis=1)\n",
    "\n",
    "#competition_open_since_year \n",
    "# The same assumption from competition_open_since_month\n",
    "df1['competition_open_since_year'] = df1.apply(lambda x: x['date'].year if math.isnan(x['competition_open_since_year']) else x['competition_open_since_year'], axis=1)\n",
    "\n",
    "\n",
    "# promo2_since_week: \n",
    "# describes the year and calendar week when the store started participating in Promo2\n",
    "# \n",
    "# The same assumption from competition_open_since_month\n",
    "df1['promo2_since_week'] = df1.apply(lambda x: x['date'].week if math.isnan(x['promo2_since_week']) else x['promo2_since_week'], axis=1)\n",
    "\n",
    "              \n",
    "# promo2_since_year:\n",
    "# describes the year and calendar week when the store started participating in Promo2\n",
    "df1['promo2_since_year'] = df1.apply(lambda x: x['date'].week if math.isnan(x['promo2_since_year']) else x['promo2_since_year'], axis=1)\n",
    "\n",
    "\n",
    "# promo_interval\n",
    "month_map = {1: 'Jan', 2: 'Feb', 3: 'Mar', 4: 'Apr', 5: 'May', 6: 'Jun', 7: 'Jul', 8: 'Aug',9: 'Sep', 10: 'Oct', 11: 'Nov', 12: 'Dec'}\n",
    "\n",
    "df1['promo_interval'].fillna(0, inplace=True)\n",
    "\n",
    "df1['month_map'] = df1['date'].dt.month.map(month_map)\n",
    "\n",
    "df1['is_promo'] = df1[['promo_interval', 'month_map']].apply(lambda x: 0 if x['promo_interval'] == 0 else 1 if x['month_map'] in x['promo_interval'].split(',') else 0, axis=1)"
   ]
  },
  {
   "cell_type": "markdown",
   "id": "d90d873f",
   "metadata": {
    "ExecuteTime": {
     "end_time": "2021-07-11T15:46:24.500384Z",
     "start_time": "2021-07-11T15:46:24.426862Z"
    },
    "heading_collapsed": true
   },
   "source": [
    "## 1.6. Type Changes"
   ]
  },
  {
   "cell_type": "code",
   "execution_count": 20,
   "id": "4d599c73",
   "metadata": {
    "ExecuteTime": {
     "end_time": "2021-07-11T15:52:10.413424Z",
     "start_time": "2021-07-11T15:52:10.388912Z"
    },
    "hidden": true
   },
   "outputs": [],
   "source": [
    "df1['competition_open_since_month'] = df1['competition_open_since_month'].astype('int64')\n",
    "df1['competition_open_since_year'] = df1['competition_open_since_year'].astype('int64')\n",
    "df1['promo2_since_week'] = df1['promo2_since_week'].astype('int64')\n",
    "df1['promo2_since_year'] = df1['promo2_since_year'].astype('int64')"
   ]
  },
  {
   "cell_type": "markdown",
   "id": "b956e720",
   "metadata": {},
   "source": [
    "## 1.7. Descriptive Statistical"
   ]
  },
  {
   "cell_type": "code",
   "execution_count": 22,
   "id": "dbbca3f3",
   "metadata": {
    "ExecuteTime": {
     "end_time": "2021-07-11T15:57:43.763908Z",
     "start_time": "2021-07-11T15:57:43.607170Z"
    }
   },
   "outputs": [],
   "source": [
    "num_attributes = df1.select_dtypes(include=['int64', 'float64'])\n",
    "cat_attributes = df1.select_dtypes(exclude=['int64', 'float64', 'datetime64[ns]'])"
   ]
  },
  {
   "cell_type": "markdown",
   "id": "c8aa4c6a",
   "metadata": {},
   "source": [
    "### 1.7.1 Numerical Attributes"
   ]
  },
  {
   "cell_type": "code",
   "execution_count": 31,
   "id": "95784934",
   "metadata": {
    "ExecuteTime": {
     "end_time": "2021-07-11T16:07:52.026455Z",
     "start_time": "2021-07-11T16:07:49.276217Z"
    }
   },
   "outputs": [
    {
     "name": "stdout",
     "output_type": "stream",
     "text": [
      "                      attributes     min       max     range         mean  \\\n",
      "0                          store     1.0    1115.0    1114.0   558.429727   \n",
      "1                    day_of_week     1.0       7.0       6.0     3.998341   \n",
      "2                          sales     0.0   41551.0   41551.0  5773.818972   \n",
      "3                      customers     0.0    7388.0    7388.0   633.145946   \n",
      "4                           open     0.0       1.0       1.0     0.830107   \n",
      "5                          promo     0.0       1.0       1.0     0.381515   \n",
      "6                 school_holiday     0.0       1.0       1.0     0.178647   \n",
      "7           competition_distance    20.0  250000.0  249980.0  6065.307828   \n",
      "8   competition_open_since_month     1.0      12.0      11.0     6.786849   \n",
      "9    competition_open_since_year  1900.0    2015.0     115.0  2010.324840   \n",
      "10                        promo2     0.0       1.0       1.0     0.500564   \n",
      "11             promo2_since_week     1.0      52.0      51.0    23.619033   \n",
      "12             promo2_since_year     1.0    2015.0    2014.0  1018.981976   \n",
      "13                      is_promo     0.0       1.0       1.0     0.165966   \n",
      "\n",
      "    median           std       skew    kurtosis  \n",
      "0    558.0    321.908493  -0.000955   -1.200524  \n",
      "1      4.0      1.997390   0.001593   -1.246873  \n",
      "2   5744.0   3849.924283   0.641460    1.778375  \n",
      "3    609.0    464.411506   1.598650    7.091773  \n",
      "4      1.0      0.375539  -1.758045    1.090723  \n",
      "5      0.0      0.485758   0.487838   -1.762018  \n",
      "6      0.0      0.383056   1.677842    0.815154  \n",
      "7   2330.0  14639.818286  12.406761  198.365569  \n",
      "8      7.0      3.311085  -0.042076   -1.232607  \n",
      "9   2012.0      5.515591  -7.235657  124.071304  \n",
      "10     1.0      0.500000  -0.002255   -1.999999  \n",
      "11    22.0     14.310057   0.178723   -1.184046  \n",
      "12  2009.0    993.944489  -0.002570   -1.999567  \n",
      "13     0.0      0.372050   1.795644    1.224338  \n"
     ]
    }
   ],
   "source": [
    "show_descriptive_statistical(num_attributes)"
   ]
  },
  {
   "cell_type": "code",
   "execution_count": 58,
   "id": "11cc0545",
   "metadata": {
    "ExecuteTime": {
     "end_time": "2021-07-11T16:37:15.501149Z",
     "start_time": "2021-07-11T16:37:14.393885Z"
    }
   },
   "outputs": [
    {
     "data": {
      "text/plain": [
       "<seaborn.axisgrid.FacetGrid at 0x23895c70b20>"
      ]
     },
     "execution_count": 58,
     "metadata": {},
     "output_type": "execute_result"
    },
    {
     "data": {
      "image/png": "[encoded data removed]",
      "text/plain": [
       "<Figure size 360x360 with 1 Axes>"
      ]
     },
     "metadata": {},
     "output_type": "display_data"
    }
   ],
   "source": [
    "sns.displot(df1['sales'])"
   ]
  },
  {
   "cell_type": "markdown",
   "id": "1f06d5ed",
   "metadata": {},
   "source": [
    "### 1.7.2 Categorical Attributes"
   ]
  },
  {
   "cell_type": "code",
   "execution_count": 49,
   "id": "22a08ff3",
   "metadata": {
    "ExecuteTime": {
     "end_time": "2021-07-11T16:23:41.388614Z",
     "start_time": "2021-07-11T16:23:41.227569Z"
    }
   },
   "outputs": [
    {
     "data": {
      "text/plain": [
       "state_holiday      4\n",
       "store_type         4\n",
       "assortment         3\n",
       "promo_interval     4\n",
       "month_map         12\n",
       "dtype: int64"
      ]
     },
     "execution_count": 49,
     "metadata": {},
     "output_type": "execute_result"
    }
   ],
   "source": [
    "cat_attributes.apply(lambda x: x.unique().shape[0])"
   ]
  },
  {
   "cell_type": "code",
   "execution_count": 55,
   "id": "4aa30c34",
   "metadata": {
    "ExecuteTime": {
     "end_time": "2021-07-11T16:28:40.678405Z",
     "start_time": "2021-07-11T16:28:40.314315Z"
    }
   },
   "outputs": [
    {
     "data": {
      "text/plain": [
       "<AxesSubplot:xlabel='assortment', ylabel='sales'>"
      ]
     },
     "execution_count": 55,
     "metadata": {},
     "output_type": "execute_result"
    },
    {
     "data": {
      "image/png": "[encoded data removed]",
      "text/plain": [
       "<Figure size 1728x648 with 3 Axes>"
      ]
     },
     "metadata": {},
     "output_type": "display_data"
    }
   ],
   "source": [
    "aux1 = df1[(df1['state_holiday'] != '0') & (df1['sales'] > 0)]\n",
    "\n",
    "plt.subplot(1, 3, 1)\n",
    "sns.boxplot(x='state_holiday', y='sales', data=aux1)\n",
    "\n",
    "plt.subplot(1, 3, 2)\n",
    "sns.boxplot(x='store_type', y='sales', data=aux1)\n",
    "\n",
    "plt.subplot(1, 3, 3)\n",
    "sns.boxplot(x='assortment', y='sales', data=aux1)"
   ]
  }
 ],
 "metadata": {
  "kernelspec": {
   "display_name": "Python 3",
   "language": "python",
   "name": "python3"
  },
  "language_info": {
   "codemirror_mode": {
    "name": "ipython",
    "version": 3
   },
   "file_extension": ".py",
   "mimetype": "text/x-python",
   "name": "python",
   "nbconvert_exporter": "python",
   "pygments_lexer": "ipython3",
   "version": "3.8.10"
  }
 },
 "nbformat": 4,
 "nbformat_minor": 5
}
